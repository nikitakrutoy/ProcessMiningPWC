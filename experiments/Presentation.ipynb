{
 "cells": [
  {
   "cell_type": "code",
   "execution_count": null,
   "metadata": {
    "ExecuteTime": {
     "end_time": "2018-05-14T16:09:46.549343Z",
     "start_time": "2018-05-14T16:09:46.486518Z"
    },
    "collapsed": true,
    "deletable": true,
    "editable": true
   },
   "outputs": [],
   "source": [
    "import numpy as np\n",
    "import pandas as pd\n",
    "import matplotlib.pyplot as plt\n",
    "import importlib as im\n",
    "import sys"
   ]
  },
  {
   "cell_type": "code",
   "execution_count": null,
   "metadata": {
    "ExecuteTime": {
     "end_time": "2018-05-14T16:09:46.874534Z",
     "start_time": "2018-05-14T16:09:46.857559Z"
    },
    "collapsed": true,
    "deletable": true,
    "editable": true
   },
   "outputs": [],
   "source": [
    "sys.path.append('/Users/nikitakrutoy/Projects/ProcessMiningPWC/tools')"
   ]
  },
  {
   "cell_type": "code",
   "execution_count": null,
   "metadata": {
    "ExecuteTime": {
     "end_time": "2018-05-14T16:15:16.487604Z",
     "start_time": "2018-05-14T16:15:16.476286Z"
    },
    "collapsed": true,
    "deletable": true,
    "editable": true
   },
   "outputs": [],
   "source": [
    "im.reload(m)\n",
    "import processmining.miners as m"
   ]
  },
  {
   "cell_type": "code",
   "execution_count": null,
   "metadata": {
    "ExecuteTime": {
     "end_time": "2018-05-14T16:15:18.590195Z",
     "start_time": "2018-05-14T16:15:18.586516Z"
    },
    "collapsed": true,
    "deletable": true,
    "editable": true
   },
   "outputs": [],
   "source": [
    "from processmining.preprocessing import Log, clean, prune"
   ]
  },
  {
   "cell_type": "code",
   "execution_count": null,
   "metadata": {
    "ExecuteTime": {
     "end_time": "2018-05-14T16:09:48.681156Z",
     "start_time": "2018-05-14T16:09:48.339502Z"
    },
    "collapsed": false,
    "deletable": true,
    "editable": true
   },
   "outputs": [],
   "source": [
    "data = pd.read_csv(\"../data/final(in_scope).csv\", index_col=0)"
   ]
  },
  {
   "cell_type": "code",
   "execution_count": null,
   "metadata": {
    "ExecuteTime": {
     "end_time": "2018-05-14T16:09:50.297284Z",
     "start_time": "2018-05-14T16:09:49.742835Z"
    },
    "collapsed": false,
    "deletable": true,
    "editable": true
   },
   "outputs": [],
   "source": [
    "data[\"SYS DATE\"][6376] = data[\"CREATION DATE\"][6376]\n",
    "data.sort_values(\"SYS DATE\", inplace=True)"
   ]
  },
  {
   "cell_type": "code",
   "execution_count": null,
   "metadata": {
    "ExecuteTime": {
     "end_time": "2018-05-13T17:58:38.561535Z",
     "start_time": "2018-05-13T17:58:38.074036Z"
    },
    "collapsed": true,
    "deletable": true,
    "editable": true
   },
   "outputs": [],
   "source": [
    "data.to_csv(\"../data/final(in_scope).csv\")"
   ]
  },
  {
   "cell_type": "markdown",
   "metadata": {},
   "source": [
    "# Альфа Алгоритм"
   ]
  },
  {
   "cell_type": "markdown",
   "metadata": {},
   "source": [
    "### Чтение лога"
   ]
  },
  {
   "cell_type": "code",
   "execution_count": 109,
   "metadata": {
    "ExecuteTime": {
     "end_time": "2018-05-14T16:34:42.228309Z",
     "start_time": "2018-05-14T16:34:38.583405Z"
    },
    "collapsed": false,
    "deletable": true,
    "editable": true
   },
   "outputs": [
    {
     "name": "stderr",
     "output_type": "stream",
     "text": [
      "INFO:root:Reading...\n"
     ]
    }
   ],
   "source": [
    "dirty_log = Log.from_csv(\"../data/final(in_scope).csv\", do_sort=False)"
   ]
  },
  {
   "cell_type": "markdown",
   "metadata": {},
   "source": [
    "### Выделение самых встречаемых кейсов и чистка"
   ]
  },
  {
   "cell_type": "code",
   "execution_count": 110,
   "metadata": {
    "ExecuteTime": {
     "end_time": "2018-05-14T16:34:43.042790Z",
     "start_time": "2018-05-14T16:34:43.024996Z"
    },
    "collapsed": false,
    "deletable": true,
    "editable": true
   },
   "outputs": [
    {
     "name": "stderr",
     "output_type": "stream",
     "text": [
      "INFO:root:Pruning...\n"
     ]
    }
   ],
   "source": [
    "log, paths, betas = prune(dirty_log, coef=0.12)"
   ]
  },
  {
   "cell_type": "code",
   "execution_count": 111,
   "metadata": {
    "ExecuteTime": {
     "end_time": "2018-05-14T16:34:43.443226Z",
     "start_time": "2018-05-14T16:34:43.429693Z"
    },
    "collapsed": false,
    "deletable": true,
    "editable": true
   },
   "outputs": [
    {
     "name": "stderr",
     "output_type": "stream",
     "text": [
      "INFO:root:Cleaning...\n"
     ]
    }
   ],
   "source": [
    "clean(log, inplace=True);"
   ]
  },
  {
   "cell_type": "markdown",
   "metadata": {},
   "source": [
    "### Построение модели"
   ]
  },
  {
   "cell_type": "code",
   "execution_count": 112,
   "metadata": {
    "ExecuteTime": {
     "end_time": "2018-05-14T16:34:45.226214Z",
     "start_time": "2018-05-14T16:34:45.222098Z"
    },
    "collapsed": true,
    "deletable": true,
    "editable": true
   },
   "outputs": [],
   "source": [
    "am = m.AlphaMiner()"
   ]
  },
  {
   "cell_type": "code",
   "execution_count": 113,
   "metadata": {
    "ExecuteTime": {
     "end_time": "2018-05-14T16:36:37.659823Z",
     "start_time": "2018-05-14T16:34:46.010735Z"
    },
    "collapsed": false,
    "deletable": true,
    "editable": true
   },
   "outputs": [
    {
     "name": "stderr",
     "output_type": "stream",
     "text": [
      "DEBUG:root:Got task list\n",
      "DEBUG:root:Got direct follows\n",
      "DEBUG:root:Got causaieties\n",
      "DEBUG:root:Got cycles\n",
      "DEBUG:root:Got not causaieties\n",
      "DEBUG:root:Got parallels\n",
      "DEBUG:root:Got subsets\n",
      "INFO:root:Processing 4094 subset of 12 events\n",
      "DEBUG:root:Got Xl\n",
      "DEBUG:root:Building Petri net\n"
     ]
    },
    {
     "name": "stdout",
     "output_type": "stream",
     "text": [
      "\n"
     ]
    }
   ],
   "source": [
    "am.apply(log)"
   ]
  },
  {
   "cell_type": "code",
   "execution_count": 114,
   "metadata": {
    "ExecuteTime": {
     "end_time": "2018-05-14T16:36:58.932948Z",
     "start_time": "2018-05-14T16:36:58.742599Z"
    },
    "collapsed": false,
    "deletable": true,
    "editable": true
   },
   "outputs": [
    {
     "data": {
      "image/svg+xml": [
       "<?xml version=\"1.0\" encoding=\"UTF-8\" standalone=\"no\"?>\n",
       "<!DOCTYPE svg PUBLIC \"-//W3C//DTD SVG 1.1//EN\"\n",
       " \"http://www.w3.org/Graphics/SVG/1.1/DTD/svg11.dtd\">\n",
       "<!-- Generated by graphviz version 2.40.1 (20161225.0304)\n",
       " -->\n",
       "<!-- Title: %3 Pages: 1 -->\n",
       "<svg width=\"2039pt\" height=\"320pt\"\n",
       " viewBox=\"0.00 0.00 2038.51 319.69\" xmlns=\"http://www.w3.org/2000/svg\" xmlns:xlink=\"http://www.w3.org/1999/xlink\">\n",
       "<g id=\"graph0\" class=\"graph\" transform=\"scale(1 1) rotate(0) translate(4 315.6886)\">\n",
       "<title>%3</title>\n",
       "<polygon fill=\"#ffffff\" stroke=\"transparent\" points=\"-4,4 -4,-315.6886 2034.5057,-315.6886 2034.5057,4 -4,4\"/>\n",
       "<!-- start -->\n",
       "<g id=\"node1\" class=\"node\">\n",
       "<title>start</title>\n",
       "<ellipse fill=\"#8470ff\" stroke=\"#8470ff\" cx=\"25.3324\" cy=\"-180.9503\" rx=\"25.166\" ry=\"25.166\"/>\n",
       "<text text-anchor=\"middle\" x=\"25.3324\" y=\"-176.7503\" font-family=\"Times,serif\" font-size=\"14.00\" fill=\"#000000\">start</text>\n",
       "</g>\n",
       "<!-- Purchase order -->\n",
       "<g id=\"node5\" class=\"node\">\n",
       "<title>Purchase order</title>\n",
       "<polygon fill=\"#b2dfee\" stroke=\"#b2dfee\" points=\"186.03,-198.9503 86.8759,-198.9503 86.8759,-162.9503 186.03,-162.9503 186.03,-198.9503\"/>\n",
       "<text text-anchor=\"middle\" x=\"136.453\" y=\"-176.7503\" font-family=\"Times,serif\" font-size=\"14.00\" fill=\"#000000\">Purchase order</text>\n",
       "</g>\n",
       "<!-- start&#45;&gt;Purchase order -->\n",
       "<g id=\"edge34\" class=\"edge\">\n",
       "<title>start&#45;&gt;Purchase order</title>\n",
       "<path fill=\"none\" stroke=\"#000000\" d=\"M50.8257,-180.9503C58.5538,-180.9503 67.3925,-180.9503 76.3897,-180.9503\"/>\n",
       "<polygon fill=\"#000000\" stroke=\"#000000\" points=\"76.5645,-184.4504 86.5645,-180.9503 76.5644,-177.4504 76.5645,-184.4504\"/>\n",
       "</g>\n",
       "<!-- end -->\n",
       "<g id=\"node2\" class=\"node\">\n",
       "<title>end</title>\n",
       "<ellipse fill=\"#8470ff\" stroke=\"#8470ff\" cx=\"2007.6302\" cy=\"-148.9503\" rx=\"22.7515\" ry=\"22.7515\"/>\n",
       "<text text-anchor=\"middle\" x=\"2007.6302\" y=\"-144.7503\" font-family=\"Times,serif\" font-size=\"14.00\" fill=\"#000000\">end</text>\n",
       "</g>\n",
       "<!-- RELEASED (5% delta possible) -->\n",
       "<g id=\"node3\" class=\"node\">\n",
       "<title>RELEASED (5% delta possible)</title>\n",
       "<polygon fill=\"#b2dfee\" stroke=\"#b2dfee\" points=\"773.9638,-79.9503 574.6942,-79.9503 574.6942,-43.9503 773.9638,-43.9503 773.9638,-79.9503\"/>\n",
       "<text text-anchor=\"middle\" x=\"674.329\" y=\"-57.7503\" font-family=\"Times,serif\" font-size=\"14.00\" fill=\"#000000\">RELEASED (5% delta possible)</text>\n",
       "</g>\n",
       "<!-- p0 -->\n",
       "<g id=\"node4\" class=\"node\">\n",
       "<title>p0</title>\n",
       "<ellipse fill=\"#8470ff\" stroke=\"#8470ff\" cx=\"828.8467\" cy=\"-18.9503\" rx=\"18.9007\" ry=\"18.9007\"/>\n",
       "<text text-anchor=\"middle\" x=\"828.8467\" y=\"-14.7503\" font-family=\"Times,serif\" font-size=\"14.00\" fill=\"#000000\">p0</text>\n",
       "</g>\n",
       "<!-- RELEASED (5% delta possible)&#45;&gt;p0 -->\n",
       "<g id=\"edge1\" class=\"edge\">\n",
       "<title>RELEASED (5% delta possible)&#45;&gt;p0</title>\n",
       "<path fill=\"none\" stroke=\"#000000\" d=\"M739.4106,-43.839C760.7208,-37.9087 783.2989,-31.6256 800.4384,-26.8559\"/>\n",
       "<polygon fill=\"#000000\" stroke=\"#000000\" points=\"801.6518,-30.1513 810.3473,-24.0984 799.7751,-23.4076 801.6518,-30.1513\"/>\n",
       "</g>\n",
       "<!-- p4 -->\n",
       "<g id=\"node13\" class=\"node\">\n",
       "<title>p4</title>\n",
       "<ellipse fill=\"#8470ff\" stroke=\"#8470ff\" cx=\"828.8467\" cy=\"-74.9503\" rx=\"18.9007\" ry=\"18.9007\"/>\n",
       "<text text-anchor=\"middle\" x=\"828.8467\" y=\"-70.7503\" font-family=\"Times,serif\" font-size=\"14.00\" fill=\"#000000\">p4</text>\n",
       "</g>\n",
       "<!-- RELEASED (5% delta possible)&#45;&gt;p4 -->\n",
       "<g id=\"edge10\" class=\"edge\">\n",
       "<title>RELEASED (5% delta possible)&#45;&gt;p4</title>\n",
       "<path fill=\"none\" stroke=\"#000000\" d=\"M773.9345,-70.3304C783.1428,-71.1051 791.8877,-71.8408 799.5813,-72.4881\"/>\n",
       "<polygon fill=\"#000000\" stroke=\"#000000\" points=\"799.438,-75.9883 809.6963,-73.3391 800.0249,-69.013 799.438,-75.9883\"/>\n",
       "</g>\n",
       "<!-- Goods Reciept -->\n",
       "<g id=\"node6\" class=\"node\">\n",
       "<title>Goods Reciept</title>\n",
       "<polygon fill=\"#b2dfee\" stroke=\"#b2dfee\" points=\"982.5232,-135.9503 883.8881,-135.9503 883.8881,-99.9503 982.5232,-99.9503 982.5232,-135.9503\"/>\n",
       "<text text-anchor=\"middle\" x=\"933.2057\" y=\"-113.7503\" font-family=\"Times,serif\" font-size=\"14.00\" fill=\"#000000\">Goods Reciept</text>\n",
       "</g>\n",
       "<!-- p0&#45;&gt;Goods Reciept -->\n",
       "<g id=\"edge3\" class=\"edge\">\n",
       "<title>p0&#45;&gt;Goods Reciept</title>\n",
       "<path fill=\"none\" stroke=\"#000000\" d=\"M842.921,-32.3019C859.201,-47.7459 886.3623,-73.5124 906.6496,-92.7579\"/>\n",
       "<polygon fill=\"#000000\" stroke=\"#000000\" points=\"904.3876,-95.4364 914.0513,-99.7796 909.2052,-90.358 904.3876,-95.4364\"/>\n",
       "</g>\n",
       "<!-- Purchase order&#45;&gt;p0 -->\n",
       "<g id=\"edge2\" class=\"edge\">\n",
       "<title>Purchase order&#45;&gt;p0</title>\n",
       "<path fill=\"none\" stroke=\"#000000\" d=\"M150.1964,-162.8694C184.6133,-119.8458 279.3504,-14.9503 384.9231,-14.9503 384.9231,-14.9503 384.9231,-14.9503 519.8113,-14.9503 622.6808,-14.9503 744.7956,-17.1937 799.6353,-18.3203\"/>\n",
       "<polygon fill=\"#000000\" stroke=\"#000000\" points=\"799.6098,-21.8205 809.6806,-18.5298 799.7558,-14.822 799.6098,-21.8205\"/>\n",
       "</g>\n",
       "<!-- p6 -->\n",
       "<g id=\"node16\" class=\"node\">\n",
       "<title>p6</title>\n",
       "<ellipse fill=\"#8470ff\" stroke=\"#8470ff\" cx=\"245.6131\" cy=\"-210.9503\" rx=\"18.9007\" ry=\"18.9007\"/>\n",
       "<text text-anchor=\"middle\" x=\"245.6131\" y=\"-206.7503\" font-family=\"Times,serif\" font-size=\"14.00\" fill=\"#000000\">p6</text>\n",
       "</g>\n",
       "<!-- Purchase order&#45;&gt;p6 -->\n",
       "<g id=\"edge15\" class=\"edge\">\n",
       "<title>Purchase order&#45;&gt;p6</title>\n",
       "<path fill=\"none\" stroke=\"#000000\" d=\"M186.2414,-194.6334C196.9779,-197.5841 207.9635,-200.6032 217.5194,-203.2294\"/>\n",
       "<polygon fill=\"#000000\" stroke=\"#000000\" points=\"216.6778,-206.6279 227.2479,-205.9031 218.5329,-199.8781 216.6778,-206.6279\"/>\n",
       "</g>\n",
       "<!-- p8 -->\n",
       "<g id=\"node22\" class=\"node\">\n",
       "<title>p8</title>\n",
       "<ellipse fill=\"#8470ff\" stroke=\"#8470ff\" cx=\"245.6131\" cy=\"-266.9503\" rx=\"18.9007\" ry=\"18.9007\"/>\n",
       "<text text-anchor=\"middle\" x=\"245.6131\" y=\"-262.7503\" font-family=\"Times,serif\" font-size=\"14.00\" fill=\"#000000\">p8</text>\n",
       "</g>\n",
       "<!-- Purchase order&#45;&gt;p8 -->\n",
       "<g id=\"edge22\" class=\"edge\">\n",
       "<title>Purchase order&#45;&gt;p8</title>\n",
       "<path fill=\"none\" stroke=\"#000000\" d=\"M159.3365,-198.9787C177.878,-213.5863 203.8878,-234.0778 222.4926,-248.7352\"/>\n",
       "<polygon fill=\"#000000\" stroke=\"#000000\" points=\"220.4451,-251.5778 230.4662,-255.0171 224.7771,-246.0792 220.4451,-251.5778\"/>\n",
       "</g>\n",
       "<!-- p10 -->\n",
       "<g id=\"node24\" class=\"node\">\n",
       "<title>p10</title>\n",
       "<ellipse fill=\"#8470ff\" stroke=\"#8470ff\" cx=\"245.6131\" cy=\"-150.9503\" rx=\"23.2447\" ry=\"23.2447\"/>\n",
       "<text text-anchor=\"middle\" x=\"245.6131\" y=\"-146.7503\" font-family=\"Times,serif\" font-size=\"14.00\" fill=\"#000000\">p10</text>\n",
       "</g>\n",
       "<!-- Purchase order&#45;&gt;p10 -->\n",
       "<g id=\"edge27\" class=\"edge\">\n",
       "<title>Purchase order&#45;&gt;p10</title>\n",
       "<path fill=\"none\" stroke=\"#000000\" d=\"M186.2414,-167.2671C195.356,-164.7622 204.6502,-162.2079 213.0967,-159.8866\"/>\n",
       "<polygon fill=\"#000000\" stroke=\"#000000\" points=\"214.1951,-163.2146 222.9101,-157.1896 212.3401,-156.4648 214.1951,-163.2146\"/>\n",
       "</g>\n",
       "<!-- p1 -->\n",
       "<g id=\"node7\" class=\"node\">\n",
       "<title>p1</title>\n",
       "<ellipse fill=\"#8470ff\" stroke=\"#8470ff\" cx=\"1070.7335\" cy=\"-117.9503\" rx=\"18.9007\" ry=\"18.9007\"/>\n",
       "<text text-anchor=\"middle\" x=\"1070.7335\" y=\"-113.7503\" font-family=\"Times,serif\" font-size=\"14.00\" fill=\"#000000\">p1</text>\n",
       "</g>\n",
       "<!-- Goods Reciept&#45;&gt;p1 -->\n",
       "<g id=\"edge4\" class=\"edge\">\n",
       "<title>Goods Reciept&#45;&gt;p1</title>\n",
       "<path fill=\"none\" stroke=\"#000000\" d=\"M982.8564,-117.9503C1002.4219,-117.9503 1024.23,-117.9503 1041.2265,-117.9503\"/>\n",
       "<polygon fill=\"#000000\" stroke=\"#000000\" points=\"1041.6289,-121.4504 1051.6289,-117.9503 1041.6289,-114.4504 1041.6289,-121.4504\"/>\n",
       "</g>\n",
       "<!-- Invoice Reciept (Logistics invoice) released -->\n",
       "<g id=\"node8\" class=\"node\">\n",
       "<title>Invoice Reciept (Logistics invoice) released</title>\n",
       "<polygon fill=\"#b2dfee\" stroke=\"#b2dfee\" points=\"1421.5371,-139.9503 1158.6242,-139.9503 1158.6242,-103.9503 1421.5371,-103.9503 1421.5371,-139.9503\"/>\n",
       "<text text-anchor=\"middle\" x=\"1290.0807\" y=\"-117.7503\" font-family=\"Times,serif\" font-size=\"14.00\" fill=\"#000000\">Invoice Reciept (Logistics invoice) released</text>\n",
       "</g>\n",
       "<!-- p1&#45;&gt;Invoice Reciept (Logistics invoice) released -->\n",
       "<g id=\"edge5\" class=\"edge\">\n",
       "<title>p1&#45;&gt;Invoice Reciept (Logistics invoice) released</title>\n",
       "<path fill=\"none\" stroke=\"#000000\" d=\"M1089.8154,-118.2983C1104.1796,-118.5602 1125.3203,-118.9457 1148.5488,-119.3693\"/>\n",
       "<polygon fill=\"#000000\" stroke=\"#000000\" points=\"1148.5559,-122.8699 1158.6181,-119.5529 1148.6836,-115.8711 1148.5559,-122.8699\"/>\n",
       "</g>\n",
       "<!-- p3 -->\n",
       "<g id=\"node11\" class=\"node\">\n",
       "<title>p3</title>\n",
       "<ellipse fill=\"#8470ff\" stroke=\"#8470ff\" cx=\"1476.259\" cy=\"-123.9503\" rx=\"18.9007\" ry=\"18.9007\"/>\n",
       "<text text-anchor=\"middle\" x=\"1476.259\" y=\"-119.7503\" font-family=\"Times,serif\" font-size=\"14.00\" fill=\"#000000\">p3</text>\n",
       "</g>\n",
       "<!-- Invoice Reciept (Logistics invoice) released&#45;&gt;p3 -->\n",
       "<g id=\"edge8\" class=\"edge\">\n",
       "<title>Invoice Reciept (Logistics invoice) released&#45;&gt;p3</title>\n",
       "<path fill=\"none\" stroke=\"#000000\" d=\"M1421.4063,-123.361C1430.6238,-123.4601 1439.2359,-123.5526 1446.7797,-123.6336\"/>\n",
       "<polygon fill=\"#000000\" stroke=\"#000000\" points=\"1446.977,-127.1358 1457.0141,-123.7435 1447.0523,-120.1362 1446.977,-127.1358\"/>\n",
       "</g>\n",
       "<!-- Approved -->\n",
       "<g id=\"node9\" class=\"node\">\n",
       "<title>Approved</title>\n",
       "<polygon fill=\"#b2dfee\" stroke=\"#b2dfee\" points=\"420.9094,-128.9503 348.9367,-128.9503 348.9367,-92.9503 420.9094,-92.9503 420.9094,-128.9503\"/>\n",
       "<text text-anchor=\"middle\" x=\"384.9231\" y=\"-106.7503\" font-family=\"Times,serif\" font-size=\"14.00\" fill=\"#000000\">Approved</text>\n",
       "</g>\n",
       "<!-- p2 -->\n",
       "<g id=\"node10\" class=\"node\">\n",
       "<title>p2</title>\n",
       "<ellipse fill=\"#8470ff\" stroke=\"#8470ff\" cx=\"519.8113\" cy=\"-117.9503\" rx=\"18.9007\" ry=\"18.9007\"/>\n",
       "<text text-anchor=\"middle\" x=\"519.8113\" y=\"-113.7503\" font-family=\"Times,serif\" font-size=\"14.00\" fill=\"#000000\">p2</text>\n",
       "</g>\n",
       "<!-- Approved&#45;&gt;p2 -->\n",
       "<g id=\"edge6\" class=\"edge\">\n",
       "<title>Approved&#45;&gt;p2</title>\n",
       "<path fill=\"none\" stroke=\"#000000\" d=\"M421.0706,-112.8262C442.7677,-113.9521 470.0172,-115.3662 490.3909,-116.4235\"/>\n",
       "<polygon fill=\"#000000\" stroke=\"#000000\" points=\"490.4693,-119.9322 500.6373,-116.9553 490.8322,-112.9416 490.4693,-119.9322\"/>\n",
       "</g>\n",
       "<!-- p5 -->\n",
       "<g id=\"node15\" class=\"node\">\n",
       "<title>p5</title>\n",
       "<ellipse fill=\"#8470ff\" stroke=\"#8470ff\" cx=\"519.8113\" cy=\"-61.9503\" rx=\"18.9007\" ry=\"18.9007\"/>\n",
       "<text text-anchor=\"middle\" x=\"519.8113\" y=\"-57.7503\" font-family=\"Times,serif\" font-size=\"14.00\" fill=\"#000000\">p5</text>\n",
       "</g>\n",
       "<!-- Approved&#45;&gt;p5 -->\n",
       "<g id=\"edge13\" class=\"edge\">\n",
       "<title>Approved&#45;&gt;p5</title>\n",
       "<path fill=\"none\" stroke=\"#000000\" d=\"M421.0706,-97.8192C443.47,-89.6823 471.7872,-79.3957 492.3474,-71.9269\"/>\n",
       "<polygon fill=\"#000000\" stroke=\"#000000\" points=\"493.5535,-75.2127 501.7575,-68.5086 491.1634,-68.6333 493.5535,-75.2127\"/>\n",
       "</g>\n",
       "<!-- p2&#45;&gt;Goods Reciept -->\n",
       "<g id=\"edge7\" class=\"edge\">\n",
       "<title>p2&#45;&gt;Goods Reciept</title>\n",
       "<path fill=\"none\" stroke=\"#000000\" d=\"M538.9211,-117.9503C597.9072,-117.9503 778.8441,-117.9503 873.7281,-117.9503\"/>\n",
       "<polygon fill=\"#000000\" stroke=\"#000000\" points=\"873.7473,-121.4504 883.7472,-117.9503 873.7472,-114.4504 873.7473,-121.4504\"/>\n",
       "</g>\n",
       "<!-- Invoice Reciept item updated -->\n",
       "<g id=\"node12\" class=\"node\">\n",
       "<title>Invoice Reciept item updated</title>\n",
       "<polygon fill=\"#b2dfee\" stroke=\"#b2dfee\" points=\"1711.8675,-143.9503 1530.9895,-143.9503 1530.9895,-107.9503 1711.8675,-107.9503 1711.8675,-143.9503\"/>\n",
       "<text text-anchor=\"middle\" x=\"1621.4285\" y=\"-121.7503\" font-family=\"Times,serif\" font-size=\"14.00\" fill=\"#000000\">Invoice Reciept item updated</text>\n",
       "</g>\n",
       "<!-- p3&#45;&gt;Invoice Reciept item updated -->\n",
       "<g id=\"edge9\" class=\"edge\">\n",
       "<title>p3&#45;&gt;Invoice Reciept item updated</title>\n",
       "<path fill=\"none\" stroke=\"#000000\" d=\"M1495.2373,-124.2118C1502.4245,-124.3108 1511.196,-124.4316 1520.7333,-124.563\"/>\n",
       "<polygon fill=\"#000000\" stroke=\"#000000\" points=\"1520.8678,-128.0651 1530.9151,-124.7033 1520.9643,-121.0658 1520.8678,-128.0651\"/>\n",
       "</g>\n",
       "<!-- p11 -->\n",
       "<g id=\"node25\" class=\"node\">\n",
       "<title>p11</title>\n",
       "<ellipse fill=\"#8470ff\" stroke=\"#8470ff\" cx=\"1770.6959\" cy=\"-148.9503\" rx=\"23.0964\" ry=\"23.0964\"/>\n",
       "<text text-anchor=\"middle\" x=\"1770.6959\" y=\"-144.7503\" font-family=\"Times,serif\" font-size=\"14.00\" fill=\"#000000\">p11</text>\n",
       "</g>\n",
       "<!-- Invoice Reciept item updated&#45;&gt;p11 -->\n",
       "<g id=\"edge32\" class=\"edge\">\n",
       "<title>Invoice Reciept item updated&#45;&gt;p11</title>\n",
       "<path fill=\"none\" stroke=\"#000000\" d=\"M1711.7015,-139.8601C1720.8188,-141.2649 1729.6102,-142.6196 1737.4977,-143.8349\"/>\n",
       "<polygon fill=\"#000000\" stroke=\"#000000\" points=\"1737.2224,-147.3337 1747.6388,-145.3975 1738.2885,-140.4154 1737.2224,-147.3337\"/>\n",
       "</g>\n",
       "<!-- p4&#45;&gt;Goods Reciept -->\n",
       "<g id=\"edge12\" class=\"edge\">\n",
       "<title>p4&#45;&gt;Goods Reciept</title>\n",
       "<path fill=\"none\" stroke=\"#000000\" d=\"M846.5498,-82.2446C855.8187,-86.0638 867.7148,-90.9655 879.704,-95.9055\"/>\n",
       "<polygon fill=\"#000000\" stroke=\"#000000\" points=\"878.7114,-99.2819 889.2907,-99.8556 881.3782,-92.8098 878.7114,-99.2819\"/>\n",
       "</g>\n",
       "<!-- RELEASED -->\n",
       "<g id=\"node14\" class=\"node\">\n",
       "<title>RELEASED</title>\n",
       "<polygon fill=\"#b2dfee\" stroke=\"#b2dfee\" points=\"717.8819,-228.9503 630.7761,-228.9503 630.7761,-192.9503 717.8819,-192.9503 717.8819,-228.9503\"/>\n",
       "<text text-anchor=\"middle\" x=\"674.329\" y=\"-206.7503\" font-family=\"Times,serif\" font-size=\"14.00\" fill=\"#000000\">RELEASED</text>\n",
       "</g>\n",
       "<!-- RELEASED&#45;&gt;p4 -->\n",
       "<g id=\"edge11\" class=\"edge\">\n",
       "<title>RELEASED&#45;&gt;p4</title>\n",
       "<path fill=\"none\" stroke=\"#000000\" d=\"M694.8478,-192.8905C723.8126,-167.3969 776.4909,-121.0317 806.445,-94.6673\"/>\n",
       "<polygon fill=\"#000000\" stroke=\"#000000\" points=\"809.0583,-97.0298 814.2524,-87.7955 804.4334,-91.7752 809.0583,-97.0298\"/>\n",
       "</g>\n",
       "<!-- p5&#45;&gt;RELEASED (5% delta possible) -->\n",
       "<g id=\"edge14\" class=\"edge\">\n",
       "<title>p5&#45;&gt;RELEASED (5% delta possible)</title>\n",
       "<path fill=\"none\" stroke=\"#000000\" d=\"M539.0687,-61.9503C546.2139,-61.9503 554.9188,-61.9503 564.4328,-61.9503\"/>\n",
       "<polygon fill=\"#000000\" stroke=\"#000000\" points=\"564.6088,-65.4504 574.6088,-61.9503 564.6087,-58.4504 564.6088,-65.4504\"/>\n",
       "</g>\n",
       "<!-- p6&#45;&gt;RELEASED -->\n",
       "<g id=\"edge16\" class=\"edge\">\n",
       "<title>p6&#45;&gt;RELEASED</title>\n",
       "<path fill=\"none\" stroke=\"#000000\" d=\"M264.5876,-210.9503C326.5033,-210.9503 524.1885,-210.9503 620.5284,-210.9503\"/>\n",
       "<polygon fill=\"#000000\" stroke=\"#000000\" points=\"620.6444,-214.4504 630.6444,-210.9503 620.6443,-207.4504 620.6444,-214.4504\"/>\n",
       "</g>\n",
       "<!-- Service Entry Sheet -->\n",
       "<g id=\"node17\" class=\"node\">\n",
       "<title>Service Entry Sheet</title>\n",
       "<polygon fill=\"#b2dfee\" stroke=\"#b2dfee\" points=\"448.6097,-182.9503 321.2364,-182.9503 321.2364,-146.9503 448.6097,-146.9503 448.6097,-182.9503\"/>\n",
       "<text text-anchor=\"middle\" x=\"384.9231\" y=\"-160.7503\" font-family=\"Times,serif\" font-size=\"14.00\" fill=\"#000000\">Service Entry Sheet</text>\n",
       "</g>\n",
       "<!-- p6&#45;&gt;Service Entry Sheet -->\n",
       "<g id=\"edge17\" class=\"edge\">\n",
       "<title>p6&#45;&gt;Service Entry Sheet</title>\n",
       "<path fill=\"none\" stroke=\"#000000\" d=\"M263.8254,-204.9366C278.4718,-200.1004 299.9742,-193.0003 320.811,-186.12\"/>\n",
       "<polygon fill=\"#000000\" stroke=\"#000000\" points=\"321.9124,-189.4423 330.3107,-182.9832 319.7176,-182.7953 321.9124,-189.4423\"/>\n",
       "</g>\n",
       "<!-- Delivery (Stock Transfer) -->\n",
       "<g id=\"node18\" class=\"node\">\n",
       "<title>Delivery (Stock Transfer)</title>\n",
       "<polygon fill=\"#b2dfee\" stroke=\"#b2dfee\" points=\"464.7991,-276.9503 305.047,-276.9503 305.047,-240.9503 464.7991,-240.9503 464.7991,-276.9503\"/>\n",
       "<text text-anchor=\"middle\" x=\"384.9231\" y=\"-254.7503\" font-family=\"Times,serif\" font-size=\"14.00\" fill=\"#000000\">Delivery (Stock Transfer)</text>\n",
       "</g>\n",
       "<!-- p6&#45;&gt;Delivery (Stock Transfer) -->\n",
       "<g id=\"edge18\" class=\"edge\">\n",
       "<title>p6&#45;&gt;Delivery (Stock Transfer)</title>\n",
       "<path fill=\"none\" stroke=\"#000000\" d=\"M263.5402,-217.1272C278.7116,-222.3546 301.3834,-230.1663 323.0404,-237.6283\"/>\n",
       "<polygon fill=\"#000000\" stroke=\"#000000\" points=\"321.9659,-240.9599 332.5606,-240.9085 324.2463,-234.3418 321.9659,-240.9599\"/>\n",
       "</g>\n",
       "<!-- p7 -->\n",
       "<g id=\"node20\" class=\"node\">\n",
       "<title>p7</title>\n",
       "<ellipse fill=\"#8470ff\" stroke=\"#8470ff\" cx=\"828.8467\" cy=\"-172.9503\" rx=\"18.9007\" ry=\"18.9007\"/>\n",
       "<text text-anchor=\"middle\" x=\"828.8467\" y=\"-168.7503\" font-family=\"Times,serif\" font-size=\"14.00\" fill=\"#000000\">p7</text>\n",
       "</g>\n",
       "<!-- Service Entry Sheet&#45;&gt;p7 -->\n",
       "<g id=\"edge20\" class=\"edge\">\n",
       "<title>Service Entry Sheet&#45;&gt;p7</title>\n",
       "<path fill=\"none\" stroke=\"#000000\" d=\"M448.5265,-166.0965C545.9262,-167.8517 728.2131,-171.1368 799.3483,-172.4187\"/>\n",
       "<polygon fill=\"#000000\" stroke=\"#000000\" points=\"799.7192,-175.9259 809.7807,-172.6067 799.8454,-168.927 799.7192,-175.9259\"/>\n",
       "</g>\n",
       "<!-- p9 -->\n",
       "<g id=\"node23\" class=\"node\">\n",
       "<title>p9</title>\n",
       "<ellipse fill=\"#8470ff\" stroke=\"#8470ff\" cx=\"519.8113\" cy=\"-261.9503\" rx=\"18.9007\" ry=\"18.9007\"/>\n",
       "<text text-anchor=\"middle\" x=\"519.8113\" y=\"-257.7503\" font-family=\"Times,serif\" font-size=\"14.00\" fill=\"#000000\">p9</text>\n",
       "</g>\n",
       "<!-- Delivery (Stock Transfer)&#45;&gt;p9 -->\n",
       "<g id=\"edge25\" class=\"edge\">\n",
       "<title>Delivery (Stock Transfer)&#45;&gt;p9</title>\n",
       "<path fill=\"none\" stroke=\"#000000\" d=\"M464.9471,-260.7301C474.047,-260.9325 482.83,-261.1278 490.6017,-261.3006\"/>\n",
       "<polygon fill=\"#000000\" stroke=\"#000000\" points=\"490.7671,-264.8051 500.8425,-261.5284 490.9228,-257.8068 490.7671,-264.8051\"/>\n",
       "</g>\n",
       "<!-- Goods Issue for Stock Transfer -->\n",
       "<g id=\"node19\" class=\"node\">\n",
       "<title>Goods Issue for Stock Transfer</title>\n",
       "<polygon fill=\"#b2dfee\" stroke=\"#b2dfee\" points=\"769.5567,-282.9503 579.1013,-282.9503 579.1013,-246.9503 769.5567,-246.9503 769.5567,-282.9503\"/>\n",
       "<text text-anchor=\"middle\" x=\"674.329\" y=\"-260.7503\" font-family=\"Times,serif\" font-size=\"14.00\" fill=\"#000000\">Goods Issue for Stock Transfer</text>\n",
       "</g>\n",
       "<!-- Goods Issue for Stock Transfer&#45;&gt;p7 -->\n",
       "<g id=\"edge19\" class=\"edge\">\n",
       "<title>Goods Issue for Stock Transfer&#45;&gt;p7</title>\n",
       "<path fill=\"none\" stroke=\"#000000\" d=\"M756.9992,-246.8527C762.9052,-244.2672 768.6084,-241.3166 773.8964,-237.9503 789.8482,-227.7954 803.5829,-211.5509 813.3311,-197.8423\"/>\n",
       "<polygon fill=\"#000000\" stroke=\"#000000\" points=\"816.4177,-199.5274 819.1447,-189.2896 810.6285,-195.5923 816.4177,-199.5274\"/>\n",
       "</g>\n",
       "<!-- Invoice Reciept -->\n",
       "<g id=\"node21\" class=\"node\">\n",
       "<title>Invoice Reciept</title>\n",
       "<polygon fill=\"#b2dfee\" stroke=\"#b2dfee\" points=\"1122.972,-190.9503 1018.4949,-190.9503 1018.4949,-154.9503 1122.972,-154.9503 1122.972,-190.9503\"/>\n",
       "<text text-anchor=\"middle\" x=\"1070.7335\" y=\"-168.7503\" font-family=\"Times,serif\" font-size=\"14.00\" fill=\"#000000\">Invoice Reciept</text>\n",
       "</g>\n",
       "<!-- p7&#45;&gt;Invoice Reciept -->\n",
       "<g id=\"edge21\" class=\"edge\">\n",
       "<title>p7&#45;&gt;Invoice Reciept</title>\n",
       "<path fill=\"none\" stroke=\"#000000\" d=\"M847.8271,-172.9503C881.9362,-172.9503 954.9962,-172.9503 1008.2045,-172.9503\"/>\n",
       "<polygon fill=\"#000000\" stroke=\"#000000\" points=\"1008.2291,-176.4504 1018.229,-172.9503 1008.229,-169.4504 1008.2291,-176.4504\"/>\n",
       "</g>\n",
       "<!-- Invoice Reciept&#45;&gt;p11 -->\n",
       "<g id=\"edge31\" class=\"edge\">\n",
       "<title>Invoice Reciept&#45;&gt;p11</title>\n",
       "<path fill=\"none\" stroke=\"#000000\" d=\"M1123.0985,-171.9625C1232.4751,-169.7567 1493.1631,-163.7559 1711.6477,-152.9503 1720.018,-152.5363 1729.0485,-151.9801 1737.4689,-151.4143\"/>\n",
       "<polygon fill=\"#000000\" stroke=\"#000000\" points=\"1737.9796,-154.8873 1747.7129,-150.7025 1737.4943,-147.9042 1737.9796,-154.8873\"/>\n",
       "</g>\n",
       "<!-- p8&#45;&gt;Goods Reciept -->\n",
       "<g id=\"edge23\" class=\"edge\">\n",
       "<title>p8&#45;&gt;Goods Reciept</title>\n",
       "<path fill=\"none\" stroke=\"#000000\" d=\"M263.5552,-273.6961C275.2072,-277.8255 290.8099,-282.8877 304.9851,-285.9503 398.9399,-306.2497 423.6887,-310.9503 519.8113,-310.9503 519.8113,-310.9503 519.8113,-310.9503 674.329,-310.9503 719.3797,-310.9503 734.5567,-313.9037 773.8964,-291.9503 838.6279,-255.8269 891.459,-183.8095 916.8613,-144.7075\"/>\n",
       "<polygon fill=\"#000000\" stroke=\"#000000\" points=\"920.0057,-146.2862 922.4339,-135.9734 914.1045,-142.5211 920.0057,-146.2862\"/>\n",
       "</g>\n",
       "<!-- p8&#45;&gt;Delivery (Stock Transfer) -->\n",
       "<g id=\"edge24\" class=\"edge\">\n",
       "<title>p8&#45;&gt;Delivery (Stock Transfer)</title>\n",
       "<path fill=\"none\" stroke=\"#000000\" d=\"M264.6914,-265.8547C273.0486,-265.3748 283.5131,-264.7738 294.761,-264.1279\"/>\n",
       "<polygon fill=\"#000000\" stroke=\"#000000\" points=\"295.0309,-267.6183 304.8138,-263.5506 294.6295,-260.6298 295.0309,-267.6183\"/>\n",
       "</g>\n",
       "<!-- p9&#45;&gt;Goods Issue for Stock Transfer -->\n",
       "<g id=\"edge26\" class=\"edge\">\n",
       "<title>p9&#45;&gt;Goods Issue for Stock Transfer</title>\n",
       "<path fill=\"none\" stroke=\"#000000\" d=\"M538.7582,-262.3181C547.048,-262.4791 557.4792,-262.6816 568.8567,-262.9025\"/>\n",
       "<polygon fill=\"#000000\" stroke=\"#000000\" points=\"569.0025,-266.4059 579.0686,-263.1008 569.1385,-259.4072 569.0025,-266.4059\"/>\n",
       "</g>\n",
       "<!-- p10&#45;&gt;Approved -->\n",
       "<g id=\"edge28\" class=\"edge\">\n",
       "<title>p10&#45;&gt;Approved</title>\n",
       "<path fill=\"none\" stroke=\"#000000\" d=\"M268.3057,-144.4346C287.3975,-138.9527 315.3001,-130.9411 339.0251,-124.1289\"/>\n",
       "<polygon fill=\"#000000\" stroke=\"#000000\" points=\"340.2537,-127.4177 348.8994,-121.2937 338.3218,-120.6895 340.2537,-127.4177\"/>\n",
       "</g>\n",
       "<!-- p10&#45;&gt;Service Entry Sheet -->\n",
       "<g id=\"edge29\" class=\"edge\">\n",
       "<title>p10&#45;&gt;Service Entry Sheet</title>\n",
       "<path fill=\"none\" stroke=\"#000000\" d=\"M268.9304,-153.2936C280.7487,-154.4813 295.8241,-155.9963 311.1658,-157.538\"/>\n",
       "<polygon fill=\"#000000\" stroke=\"#000000\" points=\"310.9545,-161.0343 321.2544,-158.5519 311.6545,-154.0694 310.9545,-161.0343\"/>\n",
       "</g>\n",
       "<!-- p10&#45;&gt;Delivery (Stock Transfer) -->\n",
       "<g id=\"edge30\" class=\"edge\">\n",
       "<title>p10&#45;&gt;Delivery (Stock Transfer)</title>\n",
       "<path fill=\"none\" stroke=\"#000000\" d=\"M264.1124,-165.2919C286.9178,-182.9718 326.0285,-213.2923 353.5597,-234.6359\"/>\n",
       "<polygon fill=\"#000000\" stroke=\"#000000\" points=\"351.6536,-237.5867 361.7013,-240.9476 355.9425,-232.0545 351.6536,-237.5867\"/>\n",
       "</g>\n",
       "<!-- Clearing (Invoice) -->\n",
       "<g id=\"node26\" class=\"node\">\n",
       "<title>Clearing (Invoice)</title>\n",
       "<polygon fill=\"#b2dfee\" stroke=\"#b2dfee\" points=\"1948.7602,-166.9503 1829.7387,-166.9503 1829.7387,-130.9503 1948.7602,-130.9503 1948.7602,-166.9503\"/>\n",
       "<text text-anchor=\"middle\" x=\"1889.2494\" y=\"-144.7503\" font-family=\"Times,serif\" font-size=\"14.00\" fill=\"#000000\">Clearing (Invoice)</text>\n",
       "</g>\n",
       "<!-- p11&#45;&gt;Clearing (Invoice) -->\n",
       "<g id=\"edge33\" class=\"edge\">\n",
       "<title>p11&#45;&gt;Clearing (Invoice)</title>\n",
       "<path fill=\"none\" stroke=\"#000000\" d=\"M1793.8356,-148.9503C1801.2775,-148.9503 1809.9482,-148.9503 1818.9713,-148.9503\"/>\n",
       "<polygon fill=\"#000000\" stroke=\"#000000\" points=\"1819.2618,-152.4504 1829.2617,-148.9503 1819.2617,-145.4504 1819.2618,-152.4504\"/>\n",
       "</g>\n",
       "<!-- Clearing (Invoice)&#45;&gt;end -->\n",
       "<g id=\"edge35\" class=\"edge\">\n",
       "<title>Clearing (Invoice)&#45;&gt;end</title>\n",
       "<path fill=\"none\" stroke=\"#000000\" d=\"M1948.7866,-148.9503C1957.6741,-148.9503 1966.5511,-148.9503 1974.6162,-148.9503\"/>\n",
       "<polygon fill=\"#000000\" stroke=\"#000000\" points=\"1974.6835,-152.4504 1984.6835,-148.9503 1974.6835,-145.4504 1974.6835,-152.4504\"/>\n",
       "</g>\n",
       "</g>\n",
       "</svg>\n"
      ],
      "text/plain": [
       "<graphviz.dot.Digraph at 0x1134d4358>"
      ]
     },
     "execution_count": 114,
     "metadata": {},
     "output_type": "execute_result"
    }
   ],
   "source": [
    "am.draw(output_file=\"test2\")"
   ]
  },
  {
   "cell_type": "code",
   "execution_count": null,
   "metadata": {
    "collapsed": true,
    "deletable": true,
    "editable": true
   },
   "outputs": [],
   "source": []
  }
 ],
 "metadata": {
  "kernelspec": {
   "display_name": "Python 3",
   "language": "python",
   "name": "python3"
  },
  "language_info": {
   "codemirror_mode": {
    "name": "ipython",
    "version": 3
   },
   "file_extension": ".py",
   "mimetype": "text/x-python",
   "name": "python",
   "nbconvert_exporter": "python",
   "pygments_lexer": "ipython3",
   "version": "3.5.1"
  },
  "toc": {
   "colors": {
    "hover_highlight": "#DAA520",
    "navigate_num": "#000000",
    "navigate_text": "#333333",
    "running_highlight": "#FF0000",
    "selected_highlight": "#FFD700",
    "sidebar_border": "#EEEEEE",
    "wrapper_background": "#FFFFFF"
   },
   "moveMenuLeft": true,
   "nav_menu": {
    "height": "12px",
    "width": "252px"
   },
   "navigate_menu": true,
   "number_sections": false,
   "sideBar": true,
   "threshold": 4,
   "toc_cell": false,
   "toc_section_display": "block",
   "toc_window_display": false,
   "widenNotebook": false
  },
  "widgets": {
   "state": {
    "056537b6fae949039eff0858e89e1cb8": {
     "views": []
    },
    "0905ebdaf08b4480a7845ea03c3c026c": {
     "views": []
    },
    "137d3b64fb8f460ea81cce3b4f1a66d0": {
     "views": []
    },
    "154b94f7079d47e98e608b997afeadc9": {
     "views": []
    },
    "29bd78d2eb944026872b6ef333566aa3": {
     "views": []
    },
    "2c34bf293e6f43ed9bcb16beb3c55367": {
     "views": []
    },
    "2dee08aebb234a4099c3dbb5c6c1a6a4": {
     "views": []
    },
    "305721e47e9645cfbd5d3f5613bc5739": {
     "views": []
    },
    "30c84b0ece6247de82e0eddf33b41d60": {
     "views": []
    },
    "35c4c1b24b324495949620cf4506a796": {
     "views": []
    },
    "389f3a75614248458e68338e16669515": {
     "views": []
    },
    "39c714957c384479921d8c8c18915173": {
     "views": []
    },
    "3e3f7afd28c746ec82545ea0269e8163": {
     "views": []
    },
    "48621dcb53464837a97cbef78f078143": {
     "views": []
    },
    "48cb6900929241a99fbad297141624fb": {
     "views": []
    },
    "55e8ac469fce403091db60c1e43223f8": {
     "views": []
    },
    "5894b889981e4397a2ad4735cdcf09c3": {
     "views": []
    },
    "5946b40475684deeb0191367ded49ccc": {
     "views": []
    },
    "5cd99c7a398f40efaa494f013c2d0154": {
     "views": []
    },
    "5d561efef3ce40c98f67b66f0870c69e": {
     "views": []
    },
    "5e0ddc0132a946589bb67de4f539f9c5": {
     "views": []
    },
    "5e3ca7b5499a4287a997fe159e9255ea": {
     "views": []
    },
    "5ee6e060c5ae42e2a954c39fd40a2991": {
     "views": []
    },
    "63f4a2efd0f9446f8d88fc30ff6991b3": {
     "views": []
    },
    "6487ee83419f4b3fbb8b26c4cd6146f5": {
     "views": []
    },
    "6905c8530e0d471c96c4cbdce5466abd": {
     "views": []
    },
    "6f45034bd2a14f33bb4cc714fd233f13": {
     "views": []
    },
    "6ffb510d86ef4e24821605bbbac50792": {
     "views": []
    },
    "72c0cb671fae4ad8a703d67564923a77": {
     "views": []
    },
    "72d264f63d544c0aba759b17014a22c7": {
     "views": []
    },
    "7a5b3d602daf4547adb0abdd506fb794": {
     "views": [
      {
       "cell_index": 15
      }
     ]
    },
    "7f82788fa9b14f5bb22ed6e439d11b5f": {
     "views": []
    },
    "80b832fc76e642dfb78ec11ec3e387b4": {
     "views": []
    },
    "81806dd0443f407eb7980c78b4f56656": {
     "views": []
    },
    "8260cbe9e98647c089b8f0d9103959ee": {
     "views": []
    },
    "83188393890e49b985202c106fcd8d89": {
     "views": []
    },
    "847eb7d1104848619c97234483564c6f": {
     "views": []
    },
    "8576e6b0d9a6430aa97c70043991b324": {
     "views": []
    },
    "896ae90fbe754307925ee80533fbe645": {
     "views": []
    },
    "8aa303c094c944339d8028ab9e924d91": {
     "views": []
    },
    "8aac049e4639483e815bccbca4f2e9c5": {
     "views": []
    },
    "8c7c2dad6ce54616ad62e57e96782088": {
     "views": []
    },
    "93b546bc8afe4d00bfe009768d06a686": {
     "views": []
    },
    "974cac5cb9bf4e1ea52a44142a0e2405": {
     "views": []
    },
    "993f52029ffd48649df0a796160396ae": {
     "views": []
    },
    "9d6637e32c214225999829491d8a7948": {
     "views": []
    },
    "9f3cd3539219466589e57120dd191460": {
     "views": []
    },
    "9ff87ebfad8343c98e9a693a2ac5dbc0": {
     "views": []
    },
    "a589f60d9abe4f119a011e7ca9ba885a": {
     "views": []
    },
    "aed59f7273f44aa1b540ddc826192757": {
     "views": []
    },
    "b396cce22ae04eaa9fdbd8b1869f529b": {
     "views": []
    },
    "b515ef76e1904a799c55fc7ff8205bed": {
     "views": []
    },
    "b642af828773484282414982ad2581fd": {
     "views": []
    },
    "b686781f7f244200a5e6f139d8768c8c": {
     "views": []
    },
    "bcffac475ee74da991f7304a08647479": {
     "views": []
    },
    "bf3ba0f75c8b4e5f83618a603dc65525": {
     "views": []
    },
    "bf6c9575dcf6405da13b40e44dd53865": {
     "views": []
    },
    "bf8c98659822468888d48bb1bf86e897": {
     "views": []
    },
    "c2f109972d134235887b5ae43b92a0df": {
     "views": []
    },
    "c4813fa3f9d9434aab47f9d53ae695e8": {
     "views": []
    },
    "cb699ddc709d461989b40889c52b8813": {
     "views": []
    },
    "cbea1e225d8b4420927d816dd24dcd67": {
     "views": []
    },
    "cd1eaec91586431e9f01af53877b3d3e": {
     "views": []
    },
    "d08bff68dc5e452f9c8a1ad2a8d5d002": {
     "views": []
    },
    "d9830a44130c425594c75fcb29c2848b": {
     "views": []
    },
    "da30541d9bb24fc580275b66c3ba7861": {
     "views": []
    },
    "dcc7e723b8244ab8b77de15a3187c3d3": {
     "views": []
    },
    "e7e861b2f6b24c42a34035d6022a23d8": {
     "views": []
    },
    "ea5737672069490894847cb33ddc773b": {
     "views": []
    },
    "ee6ecb01aa0e4a37ae65308096b77f05": {
     "views": []
    },
    "ef79dbac02674cb288e8983546e08e52": {
     "views": []
    },
    "f190634d4f9d469dbdb3031138c89998": {
     "views": []
    },
    "f4b741d6d2a24102908b81521b8a355c": {
     "views": []
    },
    "f5b79d59d11443829d4e105a919c7f24": {
     "views": []
    },
    "f78fb1d94b054fd197f35dd1d8f24036": {
     "views": []
    },
    "fa97d381e93a456f8052689458472744": {
     "views": []
    },
    "fb81c3aa5b6c41d6a365da47dfa16d88": {
     "views": []
    },
    "fbb9933ee8ae4b59a41a2a9e03dd0d05": {
     "views": []
    }
   },
   "version": "1.1.1"
  }
 },
 "nbformat": 4,
 "nbformat_minor": 2
}
