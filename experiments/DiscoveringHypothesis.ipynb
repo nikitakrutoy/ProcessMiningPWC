{
 "cells": [
  {
   "cell_type": "markdown",
   "metadata": {
    "deletable": true,
    "editable": true,
    "toc": "true"
   },
   "source": [
    "# Table of Contents\n",
    " <p><div class=\"lev1 toc-item\"><a href=\"#Прероцессинг-данных\" data-toc-modified-id=\"Прероцессинг-данных-1\"><span class=\"toc-item-num\">1&nbsp;&nbsp;</span>Прероцессинг данных</a></div><div class=\"lev2 toc-item\"><a href=\"#Чистка\" data-toc-modified-id=\"Чистка-11\"><span class=\"toc-item-num\">1.1&nbsp;&nbsp;</span>Чистка</a></div><div class=\"lev2 toc-item\"><a href=\"#Топ-путей\" data-toc-modified-id=\"Топ-путей-12\"><span class=\"toc-item-num\">1.2&nbsp;&nbsp;</span>Топ путей</a></div><div class=\"lev1 toc-item\"><a href=\"#Альфа-Алгоритм\" data-toc-modified-id=\"Альфа-Алгоритм-2\"><span class=\"toc-item-num\">2&nbsp;&nbsp;</span>Альфа Алгоритм</a></div><div class=\"lev2 toc-item\"><a href=\"#40%-Кейсов\" data-toc-modified-id=\"40%-Кейсов-21\"><span class=\"toc-item-num\">2.1&nbsp;&nbsp;</span>40% Кейсов</a></div><div class=\"lev2 toc-item\"><a href=\"#Распределеий-цепочек\" data-toc-modified-id=\"Распределеий-цепочек-22\"><span class=\"toc-item-num\">2.2&nbsp;&nbsp;</span>Распределеий цепочек</a></div><div class=\"lev2 toc-item\"><a href=\"#Топ-цепочек\" data-toc-modified-id=\"Топ-цепочек-23\"><span class=\"toc-item-num\">2.3&nbsp;&nbsp;</span>Топ цепочек</a></div><div class=\"lev1 toc-item\"><a href=\"#Hypotheses\" data-toc-modified-id=\"Hypotheses-3\"><span class=\"toc-item-num\">3&nbsp;&nbsp;</span>Hypotheses</a></div><div class=\"lev2 toc-item\"><a href=\"#Casuality-prediction\" data-toc-modified-id=\"Casuality-prediction-31\"><span class=\"toc-item-num\">3.1&nbsp;&nbsp;</span>Casuality prediction</a></div><div class=\"lev3 toc-item\"><a href=\"#Причинные-связи\" data-toc-modified-id=\"Причинные-связи-311\"><span class=\"toc-item-num\">3.1.1&nbsp;&nbsp;</span>Причинные связи</a></div><div class=\"lev3 toc-item\"><a href=\"#Кластеризация\" data-toc-modified-id=\"Кластеризация-312\"><span class=\"toc-item-num\">3.1.2&nbsp;&nbsp;</span>Кластеризация</a></div><div class=\"lev2 toc-item\"><a href=\"#Embeddings\" data-toc-modified-id=\"Embeddings-32\"><span class=\"toc-item-num\">3.2&nbsp;&nbsp;</span>Embeddings</a></div><div class=\"lev3 toc-item\"><a href=\"#word2vec\" data-toc-modified-id=\"word2vec-321\"><span class=\"toc-item-num\">3.2.1&nbsp;&nbsp;</span>word2vec</a></div><div class=\"lev3 toc-item\"><a href=\"#doc2vec\" data-toc-modified-id=\"doc2vec-322\"><span class=\"toc-item-num\">3.2.2&nbsp;&nbsp;</span>doc2vec</a></div>"
   ]
  },
  {
   "cell_type": "code",
   "execution_count": 3,
   "metadata": {
    "ExecuteTime": {
     "end_time": "2018-03-05T20:12:17.284852Z",
     "start_time": "2018-03-05T20:12:16.423252Z"
    },
    "collapsed": true,
    "deletable": true,
    "editable": true
   },
   "outputs": [],
   "source": [
    "import numpy as np\n",
    "import pandas as pd\n",
    "import matplotlib.pyplot as plt"
   ]
  },
  {
   "cell_type": "markdown",
   "metadata": {
    "deletable": true,
    "editable": true
   },
   "source": [
    "# Прероцессинг данных"
   ]
  },
  {
   "cell_type": "markdown",
   "metadata": {
    "deletable": true,
    "editable": true
   },
   "source": [
    "## Чистка"
   ]
  },
  {
   "cell_type": "markdown",
   "metadata": {
    "ExecuteTime": {
     "end_time": "2018-02-13T18:53:13.047572Z",
     "start_time": "2018-02-13T18:53:13.041960Z"
    },
    "deletable": true,
    "editable": true
   },
   "source": [
    "Убираем кейсы, в которых только одно событие"
   ]
  },
  {
   "cell_type": "code",
   "execution_count": 66,
   "metadata": {
    "ExecuteTime": {
     "end_time": "2018-03-05T20:51:43.846329Z",
     "start_time": "2018-03-05T20:51:43.303517Z"
    },
    "collapsed": false,
    "deletable": true,
    "editable": true
   },
   "outputs": [
    {
     "name": "stderr",
     "output_type": "stream",
     "text": [
      "/Library/Frameworks/Python.framework/Versions/3.5/lib/python3.5/site-packages/IPython/core/interactiveshell.py:2698: DtypeWarning: Columns (17,18,41) have mixed types. Specify dtype option on import or set low_memory=False.\n",
      "  interactivity=interactivity, compiler=compiler, result=result)\n"
     ]
    }
   ],
   "source": [
    "data = pd.read_csv(\"data/pwc_data_merge/final.csv\")"
   ]
  },
  {
   "cell_type": "code",
   "execution_count": 517,
   "metadata": {
    "ExecuteTime": {
     "end_time": "2018-02-20T19:36:21.738026Z",
     "start_time": "2018-02-20T19:36:21.690469Z"
    },
    "collapsed": false,
    "deletable": true,
    "editable": true
   },
   "outputs": [],
   "source": [
    "case_ids = np.unique(data[\"CASE\"])"
   ]
  },
  {
   "cell_type": "code",
   "execution_count": 460,
   "metadata": {
    "ExecuteTime": {
     "end_time": "2018-02-20T19:11:59.213826Z",
     "start_time": "2018-02-20T19:11:59.209943Z"
    },
    "collapsed": true,
    "deletable": true,
    "editable": true
   },
   "outputs": [],
   "source": [
    "cases_num = case_ids.size"
   ]
  },
  {
   "cell_type": "code",
   "execution_count": 461,
   "metadata": {
    "ExecuteTime": {
     "end_time": "2018-02-20T19:11:59.805006Z",
     "start_time": "2018-02-20T19:11:59.801698Z"
    },
    "collapsed": true,
    "deletable": true,
    "editable": true
   },
   "outputs": [],
   "source": [
    "from tqdm import tqdm_notebook"
   ]
  },
  {
   "cell_type": "code",
   "execution_count": 467,
   "metadata": {
    "ExecuteTime": {
     "end_time": "2018-02-20T19:15:24.995747Z",
     "start_time": "2018-02-20T19:14:48.820608Z"
    },
    "collapsed": false,
    "deletable": true,
    "editable": true
   },
   "outputs": [
    {
     "name": "stdout",
     "output_type": "stream",
     "text": [
      "\n"
     ]
    }
   ],
   "source": [
    "simple_cases = []\n",
    "good_cases = data.copy() \n",
    "for case_id in tqdm_notebook(case_ids, desc=\"cases\"):\n",
    "    events = data[data[\"CASE\"] == case_id]\n",
    "    if events.shape[0] == 1:\n",
    "        good_cases.drop(events.index, inplace=True)\n",
    "        simple_cases.append(events.index[0])"
   ]
  },
  {
   "cell_type": "code",
   "execution_count": 469,
   "metadata": {
    "ExecuteTime": {
     "end_time": "2018-02-20T19:15:28.993257Z",
     "start_time": "2018-02-20T19:15:28.987077Z"
    },
    "collapsed": false,
    "deletable": true,
    "editable": true
   },
   "outputs": [
    {
     "data": {
      "text/plain": [
       "(31751, 53)"
      ]
     },
     "execution_count": 469,
     "metadata": {},
     "output_type": "execute_result"
    }
   ],
   "source": [
    "good_cases.shape"
   ]
  },
  {
   "cell_type": "code",
   "execution_count": 470,
   "metadata": {
    "ExecuteTime": {
     "end_time": "2018-02-20T19:15:29.965157Z",
     "start_time": "2018-02-20T19:15:29.958043Z"
    },
    "collapsed": false,
    "deletable": true,
    "editable": true
   },
   "outputs": [
    {
     "data": {
      "text/plain": [
       "(31968, 53)"
      ]
     },
     "execution_count": 470,
     "metadata": {},
     "output_type": "execute_result"
    }
   ],
   "source": [
    "data.shape"
   ]
  },
  {
   "cell_type": "code",
   "execution_count": 471,
   "metadata": {
    "ExecuteTime": {
     "end_time": "2018-02-20T19:15:31.546631Z",
     "start_time": "2018-02-20T19:15:31.500770Z"
    },
    "collapsed": false,
    "deletable": true,
    "editable": true
   },
   "outputs": [],
   "source": [
    "case_ids = np.unique(good_cases[\"CASE\"])"
   ]
  },
  {
   "cell_type": "code",
   "execution_count": 472,
   "metadata": {
    "ExecuteTime": {
     "end_time": "2018-02-20T19:15:32.050715Z",
     "start_time": "2018-02-20T19:15:32.046083Z"
    },
    "collapsed": true,
    "deletable": true,
    "editable": true
   },
   "outputs": [],
   "source": [
    "shuffle = np.random.shuffle"
   ]
  },
  {
   "cell_type": "code",
   "execution_count": 473,
   "metadata": {
    "ExecuteTime": {
     "end_time": "2018-02-20T19:15:32.749784Z",
     "start_time": "2018-02-20T19:15:32.742988Z"
    },
    "collapsed": false,
    "deletable": true,
    "editable": true
   },
   "outputs": [],
   "source": [
    "shuffle(case_ids)"
   ]
  },
  {
   "cell_type": "code",
   "execution_count": 474,
   "metadata": {
    "ExecuteTime": {
     "end_time": "2018-02-20T19:15:41.724974Z",
     "start_time": "2018-02-20T19:15:41.715983Z"
    },
    "collapsed": false,
    "deletable": true,
    "editable": true
   },
   "outputs": [
    {
     "name": "stdout",
     "output_type": "stream",
     "text": [
      "Cases number: 4791\n"
     ]
    }
   ],
   "source": [
    "cases_num = case_ids.size\n",
    "print(\"Cases number:\", cases_num)\n",
    "\n",
    "train_cases_ids = case_ids[: int(cases_num * 0.8)]\n",
    "test_cases_ids = case_ids[int(cases_num * 0.8):]"
   ]
  },
  {
   "cell_type": "code",
   "execution_count": 475,
   "metadata": {
    "ExecuteTime": {
     "end_time": "2018-02-20T19:15:43.723988Z",
     "start_time": "2018-02-20T19:15:43.710613Z"
    },
    "collapsed": false,
    "deletable": true,
    "editable": true
   },
   "outputs": [],
   "source": [
    "good_cases.set_index(\"CASE\", inplace=True)"
   ]
  },
  {
   "cell_type": "code",
   "execution_count": 477,
   "metadata": {
    "ExecuteTime": {
     "end_time": "2018-02-20T19:16:39.558303Z",
     "start_time": "2018-02-20T19:16:39.448860Z"
    },
    "collapsed": false,
    "deletable": true,
    "editable": true
   },
   "outputs": [],
   "source": [
    "train = good_cases.loc[train_cases_ids]\n",
    "test = good_cases.loc[test_cases_ids]\n",
    "# simple_cases = data.loc[simple_cases]"
   ]
  },
  {
   "cell_type": "code",
   "execution_count": 478,
   "metadata": {
    "ExecuteTime": {
     "end_time": "2018-02-20T19:16:41.977232Z",
     "start_time": "2018-02-20T19:16:41.967225Z"
    },
    "collapsed": false,
    "deletable": true,
    "editable": true
   },
   "outputs": [
    {
     "data": {
      "text/plain": [
       "(25052, 52)"
      ]
     },
     "execution_count": 478,
     "metadata": {},
     "output_type": "execute_result"
    }
   ],
   "source": [
    "train.shape"
   ]
  },
  {
   "cell_type": "code",
   "execution_count": 479,
   "metadata": {
    "ExecuteTime": {
     "end_time": "2018-02-20T19:16:47.527254Z",
     "start_time": "2018-02-20T19:16:47.519703Z"
    },
    "collapsed": false,
    "deletable": true,
    "editable": true
   },
   "outputs": [
    {
     "data": {
      "text/plain": [
       "(6699, 52)"
      ]
     },
     "execution_count": 479,
     "metadata": {},
     "output_type": "execute_result"
    }
   ],
   "source": [
    "test.shape"
   ]
  },
  {
   "cell_type": "code",
   "execution_count": 480,
   "metadata": {
    "ExecuteTime": {
     "end_time": "2018-02-20T19:17:02.564611Z",
     "start_time": "2018-02-20T19:17:02.553204Z"
    },
    "collapsed": false,
    "deletable": true,
    "editable": true
   },
   "outputs": [],
   "source": [
    "good_cases.reset_index(inplace=True)\n",
    "test.reset_index(inplace=True)\n",
    "train.reset_index(inplace=True)"
   ]
  },
  {
   "cell_type": "code",
   "execution_count": 85,
   "metadata": {
    "ExecuteTime": {
     "end_time": "2018-02-13T19:21:50.556426Z",
     "start_time": "2018-02-13T19:21:49.483820Z"
    },
    "collapsed": true,
    "deletable": true,
    "editable": true
   },
   "outputs": [],
   "source": [
    "train.to_csv(\"data/train.csv\")\n",
    "test.to_csv(\"data/test.csv\")\n",
    "simple_cases.to_csv(\"simple_cases.csv\")"
   ]
  },
  {
   "cell_type": "markdown",
   "metadata": {
    "deletable": true,
    "editable": true
   },
   "source": [
    "## Топ путей"
   ]
  },
  {
   "cell_type": "code",
   "execution_count": 333,
   "metadata": {
    "ExecuteTime": {
     "end_time": "2018-02-20T17:13:52.706180Z",
     "start_time": "2018-02-20T17:13:52.697483Z"
    },
    "collapsed": true,
    "deletable": true,
    "editable": true
   },
   "outputs": [],
   "source": [
    "from collections import Counter"
   ]
  },
  {
   "cell_type": "code",
   "execution_count": 529,
   "metadata": {
    "ExecuteTime": {
     "end_time": "2018-02-20T19:46:18.402173Z",
     "start_time": "2018-02-20T19:46:17.873874Z"
    },
    "collapsed": false,
    "deletable": true,
    "editable": true
   },
   "outputs": [],
   "source": [
    "data = pd.read_csv(\"data/train_test/train.csv\")\n",
    "data.sort_values(by=\"SYS DATE\", inplace=True)"
   ]
  },
  {
   "cell_type": "code",
   "execution_count": 526,
   "metadata": {
    "ExecuteTime": {
     "end_time": "2018-02-20T19:45:26.048731Z",
     "start_time": "2018-02-20T19:45:26.038377Z"
    },
    "collapsed": true,
    "deletable": true,
    "editable": true
   },
   "outputs": [],
   "source": [
    "data = train"
   ]
  },
  {
   "cell_type": "code",
   "execution_count": 530,
   "metadata": {
    "ExecuteTime": {
     "end_time": "2018-02-20T19:46:27.974792Z",
     "start_time": "2018-02-20T19:46:27.935874Z"
    },
    "collapsed": true,
    "deletable": true,
    "editable": true
   },
   "outputs": [],
   "source": [
    "case_ids = np.unique(data[\"CASE\"])"
   ]
  },
  {
   "cell_type": "markdown",
   "metadata": {
    "deletable": true,
    "editable": true
   },
   "source": [
    "Для оптимальное работы с кейсами обозначим каждое событие буковой алфавита, а каждый кейс строкой из этих букв"
   ]
  },
  {
   "cell_type": "code",
   "execution_count": 531,
   "metadata": {
    "ExecuteTime": {
     "end_time": "2018-02-20T19:46:28.817873Z",
     "start_time": "2018-02-20T19:46:28.776710Z"
    },
    "collapsed": false,
    "deletable": true,
    "editable": true
   },
   "outputs": [],
   "source": [
    "events = np.unique(data[\"SIMPLIFIED EVENT\"])\n",
    "size = events.size\n",
    "letters = [chr(i)  for i in range(ord(\"A\"), ord(\"A\") + 26)] + [chr(i) for i in range(ord(\"a\"), ord(\"a\") + size - 26)]\n",
    "letter2event = dict(zip(letters, events))\n",
    "event2letter = dict(zip(events, letters))"
   ]
  },
  {
   "cell_type": "code",
   "execution_count": 532,
   "metadata": {
    "ExecuteTime": {
     "end_time": "2018-02-20T19:46:51.585609Z",
     "start_time": "2018-02-20T19:46:29.892254Z"
    },
    "collapsed": false,
    "deletable": true,
    "editable": true
   },
   "outputs": [
    {
     "name": "stdout",
     "output_type": "stream",
     "text": [
      "\n"
     ]
    },
    {
     "name": "stderr",
     "output_type": "stream",
     "text": [
      "Exception in thread Thread-42:\n",
      "Traceback (most recent call last):\n",
      "  File \"/Library/Frameworks/Python.framework/Versions/3.5/lib/python3.5/threading.py\", line 914, in _bootstrap_inner\n",
      "    self.run()\n",
      "  File \"/Library/Frameworks/Python.framework/Versions/3.5/lib/python3.5/site-packages/tqdm/_tqdm.py\", line 102, in run\n",
      "    for instance in self.tqdm_cls._instances:\n",
      "  File \"/Library/Frameworks/Python.framework/Versions/3.5/lib/python3.5/_weakrefset.py\", line 60, in __iter__\n",
      "    for itemref in self.data:\n",
      "RuntimeError: Set changed size during iteration\n",
      "\n"
     ]
    },
    {
     "name": "stdout",
     "output_type": "stream",
     "text": [
      "\n"
     ]
    }
   ],
   "source": [
    "cases = []\n",
    "for case_id in tqdm_notebook(case_ids, desc=\"cases\"):\n",
    "    events = list(data[data[\"CASE\"] == case_id][\"SIMPLIFIED EVENT\"])\n",
    "    events = \"\".join([event2letter[event] for event in events])\n",
    "    cases.append((case_id, events))"
   ]
  },
  {
   "cell_type": "code",
   "execution_count": 533,
   "metadata": {
    "ExecuteTime": {
     "end_time": "2018-02-20T19:46:53.431191Z",
     "start_time": "2018-02-20T19:46:53.407467Z"
    },
    "collapsed": false,
    "deletable": true,
    "editable": true
   },
   "outputs": [],
   "source": [
    "path_counter = {}\n",
    "for case in cases:\n",
    "    events = case[1]\n",
    "    case_id = case[0]\n",
    "    if events in path_counter.keys():\n",
    "        path_counter[events][0] += 1\n",
    "        path_counter[events][1].append(case_id)\n",
    "    else:\n",
    "        path_counter[events] = [1, [case_id]]\n",
    "path_counter = list(path_counter.items())"
   ]
  },
  {
   "cell_type": "code",
   "execution_count": 534,
   "metadata": {
    "ExecuteTime": {
     "end_time": "2018-02-20T19:46:55.390380Z",
     "start_time": "2018-02-20T19:46:55.312450Z"
    },
    "collapsed": false,
    "deletable": true,
    "editable": true
   },
   "outputs": [],
   "source": [
    "def get_beta_cases(path_counter, cases_num, beta=0.4):\n",
    "    path_counter.sort(key=lambda x: x[1][0], reverse=True)\n",
    "    cases = []\n",
    "    paths = []\n",
    "    betas = []\n",
    "    cur_cases_num = 0\n",
    "    for path in path_counter:\n",
    "        if float(cur_cases_num) / cases_num >= beta:\n",
    "            break\n",
    "        cur_cases_num += path[1][0]\n",
    "        cases = cases + path[1][1]\n",
    "        paths.append(path[0])\n",
    "        betas.append(float(cur_cases_num) / cases_num)\n",
    "    return cases, paths, betas\n",
    "    \n",
    "cases_num = np.unique(data[\"CASE\"]).size\n",
    "beta_cases, paths, betas = get_beta_cases(path_counter, cases_num)    "
   ]
  },
  {
   "cell_type": "code",
   "execution_count": 535,
   "metadata": {
    "ExecuteTime": {
     "end_time": "2018-02-20T19:46:57.250778Z",
     "start_time": "2018-02-20T19:46:57.241518Z"
    },
    "collapsed": false,
    "deletable": true,
    "editable": true
   },
   "outputs": [
    {
     "data": {
      "text/plain": [
       "['YX',\n",
       " 'OF',\n",
       " 'UbB',\n",
       " 'UBb',\n",
       " 'OROF',\n",
       " 'UBaW',\n",
       " 'UaBW',\n",
       " 'OSROF',\n",
       " 'MOF',\n",
       " 'UMcOF',\n",
       " 'UbBMOF',\n",
       " 'UaB',\n",
       " 'UMcO']"
      ]
     },
     "execution_count": 535,
     "metadata": {},
     "output_type": "execute_result"
    }
   ],
   "source": [
    "paths"
   ]
  },
  {
   "cell_type": "code",
   "execution_count": 536,
   "metadata": {
    "ExecuteTime": {
     "end_time": "2018-02-20T19:47:06.919210Z",
     "start_time": "2018-02-20T19:47:06.898796Z"
    },
    "collapsed": false,
    "deletable": true,
    "editable": true
   },
   "outputs": [
    {
     "name": "stdout",
     "output_type": "stream",
     "text": [
      "Purchase requisition item updated\n",
      "Purchase requisition\n",
      "\n",
      "\n",
      "Invoice Reciept\n",
      "Clearing (Invoice)\n",
      "\n",
      "\n",
      "Purchase order\n",
      "RELEASED (5% delta possible)\n",
      "Approved\n",
      "\n",
      "\n",
      "Purchase order\n",
      "Approved\n",
      "RELEASED (5% delta possible)\n",
      "\n",
      "\n",
      "Invoice Reciept\n",
      "Invoice Reciept header updated\n",
      "Invoice Reciept\n",
      "Clearing (Invoice)\n",
      "\n",
      "\n",
      "Purchase order\n",
      "Approved\n",
      "RELEASED (10% delta possible)\n",
      "Purchase order item updated\n",
      "\n",
      "\n",
      "Purchase order\n",
      "RELEASED (10% delta possible)\n",
      "Approved\n",
      "Purchase order item updated\n",
      "\n",
      "\n",
      "Invoice Reciept\n",
      "Invoice Reciept item updated\n",
      "Invoice Reciept header updated\n",
      "Invoice Reciept\n",
      "Clearing (Invoice)\n",
      "\n",
      "\n",
      "Goods Reciept\n",
      "Invoice Reciept\n",
      "Clearing (Invoice)\n",
      "\n",
      "\n",
      "Purchase order\n",
      "Goods Reciept\n",
      "Service Entry Sheet\n",
      "Invoice Reciept\n",
      "Clearing (Invoice)\n",
      "\n",
      "\n",
      "Purchase order\n",
      "RELEASED (5% delta possible)\n",
      "Approved\n",
      "Goods Reciept\n",
      "Invoice Reciept\n",
      "Clearing (Invoice)\n",
      "\n",
      "\n",
      "Purchase order\n",
      "RELEASED (10% delta possible)\n",
      "Approved\n",
      "\n",
      "\n",
      "Purchase order\n",
      "Goods Reciept\n",
      "Service Entry Sheet\n",
      "Invoice Reciept\n",
      "\n",
      "\n"
     ]
    }
   ],
   "source": [
    "for path in paths:\n",
    "    events = list(path)\n",
    "    for event in events:\n",
    "        print(letter2event[event])\n",
    "    print()\n",
    "    print()"
   ]
  },
  {
   "cell_type": "code",
   "execution_count": 347,
   "metadata": {
    "ExecuteTime": {
     "end_time": "2018-02-20T17:15:30.802238Z",
     "start_time": "2018-02-20T17:15:30.727625Z"
    },
    "collapsed": false,
    "deletable": true,
    "editable": true
   },
   "outputs": [],
   "source": [
    "data.set_index(\"CASE\", inplace=True)\n",
    "log_for_alpha_algorithm = data.loc[beta_cases]\n",
    "data.reset_index(inplace=True)"
   ]
  },
  {
   "cell_type": "code",
   "execution_count": 348,
   "metadata": {
    "ExecuteTime": {
     "end_time": "2018-02-20T17:15:31.736619Z",
     "start_time": "2018-02-20T17:15:31.459728Z"
    },
    "collapsed": false,
    "deletable": true,
    "editable": true
   },
   "outputs": [],
   "source": [
    "log_for_alpha_algorithm.to_csv(\"data/log_for_alpha_algorithm.csv\")"
   ]
  },
  {
   "cell_type": "markdown",
   "metadata": {
    "deletable": true,
    "editable": true
   },
   "source": [
    "# Альфа Алгоритм"
   ]
  },
  {
   "cell_type": "code",
   "execution_count": 381,
   "metadata": {
    "ExecuteTime": {
     "end_time": "2018-03-06T13:58:01.286491Z",
     "start_time": "2018-03-06T13:58:01.193557Z"
    },
    "collapsed": false,
    "deletable": true,
    "editable": true
   },
   "outputs": [],
   "source": [
    "import importlib as im\n",
    "im.reload(processmining.preprocessing);\n",
    "im.reload(processmining.miners);"
   ]
  },
  {
   "cell_type": "code",
   "execution_count": 382,
   "metadata": {
    "ExecuteTime": {
     "end_time": "2018-03-06T13:58:01.705256Z",
     "start_time": "2018-03-06T13:58:01.694238Z"
    },
    "collapsed": false,
    "deletable": true,
    "editable": true
   },
   "outputs": [],
   "source": [
    "import processmining\n",
    "from processmining.preprocessing import *\n",
    "from processmining.miners import *"
   ]
  },
  {
   "cell_type": "markdown",
   "metadata": {
    "deletable": true,
    "editable": true
   },
   "source": [
    "## 40% Кейсов"
   ]
  },
  {
   "cell_type": "code",
   "execution_count": 383,
   "metadata": {
    "ExecuteTime": {
     "end_time": "2018-03-06T13:58:22.825068Z",
     "start_time": "2018-03-06T13:58:09.461060Z"
    },
    "collapsed": false,
    "deletable": true,
    "editable": true
   },
   "outputs": [
    {
     "name": "stderr",
     "output_type": "stream",
     "text": [
      "INFO:root:Reading...\n"
     ]
    }
   ],
   "source": [
    "dirty_log = Log.from_csv(\"data/train_test/train.csv\", do_sort=True)"
   ]
  },
  {
   "cell_type": "code",
   "execution_count": 89,
   "metadata": {
    "ExecuteTime": {
     "end_time": "2018-03-05T15:12:48.625398Z",
     "start_time": "2018-03-05T15:12:48.595985Z"
    },
    "collapsed": false,
    "deletable": true,
    "editable": true
   },
   "outputs": [
    {
     "name": "stderr",
     "output_type": "stream",
     "text": [
      "INFO:root:Pruning...\n"
     ]
    }
   ],
   "source": [
    "log, paths, betas = prune(dirty_log, coef=0.4)\n",
    "# log3 = pm.read_csv(\"data/log_for_alpha_algorithm.csv\", event_atr_name=\"SIMPLIFIED EVENT\")"
   ]
  },
  {
   "cell_type": "code",
   "execution_count": 31,
   "metadata": {
    "ExecuteTime": {
     "end_time": "2018-03-05T13:26:24.243996Z",
     "start_time": "2018-03-05T13:26:24.236240Z"
    },
    "collapsed": false,
    "deletable": true,
    "editable": true
   },
   "outputs": [
    {
     "name": "stderr",
     "output_type": "stream",
     "text": [
      "INFO:root:Cleaning...\n"
     ]
    }
   ],
   "source": [
    "clean(log, inplace=True);"
   ]
  },
  {
   "cell_type": "code",
   "execution_count": 51,
   "metadata": {
    "ExecuteTime": {
     "end_time": "2018-03-05T14:09:41.987444Z",
     "start_time": "2018-03-05T14:09:41.983205Z"
    },
    "collapsed": false,
    "deletable": true,
    "editable": true
   },
   "outputs": [],
   "source": [
    "al = AlphaMiner()"
   ]
  },
  {
   "cell_type": "code",
   "execution_count": 52,
   "metadata": {
    "ExecuteTime": {
     "end_time": "2018-03-05T14:20:09.083975Z",
     "start_time": "2018-03-05T14:09:42.670949Z"
    },
    "collapsed": false,
    "deletable": true,
    "editable": true
   },
   "outputs": [
    {
     "name": "stderr",
     "output_type": "stream",
     "text": [
      "DEBUG:root:Got task list\n",
      "DEBUG:root:Got direct follows\n",
      "DEBUG:root:Got causaieties\n",
      "DEBUG:root:Got cycles\n",
      "DEBUG:root:Got not causaieties\n",
      "DEBUG:root:Got parallels\n",
      "DEBUG:root:Got subsets\n",
      "INFO:root:Processing 8190 subset of 13 events\n",
      "DEBUG:root:Got Xl\n",
      "DEBUG:root:Building Petri net\n"
     ]
    },
    {
     "name": "stdout",
     "output_type": "stream",
     "text": [
      "\n"
     ]
    }
   ],
   "source": [
    "al.apply(log)"
   ]
  },
  {
   "cell_type": "code",
   "execution_count": 53,
   "metadata": {
    "ExecuteTime": {
     "end_time": "2018-03-05T14:20:12.609593Z",
     "start_time": "2018-03-05T14:20:12.479299Z"
    },
    "collapsed": false,
    "deletable": true,
    "editable": true
   },
   "outputs": [],
   "source": [
    "al.draw(output_file=\"purchase_process_model_40%_of_all_cases2\")"
   ]
  },
  {
   "cell_type": "markdown",
   "metadata": {
    "deletable": true,
    "editable": true
   },
   "source": [
    "## Распределеий цепочек"
   ]
  },
  {
   "cell_type": "code",
   "execution_count": 56,
   "metadata": {
    "ExecuteTime": {
     "end_time": "2018-03-05T15:01:55.150220Z",
     "start_time": "2018-03-05T15:01:54.915941Z"
    },
    "collapsed": false,
    "deletable": true,
    "editable": true
   },
   "outputs": [
    {
     "data": {
      "image/png": "[encoded data removed]",
      "text/plain": [
       "<matplotlib.figure.Figure at 0x1153ccd30>"
      ]
     },
     "metadata": {},
     "output_type": "display_data"
    }
   ],
   "source": [
    "plt.plot(betas)\n",
    "plt.xlabel(\"Unique paths\")\n",
    "plt.ylabel(\"Part in all cases\")\n",
    "plt.show()"
   ]
  },
  {
   "cell_type": "code",
   "execution_count": 90,
   "metadata": {
    "ExecuteTime": {
     "end_time": "2018-03-05T15:13:00.939975Z",
     "start_time": "2018-03-05T15:13:00.921351Z"
    },
    "collapsed": true,
    "deletable": true,
    "editable": true
   },
   "outputs": [],
   "source": [
    "path_counter = count_pathes(dirty_log)"
   ]
  },
  {
   "cell_type": "code",
   "execution_count": 93,
   "metadata": {
    "ExecuteTime": {
     "end_time": "2018-03-05T15:13:33.086879Z",
     "start_time": "2018-03-05T15:13:33.082393Z"
    },
    "collapsed": false,
    "deletable": true,
    "editable": true
   },
   "outputs": [],
   "source": [
    "path_counter = list(path_counter.items())"
   ]
  },
  {
   "cell_type": "code",
   "execution_count": 104,
   "metadata": {
    "ExecuteTime": {
     "end_time": "2018-03-05T15:22:26.353531Z",
     "start_time": "2018-03-05T15:22:26.349490Z"
    },
    "collapsed": true,
    "deletable": true,
    "editable": true
   },
   "outputs": [],
   "source": [
    "counts = [len(path[1]) for path in path_counter]"
   ]
  },
  {
   "cell_type": "code",
   "execution_count": 105,
   "metadata": {
    "ExecuteTime": {
     "end_time": "2018-03-05T15:22:35.580256Z",
     "start_time": "2018-03-05T15:22:35.575597Z"
    },
    "collapsed": false,
    "deletable": true,
    "editable": true
   },
   "outputs": [],
   "source": [
    "counts.sort(reverse=True)"
   ]
  },
  {
   "cell_type": "code",
   "execution_count": 106,
   "metadata": {
    "ExecuteTime": {
     "end_time": "2018-03-05T15:22:37.063025Z",
     "start_time": "2018-03-05T15:22:36.778600Z"
    },
    "collapsed": false,
    "deletable": true,
    "editable": true
   },
   "outputs": [
    {
     "data": {
      "image/png": "[encoded data removed]",
      "text/plain": [
       "<matplotlib.figure.Figure at 0x112a3af98>"
      ]
     },
     "metadata": {},
     "output_type": "display_data"
    }
   ],
   "source": [
    "plt.plot(counts)\n",
    "plt.xlabel(\"Unique paths\")\n",
    "plt.ylabel(\"Part in all cases\")\n",
    "plt.show()"
   ]
  },
  {
   "cell_type": "code",
   "execution_count": 109,
   "metadata": {
    "ExecuteTime": {
     "end_time": "2018-03-05T15:22:51.527481Z",
     "start_time": "2018-03-05T15:22:51.260926Z"
    },
    "collapsed": false,
    "deletable": true,
    "editable": true
   },
   "outputs": [
    {
     "data": {
      "image/png": "[encoded data removed]",
      "text/plain": [
       "<matplotlib.figure.Figure at 0x1149fc780>"
      ]
     },
     "metadata": {},
     "output_type": "display_data"
    }
   ],
   "source": [
    "counts = np.array(counts)\n",
    "counts = counts / sum(counts)\n",
    "plt.plot(counts[:12])\n",
    "plt.xlabel(\"Unique paths\")\n",
    "plt.ylabel(\"Part in all cases\")\n",
    "plt.show()"
   ]
  },
  {
   "cell_type": "markdown",
   "metadata": {
    "deletable": true,
    "editable": true
   },
   "source": [
    "## Топ цепочек"
   ]
  },
  {
   "cell_type": "code",
   "execution_count": 386,
   "metadata": {
    "ExecuteTime": {
     "end_time": "2018-03-06T14:00:18.816915Z",
     "start_time": "2018-03-06T14:00:18.811332Z"
    },
    "collapsed": true,
    "deletable": true,
    "editable": true
   },
   "outputs": [],
   "source": [
    "al = AlphaMiner()"
   ]
  },
  {
   "cell_type": "code",
   "execution_count": 115,
   "metadata": {
    "ExecuteTime": {
     "end_time": "2018-03-05T15:25:44.839536Z",
     "start_time": "2018-03-05T15:25:31.588674Z"
    },
    "collapsed": false,
    "deletable": true,
    "editable": true
   },
   "outputs": [
    {
     "name": "stderr",
     "output_type": "stream",
     "text": [
      "INFO:root:Reading...\n",
      "INFO:root:Pruning...\n"
     ]
    }
   ],
   "source": [
    "log, paths, betas = prune(Log.from_csv(\"data/train_test/train.csv\", do_sort=True), top=2)"
   ]
  },
  {
   "cell_type": "code",
   "execution_count": 119,
   "metadata": {
    "ExecuteTime": {
     "end_time": "2018-03-05T15:27:16.373373Z",
     "start_time": "2018-03-05T15:27:16.166401Z"
    },
    "collapsed": false,
    "deletable": true,
    "editable": true
   },
   "outputs": [
    {
     "name": "stderr",
     "output_type": "stream",
     "text": [
      "DEBUG:root:Got task list\n",
      "DEBUG:root:Got direct follows\n",
      "DEBUG:root:Got causaieties\n",
      "DEBUG:root:Got cycles\n",
      "DEBUG:root:Got not causaieties\n",
      "DEBUG:root:Got parallels\n",
      "DEBUG:root:Got subsets\n",
      "INFO:root:Processing 14 subset of 4 events\n",
      "DEBUG:root:Got Xl\n",
      "DEBUG:root:Building Petri net\n"
     ]
    },
    {
     "name": "stdout",
     "output_type": "stream",
     "text": [
      "\n"
     ]
    }
   ],
   "source": [
    "al.apply(log)\n",
    "al.draw(output_file=\"purchase_process_model_top2_cases\")"
   ]
  },
  {
   "cell_type": "code",
   "execution_count": 120,
   "metadata": {
    "ExecuteTime": {
     "end_time": "2018-03-05T15:28:15.264156Z",
     "start_time": "2018-03-05T15:28:01.525406Z"
    },
    "collapsed": false,
    "deletable": true,
    "editable": true
   },
   "outputs": [
    {
     "name": "stderr",
     "output_type": "stream",
     "text": [
      "INFO:root:Reading...\n",
      "INFO:root:Pruning...\n"
     ]
    }
   ],
   "source": [
    "log, paths, betas = prune(Log.from_csv(\"data/train_test/train.csv\", do_sort=True), top=3)"
   ]
  },
  {
   "cell_type": "code",
   "execution_count": 121,
   "metadata": {
    "ExecuteTime": {
     "end_time": "2018-03-05T15:28:17.489334Z",
     "start_time": "2018-03-05T15:28:17.222381Z"
    },
    "collapsed": false,
    "deletable": true,
    "editable": true
   },
   "outputs": [
    {
     "name": "stderr",
     "output_type": "stream",
     "text": [
      "DEBUG:root:Got task list\n",
      "DEBUG:root:Got direct follows\n",
      "DEBUG:root:Got causaieties\n",
      "DEBUG:root:Got cycles\n",
      "DEBUG:root:Got not causaieties\n",
      "DEBUG:root:Got parallels\n",
      "DEBUG:root:Got subsets\n",
      "INFO:root:Processing 126 subset of 7 events\n",
      "DEBUG:root:Got Xl\n",
      "DEBUG:root:Building Petri net\n"
     ]
    },
    {
     "name": "stdout",
     "output_type": "stream",
     "text": [
      "\n"
     ]
    }
   ],
   "source": [
    "al.apply(log)\n",
    "al.draw(output_file=\"purchase_process_model_top3_cases\")"
   ]
  },
  {
   "cell_type": "code",
   "execution_count": 122,
   "metadata": {
    "ExecuteTime": {
     "end_time": "2018-03-05T15:29:04.734172Z",
     "start_time": "2018-03-05T15:28:45.408368Z"
    },
    "collapsed": false,
    "deletable": true,
    "editable": true
   },
   "outputs": [
    {
     "name": "stderr",
     "output_type": "stream",
     "text": [
      "INFO:root:Reading...\n",
      "INFO:root:Pruning...\n"
     ]
    }
   ],
   "source": [
    "log, paths, betas = prune(Log.from_csv(\"data/train_test/train.csv\", do_sort=True), top=4)"
   ]
  },
  {
   "cell_type": "code",
   "execution_count": 123,
   "metadata": {
    "ExecuteTime": {
     "end_time": "2018-03-05T15:29:07.936779Z",
     "start_time": "2018-03-05T15:29:07.660235Z"
    },
    "collapsed": false,
    "deletable": true,
    "editable": true
   },
   "outputs": [
    {
     "name": "stderr",
     "output_type": "stream",
     "text": [
      "DEBUG:root:Got task list\n",
      "DEBUG:root:Got direct follows\n",
      "DEBUG:root:Got causaieties\n",
      "DEBUG:root:Got cycles\n",
      "DEBUG:root:Got not causaieties\n",
      "DEBUG:root:Got parallels\n",
      "DEBUG:root:Got subsets\n",
      "INFO:root:Processing 126 subset of 7 events\n",
      "DEBUG:root:Got Xl\n",
      "DEBUG:root:Building Petri net\n"
     ]
    },
    {
     "name": "stdout",
     "output_type": "stream",
     "text": [
      "\n"
     ]
    }
   ],
   "source": [
    "al.apply(log)\n",
    "al.draw(output_file=\"purchase_process_model_top4_cases\")"
   ]
  },
  {
   "cell_type": "code",
   "execution_count": 384,
   "metadata": {
    "ExecuteTime": {
     "end_time": "2018-03-06T14:00:09.021474Z",
     "start_time": "2018-03-06T13:59:54.085742Z"
    },
    "collapsed": false,
    "deletable": true,
    "editable": true
   },
   "outputs": [
    {
     "name": "stderr",
     "output_type": "stream",
     "text": [
      "INFO:root:Reading...\n",
      "INFO:root:Pruning...\n"
     ]
    }
   ],
   "source": [
    "log, paths, betas = prune(Log.from_csv(\"data/train_test/train.csv\", do_sort=True), top=8)"
   ]
  },
  {
   "cell_type": "code",
   "execution_count": 387,
   "metadata": {
    "ExecuteTime": {
     "end_time": "2018-03-06T14:00:58.616245Z",
     "start_time": "2018-03-06T14:00:21.843284Z"
    },
    "collapsed": false,
    "deletable": true,
    "editable": true
   },
   "outputs": [
    {
     "name": "stderr",
     "output_type": "stream",
     "text": [
      "DEBUG:root:Got task list\n",
      "DEBUG:root:Got direct follows\n",
      "DEBUG:root:Got causaieties\n",
      "DEBUG:root:Got cycles\n",
      "DEBUG:root:Got not causaieties\n",
      "DEBUG:root:Got parallels\n",
      "DEBUG:root:Got subsets\n",
      "INFO:root:Processing 2046 subset of 11 events\n",
      "DEBUG:root:Got Xl\n",
      "DEBUG:root:Building Petri net\n"
     ]
    },
    {
     "name": "stdout",
     "output_type": "stream",
     "text": [
      "\n"
     ]
    }
   ],
   "source": [
    "al.apply(log)\n",
    "al.draw(output_file=\"purchase_process_model_top8_cases\")"
   ]
  },
  {
   "cell_type": "markdown",
   "metadata": {
    "collapsed": true,
    "deletable": true,
    "editable": true
   },
   "source": [
    "# Hypotheses"
   ]
  },
  {
   "cell_type": "markdown",
   "metadata": {
    "deletable": true,
    "editable": true
   },
   "source": [
    "## Casuality prediction"
   ]
  },
  {
   "cell_type": "code",
   "execution_count": 4,
   "metadata": {
    "ExecuteTime": {
     "end_time": "2018-02-20T09:30:24.909973Z",
     "start_time": "2018-02-20T09:30:24.555479Z"
    },
    "collapsed": false,
    "deletable": true,
    "editable": true
   },
   "outputs": [],
   "source": [
    "data = pd.read_csv(\"data/train_test/train.csv\")"
   ]
  },
  {
   "cell_type": "code",
   "execution_count": 100,
   "metadata": {
    "ExecuteTime": {
     "end_time": "2018-02-20T11:36:18.848408Z",
     "start_time": "2018-02-20T11:36:18.844341Z"
    },
    "collapsed": true,
    "deletable": true,
    "editable": true
   },
   "outputs": [],
   "source": [
    "columns = [\"X\", \"Y\", \"|X|\", \"|Y|\", \"X>Y\", \"Y>X\", \"X>>>Y\", \"Y>>>X\"]"
   ]
  },
  {
   "cell_type": "code",
   "execution_count": 19,
   "metadata": {
    "ExecuteTime": {
     "end_time": "2018-02-20T10:00:34.488486Z",
     "start_time": "2018-02-20T10:00:34.460190Z"
    },
    "collapsed": true,
    "deletable": true,
    "editable": true
   },
   "outputs": [],
   "source": [
    "events = np.unique(data[\"SIMPLIFIED EVENT\"])\n",
    "size = events.size\n",
    "letters = [chr(i)  for i in range(ord(\"A\"), ord(\"A\") + 26)] + [chr(i) for i in range(ord(\"a\"), ord(\"a\") + size - 26)]\n",
    "letter2event = dict(zip(letters, events))\n",
    "event2letter = dict(zip(events, letters))"
   ]
  },
  {
   "cell_type": "code",
   "execution_count": null,
   "metadata": {
    "ExecuteTime": {
     "end_time": "2018-02-20T10:27:33.568572Z",
     "start_time": "2018-02-20T10:27:33.545639Z"
    },
    "collapsed": true,
    "deletable": true,
    "editable": true
   },
   "outputs": [],
   "source": [
    "case_ids = np.unique(data[\"CASE\"])"
   ]
  },
  {
   "cell_type": "markdown",
   "metadata": {
    "deletable": true,
    "editable": true
   },
   "source": [
    "### Причинные связи"
   ]
  },
  {
   "cell_type": "markdown",
   "metadata": {
    "deletable": true,
    "editable": true
   },
   "source": [
    "Получаем датафрей с причинными связями"
   ]
  },
  {
   "cell_type": "code",
   "execution_count": 150,
   "metadata": {
    "ExecuteTime": {
     "end_time": "2018-02-20T13:47:30.639035Z",
     "start_time": "2018-02-20T13:22:20.847232Z"
    },
    "collapsed": false,
    "deletable": true,
    "editable": true
   },
   "outputs": [
    {
     "name": "stdout",
     "output_type": "stream",
     "text": [
      "\n"
     ]
    }
   ],
   "source": [
    "casualities = pd.DataFrame(columns=columns)\n",
    "for case_id in tqdm_notebook(case_ids):\n",
    "    case = np.array(data[data[\"CASE\"] == case_id][\"SIMPLIFIED EVENT\"])\n",
    "    lettered_events = np.array([event2letter[event] for event in case])\n",
    "    for X, Y in combinations(lettered_events, 2):\n",
    "        if ord(Y) < ord(X):\n",
    "            X, Y = Y, X\n",
    "        index = X+Y\n",
    "        X_num = data[data[\"SIMPLIFIED EVENT\"] == letter2event[X]].shape[0]\n",
    "        Y_num = data[data[\"SIMPLIFIED EVENT\"] == letter2event[Y]].shape[0]\n",
    "        if index not in casualities.index:\n",
    "            casualities.loc[index] = [letter2event[X], letter2event[Y], X_num, Y_num, 0, 0, 0, 0]\n",
    "        xs = np.where(lettered_events == X)[0]\n",
    "        ys = np.where(lettered_events == Y)[0]\n",
    "        if xs.size != 0 and ys.size !=0:\n",
    "            for x in xs:\n",
    "                for y in ys:\n",
    "                    if x < y:\n",
    "                        casualities.at[index, \"X>>>Y\"] += 1\n",
    "                    else:\n",
    "                        casualities.at[index, \"Y>>>X\"] += 1\n",
    "                    \n",
    "                    if x + 1 == y:\n",
    "                        casualities.at[index, \"X>Y\"] += 1\n",
    "                    \n",
    "                    if y + 1 == x:\n",
    "                        casualities.at[index, \"Y>X\"] += 1"
   ]
  },
  {
   "cell_type": "code",
   "execution_count": 160,
   "metadata": {
    "ExecuteTime": {
     "end_time": "2018-02-20T13:53:53.830746Z",
     "start_time": "2018-02-20T13:53:53.814869Z"
    },
    "collapsed": false,
    "deletable": true,
    "editable": true
   },
   "outputs": [
    {
     "data": {
      "text/plain": [
       "(260, 9)"
      ]
     },
     "execution_count": 160,
     "metadata": {},
     "output_type": "execute_result"
    }
   ],
   "source": [
    "casualities.shape"
   ]
  },
  {
   "cell_type": "code",
   "execution_count": 408,
   "metadata": {
    "ExecuteTime": {
     "end_time": "2018-03-06T14:12:42.309316Z",
     "start_time": "2018-03-06T14:12:42.289715Z"
    },
    "collapsed": false,
    "deletable": true,
    "editable": true
   },
   "outputs": [],
   "source": [
    "casualities.to_csv(\"data/casualities.csv\")"
   ]
  },
  {
   "cell_type": "code",
   "execution_count": 111,
   "metadata": {
    "ExecuteTime": {
     "end_time": "2018-02-20T11:55:18.300820Z",
     "start_time": "2018-02-20T11:55:18.297547Z"
    },
    "collapsed": true,
    "deletable": true,
    "editable": true
   },
   "outputs": [],
   "source": [
    "import pickle"
   ]
  },
  {
   "cell_type": "code",
   "execution_count": 114,
   "metadata": {
    "ExecuteTime": {
     "end_time": "2018-02-20T11:58:15.721154Z",
     "start_time": "2018-02-20T11:58:15.715847Z"
    },
    "collapsed": false,
    "deletable": true,
    "editable": true
   },
   "outputs": [],
   "source": [
    "with open(\"data/letter2event.dict\", \"wb\") as f:\n",
    "    pickle.dump(letter2event, f)"
   ]
  },
  {
   "cell_type": "code",
   "execution_count": 115,
   "metadata": {
    "ExecuteTime": {
     "end_time": "2018-02-20T11:58:48.305807Z",
     "start_time": "2018-02-20T11:58:48.300359Z"
    },
    "collapsed": true,
    "deletable": true,
    "editable": true
   },
   "outputs": [],
   "source": [
    "with open(\"data/event2letter.dict\", \"wb\") as f:\n",
    "    pickle.dump(event2letter, f)"
   ]
  },
  {
   "cell_type": "markdown",
   "metadata": {
    "deletable": true,
    "editable": true
   },
   "source": [
    "### Кластеризация"
   ]
  },
  {
   "cell_type": "code",
   "execution_count": 129,
   "metadata": {
    "ExecuteTime": {
     "end_time": "2018-02-20T12:57:07.574500Z",
     "start_time": "2018-02-20T12:57:07.570194Z"
    },
    "collapsed": true,
    "deletable": true,
    "editable": true
   },
   "outputs": [],
   "source": [
    "from sklearn.cluster import KMeans\n",
    "from sklearn.preprocessing import StandardScaler"
   ]
  },
  {
   "cell_type": "code",
   "execution_count": 130,
   "metadata": {
    "ExecuteTime": {
     "end_time": "2018-02-20T12:57:18.056545Z",
     "start_time": "2018-02-20T12:57:18.052670Z"
    },
    "collapsed": true,
    "deletable": true,
    "editable": true
   },
   "outputs": [],
   "source": [
    "ss = StandardScaler()"
   ]
  },
  {
   "cell_type": "code",
   "execution_count": 185,
   "metadata": {
    "ExecuteTime": {
     "end_time": "2018-02-20T14:02:09.848892Z",
     "start_time": "2018-02-20T14:02:09.841178Z"
    },
    "collapsed": false,
    "deletable": true,
    "editable": true
   },
   "outputs": [],
   "source": [
    "casualities[\"ratio1\"] = (casualities[\"|X|\"] + casualities[\"|Y|\"]) / (casualities[\"X>Y\"] + casualities[\"Y>X\"] + 1) "
   ]
  },
  {
   "cell_type": "code",
   "execution_count": 186,
   "metadata": {
    "ExecuteTime": {
     "end_time": "2018-02-20T14:02:37.609850Z",
     "start_time": "2018-02-20T14:02:37.604504Z"
    },
    "collapsed": true,
    "deletable": true,
    "editable": true
   },
   "outputs": [],
   "source": [
    "casualities[\"ratio2\"] = (casualities[\"|X|\"] + casualities[\"|Y|\"]) / (casualities[\"X>>>Y\"] + casualities[\"Y>>>X\"])"
   ]
  },
  {
   "cell_type": "code",
   "execution_count": 194,
   "metadata": {
    "ExecuteTime": {
     "end_time": "2018-02-20T14:04:58.444462Z",
     "start_time": "2018-02-20T14:04:58.438647Z"
    },
    "collapsed": true,
    "deletable": true,
    "editable": true
   },
   "outputs": [],
   "source": [
    "km = KMeans(n_clusters=2, max_iter=1000)\n",
    "X = ss.fit_transform(casualities[[\"ratio1\", \"ratio2\"]])"
   ]
  },
  {
   "cell_type": "code",
   "execution_count": 206,
   "metadata": {
    "ExecuteTime": {
     "end_time": "2018-02-20T14:09:51.864940Z",
     "start_time": "2018-02-20T14:09:51.838197Z"
    },
    "collapsed": false,
    "deletable": true,
    "editable": true
   },
   "outputs": [
    {
     "data": {
      "text/plain": [
       "(183, 10)"
      ]
     },
     "execution_count": 206,
     "metadata": {},
     "output_type": "execute_result"
    }
   ],
   "source": [
    "clusters = km.fit_predict(X)\n",
    "casualities[clusters == 1].shape"
   ]
  },
  {
   "cell_type": "code",
   "execution_count": 193,
   "metadata": {
    "ExecuteTime": {
     "end_time": "2018-02-20T14:03:53.018860Z",
     "start_time": "2018-02-20T14:03:52.751349Z"
    },
    "collapsed": false,
    "deletable": true,
    "editable": true
   },
   "outputs": [
    {
     "data": {
      "image/png": "[encoded data removed]",
      "text/plain": [
       "<matplotlib.figure.Figure at 0x119a40dd8>"
      ]
     },
     "metadata": {},
     "output_type": "display_data"
    }
   ],
   "source": [
    "plt.scatter(np.array(casualities[\"ratio1\"]), np.array(casualities[\"ratio2\"]), c = clusters)\n",
    "plt.xlabel(\"ratio1\")\n",
    "plt.ylabel(\"ratio2\")\n",
    "plt.show()"
   ]
  },
  {
   "cell_type": "code",
   "execution_count": 200,
   "metadata": {
    "ExecuteTime": {
     "end_time": "2018-02-20T14:06:38.378311Z",
     "start_time": "2018-02-20T14:06:38.042183Z"
    },
    "collapsed": false,
    "deletable": true,
    "editable": true
   },
   "outputs": [
    {
     "data": {
      "image/png": "[encoded data removed]",
      "text/plain": [
       "<matplotlib.figure.Figure at 0x119c091d0>"
      ]
     },
     "metadata": {},
     "output_type": "display_data"
    }
   ],
   "source": [
    "plt.scatter(X.T[0], X.T[1], c = clusters)\n",
    "plt.xlabel(\"ratio1\")\n",
    "plt.ylabel(\"ratio2\")\n",
    "plt.show()"
   ]
  },
  {
   "cell_type": "markdown",
   "metadata": {
    "collapsed": true,
    "deletable": true,
    "editable": true
   },
   "source": [
    "## Embeddings"
   ]
  },
  {
   "cell_type": "code",
   "execution_count": 392,
   "metadata": {
    "ExecuteTime": {
     "end_time": "2018-03-06T14:10:05.744715Z",
     "start_time": "2018-03-06T14:10:05.282629Z"
    },
    "collapsed": false,
    "deletable": true,
    "editable": true
   },
   "outputs": [],
   "source": [
    "data = pd.read_csv(\"data/train_test/train.csv\")"
   ]
  },
  {
   "cell_type": "code",
   "execution_count": 394,
   "metadata": {
    "ExecuteTime": {
     "end_time": "2018-03-06T14:10:25.277197Z",
     "start_time": "2018-03-06T14:10:13.485244Z"
    },
    "collapsed": false,
    "deletable": true,
    "editable": true
   },
   "outputs": [
    {
     "name": "stderr",
     "output_type": "stream",
     "text": [
      "INFO:root:Reading...\n"
     ]
    }
   ],
   "source": [
    "log = Log.from_csv(\"data/train_test/train.csv\", do_sort=True)"
   ]
  },
  {
   "cell_type": "code",
   "execution_count": 432,
   "metadata": {
    "ExecuteTime": {
     "end_time": "2018-03-06T14:18:29.212516Z",
     "start_time": "2018-03-06T14:18:29.207032Z"
    },
    "collapsed": true,
    "deletable": true,
    "editable": true
   },
   "outputs": [],
   "source": [
    "case_lens = np.array([len(case) for case in log])"
   ]
  },
  {
   "cell_type": "code",
   "execution_count": 433,
   "metadata": {
    "ExecuteTime": {
     "end_time": "2018-03-06T14:19:44.422692Z",
     "start_time": "2018-03-06T14:19:44.411226Z"
    },
    "collapsed": false,
    "deletable": true,
    "editable": true
   },
   "outputs": [
    {
     "data": {
      "text/plain": [
       "DescribeResult(nobs=3832, minmax=(2, 51), mean=6.674843423799582, variance=33.24063035918932, skewness=2.1228551510899836, kurtosis=6.197747860689827)"
      ]
     },
     "execution_count": 433,
     "metadata": {},
     "output_type": "execute_result"
    }
   ],
   "source": [
    "from scipy.stats import describe\n",
    "describe(case_lens)"
   ]
  },
  {
   "cell_type": "code",
   "execution_count": 438,
   "metadata": {
    "ExecuteTime": {
     "end_time": "2018-03-06T14:21:28.126483Z",
     "start_time": "2018-03-06T14:21:28.117013Z"
    },
    "collapsed": false,
    "deletable": true,
    "editable": true
   },
   "outputs": [
    {
     "data": {
      "text/plain": [
       "5.0"
      ]
     },
     "execution_count": 438,
     "metadata": {},
     "output_type": "execute_result"
    }
   ],
   "source": [
    "np.median(case_lens)"
   ]
  },
  {
   "cell_type": "code",
   "execution_count": 436,
   "metadata": {
    "ExecuteTime": {
     "end_time": "2018-03-06T14:20:47.746285Z",
     "start_time": "2018-03-06T14:20:47.508933Z"
    },
    "collapsed": false,
    "deletable": true,
    "editable": true
   },
   "outputs": [
    {
     "data": {
      "image/png": "[encoded data removed]",
      "text/plain": [
       "<matplotlib.figure.Figure at 0x116eac5f8>"
      ]
     },
     "metadata": {},
     "output_type": "display_data"
    }
   ],
   "source": [
    "plt.hist(case_lens)\n",
    "plt.show()"
   ]
  },
  {
   "cell_type": "markdown",
   "metadata": {
    "deletable": true,
    "editable": true
   },
   "source": [
    "### word2vec"
   ]
  },
  {
   "cell_type": "code",
   "execution_count": 391,
   "metadata": {
    "ExecuteTime": {
     "end_time": "2018-03-06T14:10:04.639958Z",
     "start_time": "2018-03-06T14:10:04.632008Z"
    },
    "collapsed": true,
    "deletable": true,
    "editable": true
   },
   "outputs": [],
   "source": [
    "from gensim.models import Word2Vec"
   ]
  },
  {
   "cell_type": "code",
   "execution_count": 395,
   "metadata": {
    "ExecuteTime": {
     "end_time": "2018-03-06T14:10:36.466234Z",
     "start_time": "2018-03-06T14:10:36.452153Z"
    },
    "collapsed": false,
    "deletable": true,
    "editable": true
   },
   "outputs": [],
   "source": [
    "events = set()\n",
    "for case in log:\n",
    "    events = events | set(case)"
   ]
  },
  {
   "cell_type": "code",
   "execution_count": 501,
   "metadata": {
    "ExecuteTime": {
     "end_time": "2018-03-06T14:41:48.204092Z",
     "start_time": "2018-03-06T14:41:48.190143Z"
    },
    "collapsed": false,
    "deletable": true,
    "editable": true
   },
   "outputs": [
    {
     "name": "stderr",
     "output_type": "stream",
     "text": [
      "INFO:root:Cleaning...\n"
     ]
    }
   ],
   "source": [
    "clean_log = clean(log)"
   ]
  },
  {
   "cell_type": "code",
   "execution_count": 502,
   "metadata": {
    "ExecuteTime": {
     "end_time": "2018-03-06T14:41:52.897956Z",
     "start_time": "2018-03-06T14:41:52.894494Z"
    },
    "collapsed": true,
    "deletable": true,
    "editable": true
   },
   "outputs": [],
   "source": [
    "clean_log.make_dicts()"
   ]
  },
  {
   "cell_type": "code",
   "execution_count": 503,
   "metadata": {
    "ExecuteTime": {
     "end_time": "2018-03-06T14:41:59.008298Z",
     "start_time": "2018-03-06T14:41:59.002136Z"
    },
    "collapsed": true,
    "deletable": true,
    "editable": true
   },
   "outputs": [],
   "source": [
    "letter2event = clean_log.letter2event"
   ]
  },
  {
   "cell_type": "code",
   "execution_count": 504,
   "metadata": {
    "ExecuteTime": {
     "end_time": "2018-03-06T14:42:11.408829Z",
     "start_time": "2018-03-06T14:42:09.454342Z"
    },
    "collapsed": false,
    "deletable": true,
    "editable": true
   },
   "outputs": [
    {
     "name": "stderr",
     "output_type": "stream",
     "text": [
      "DEBUG:gensim.models.word2vec:Fast version of gensim.models.word2vec is being used\n",
      "INFO:gensim.models.word2vec:collecting all words and their counts\n",
      "INFO:gensim.models.word2vec:PROGRESS: at sentence #0, processed 0 words, keeping 0 word types\n",
      "INFO:gensim.models.word2vec:collected 29 word types from a corpus of 22695 raw words and 3832 sentences\n",
      "INFO:gensim.models.word2vec:Loading a fresh vocabulary\n",
      "INFO:gensim.models.word2vec:min_count=5 retains 29 unique words (100% of original 29, drops 0)\n",
      "INFO:gensim.models.word2vec:min_count=5 leaves 22695 word corpus (100% of original 22695, drops 0)\n",
      "INFO:gensim.models.word2vec:deleting the raw counts dictionary of 29 items\n",
      "INFO:gensim.models.word2vec:sample=0.001 downsamples 22 most-common words\n",
      "INFO:gensim.models.word2vec:downsampling leaves estimated 3581 word corpus (15.8% of prior 22695)\n",
      "INFO:gensim.models.word2vec:estimated required memory for 29 words and 300 dimensions: 124700 bytes\n",
      "INFO:gensim.models.word2vec:constructing a huffman tree from 29 words\n",
      "INFO:gensim.models.word2vec:built huffman tree with maximum node depth 12\n",
      "INFO:gensim.models.word2vec:resetting layer weights\n",
      "INFO:gensim.models.word2vec:training model with 3 workers on 29 vocabulary and 300 features, using sg=0 hs=1 sample=0.001 negative=5 window=3\n",
      "DEBUG:gensim.models.word2vec:queueing job #0 (9993 words, 2041 sentences) at alpha 0.02500\n",
      "DEBUG:gensim.models.word2vec:queueing job #1 (10000 words, 1296 sentences) at alpha 0.02487\n",
      "DEBUG:gensim.models.word2vec:queueing job #2 (10000 words, 2217 sentences) at alpha 0.02478\n",
      "DEBUG:gensim.models.word2vec:queueing job #3 (9998 words, 1200 sentences) at alpha 0.02464\n",
      "DEBUG:gensim.models.word2vec:queueing job #4 (9996 words, 2310 sentences) at alpha 0.02456\n",
      "DEBUG:gensim.models.word2vec:queueing job #5 (9996 words, 1183 sentences) at alpha 0.02441\n",
      "DEBUG:gensim.models.word2vec:queueing job #6 (9997 words, 2108 sentences) at alpha 0.02433\n",
      "DEBUG:gensim.models.word2vec:queueing job #7 (9996 words, 1421 sentences) at alpha 0.02420\n",
      "DEBUG:gensim.models.word2vec:queueing job #8 (9999 words, 1432 sentences) at alpha 0.02410\n",
      "DEBUG:gensim.models.word2vec:queueing job #9 (9983 words, 2061 sentences) at alpha 0.02401\n",
      "DEBUG:gensim.models.word2vec:queueing job #10 (9984 words, 1306 sentences) at alpha 0.02388\n",
      "DEBUG:gensim.models.word2vec:queueing job #11 (9995 words, 2215 sentences) at alpha 0.02379\n",
      "DEBUG:gensim.models.word2vec:queueing job #12 (9996 words, 1188 sentences) at alpha 0.02365\n",
      "DEBUG:gensim.models.word2vec:queueing job #13 (9997 words, 2210 sentences) at alpha 0.02357\n",
      "DEBUG:gensim.models.word2vec:queueing job #14 (9993 words, 1300 sentences) at alpha 0.02343\n",
      "DEBUG:gensim.models.word2vec:queueing job #15 (10000 words, 1865 sentences) at alpha 0.02334\n",
      "DEBUG:gensim.models.word2vec:queueing job #16 (9996 words, 1630 sentences) at alpha 0.02322\n",
      "DEBUG:gensim.models.word2vec:queueing job #17 (9993 words, 1386 sentences) at alpha 0.02312\n",
      "DEBUG:gensim.models.word2vec:queueing job #18 (9998 words, 2140 sentences) at alpha 0.02303\n",
      "DEBUG:gensim.models.word2vec:queueing job #19 (9998 words, 1272 sentences) at alpha 0.02289\n",
      "DEBUG:gensim.models.word2vec:queueing job #20 (9998 words, 2252 sentences) at alpha 0.02280\n",
      "DEBUG:gensim.models.word2vec:queueing job #21 (10000 words, 1163 sentences) at alpha 0.02266\n",
      "DEBUG:gensim.models.word2vec:queueing job #22 (9998 words, 2140 sentences) at alpha 0.02258\n",
      "DEBUG:gensim.models.word2vec:queueing job #23 (9997 words, 1384 sentences) at alpha 0.02244\n",
      "DEBUG:gensim.models.word2vec:queueing job #24 (10000 words, 1560 sentences) at alpha 0.02235\n",
      "DEBUG:gensim.models.word2vec:queueing job #25 (9976 words, 1940 sentences) at alpha 0.02225\n",
      "DEBUG:gensim.models.word2vec:queueing job #26 (9994 words, 1325 sentences) at alpha 0.02213\n",
      "DEBUG:gensim.models.word2vec:queueing job #27 (9989 words, 2191 sentences) at alpha 0.02204\n",
      "DEBUG:gensim.models.word2vec:queueing job #28 (9999 words, 1207 sentences) at alpha 0.02190\n",
      "DEBUG:gensim.models.word2vec:queueing job #29 (9993 words, 2326 sentences) at alpha 0.02182\n",
      "DEBUG:gensim.models.word2vec:queueing job #30 (9998 words, 1158 sentences) at alpha 0.02167\n",
      "DEBUG:gensim.models.word2vec:queueing job #31 (10000 words, 2134 sentences) at alpha 0.02159\n",
      "DEBUG:gensim.models.word2vec:queueing job #32 (9995 words, 1385 sentences) at alpha 0.02145\n",
      "DEBUG:gensim.models.word2vec:queueing job #33 (9999 words, 1443 sentences) at alpha 0.02136\n",
      "DEBUG:gensim.models.word2vec:queueing job #34 (9995 words, 2059 sentences) at alpha 0.02127\n",
      "DEBUG:gensim.models.word2vec:queueing job #35 (9994 words, 1288 sentences) at alpha 0.02114\n",
      "DEBUG:gensim.models.word2vec:queueing job #36 (10000 words, 2231 sentences) at alpha 0.02105\n",
      "DEBUG:gensim.models.word2vec:queueing job #37 (9998 words, 1202 sentences) at alpha 0.02091\n",
      "DEBUG:gensim.models.word2vec:queueing job #38 (9996 words, 2240 sentences) at alpha 0.02083\n",
      "DEBUG:gensim.models.word2vec:queueing job #39 (9997 words, 1256 sentences) at alpha 0.02068\n",
      "DEBUG:gensim.models.word2vec:queueing job #40 (10000 words, 1968 sentences) at alpha 0.02060\n",
      "DEBUG:gensim.models.word2vec:queueing job #41 (9997 words, 1537 sentences) at alpha 0.02048\n",
      "DEBUG:gensim.models.word2vec:queueing job #42 (9997 words, 1395 sentences) at alpha 0.02038\n",
      "DEBUG:gensim.models.word2vec:queueing job #43 (9996 words, 2119 sentences) at alpha 0.02028\n",
      "DEBUG:gensim.models.word2vec:queueing job #44 (9997 words, 1300 sentences) at alpha 0.02015\n",
      "DEBUG:gensim.models.word2vec:queueing job #45 (9995 words, 2222 sentences) at alpha 0.02006\n",
      "DEBUG:gensim.models.word2vec:queueing job #46 (10000 words, 1172 sentences) at alpha 0.01992\n",
      "DEBUG:gensim.models.word2vec:queueing job #47 (9995 words, 2167 sentences) at alpha 0.01984\n",
      "DEBUG:gensim.models.word2vec:queueing job #48 (9995 words, 1360 sentences) at alpha 0.01970\n",
      "DEBUG:gensim.models.word2vec:queueing job #49 (10000 words, 1652 sentences) at alpha 0.01961\n",
      "DEBUG:gensim.models.word2vec:queueing job #50 (9997 words, 1848 sentences) at alpha 0.01951\n",
      "DEBUG:gensim.models.word2vec:queueing job #51 (9999 words, 1334 sentences) at alpha 0.01939\n",
      "DEBUG:gensim.models.word2vec:queueing job #52 (9997 words, 2181 sentences) at alpha 0.01930\n",
      "DEBUG:gensim.models.word2vec:queueing job #53 (9996 words, 1216 sentences) at alpha 0.01916\n",
      "DEBUG:gensim.models.word2vec:queueing job #54 (9998 words, 2315 sentences) at alpha 0.01908\n",
      "DEBUG:gensim.models.word2vec:queueing job #55 (9999 words, 1160 sentences) at alpha 0.01893\n",
      "DEBUG:gensim.models.word2vec:queueing job #56 (9994 words, 2132 sentences) at alpha 0.01885\n",
      "DEBUG:gensim.models.word2vec:queueing job #57 (9997 words, 1382 sentences) at alpha 0.01871\n",
      "DEBUG:gensim.models.word2vec:queueing job #58 (9991 words, 1455 sentences) at alpha 0.01862\n",
      "DEBUG:gensim.models.word2vec:queueing job #59 (9999 words, 2056 sentences) at alpha 0.01853\n",
      "DEBUG:gensim.models.word2vec:queueing job #60 (9990 words, 1285 sentences) at alpha 0.01840\n",
      "DEBUG:gensim.models.word2vec:queueing job #61 (9997 words, 2227 sentences) at alpha 0.01831\n",
      "DEBUG:gensim.models.word2vec:queueing job #62 (9996 words, 1203 sentences) at alpha 0.01817\n",
      "DEBUG:gensim.models.word2vec:queueing job #63 (9998 words, 2282 sentences) at alpha 0.01809\n",
      "DEBUG:gensim.models.word2vec:queueing job #64 (9999 words, 1206 sentences) at alpha 0.01794\n",
      "DEBUG:gensim.models.word2vec:queueing job #65 (10000 words, 2083 sentences) at alpha 0.01786\n",
      "DEBUG:gensim.models.word2vec:queueing job #66 (10000 words, 1444 sentences) at alpha 0.01773\n",
      "DEBUG:gensim.models.word2vec:queueing job #67 (9996 words, 1421 sentences) at alpha 0.01763\n",
      "DEBUG:gensim.models.word2vec:queueing job #68 (10000 words, 2080 sentences) at alpha 0.01754\n",
      "DEBUG:gensim.models.word2vec:queueing job #69 (9998 words, 1317 sentences) at alpha 0.01741\n",
      "DEBUG:gensim.models.word2vec:queueing job #70 (9996 words, 2207 sentences) at alpha 0.01732\n",
      "DEBUG:gensim.models.word2vec:queueing job #71 (9999 words, 1173 sentences) at alpha 0.01718\n",
      "DEBUG:gensim.models.word2vec:queueing job #72 (10000 words, 2193 sentences) at alpha 0.01710\n",
      "DEBUG:gensim.models.word2vec:queueing job #73 (9981 words, 1331 sentences) at alpha 0.01696\n",
      "DEBUG:gensim.models.word2vec:queueing job #74 (10000 words, 1757 sentences) at alpha 0.01687\n",
      "DEBUG:gensim.models.word2vec:queueing job #75 (9993 words, 1738 sentences) at alpha 0.01676\n",
      "DEBUG:gensim.models.word2vec:queueing job #76 (9999 words, 1372 sentences) at alpha 0.01664\n",
      "DEBUG:gensim.models.word2vec:queueing job #77 (9988 words, 2151 sentences) at alpha 0.01656\n",
      "DEBUG:gensim.models.word2vec:queueing job #78 (10000 words, 1229 sentences) at alpha 0.01642\n",
      "DEBUG:gensim.models.word2vec:queueing job #79 (9996 words, 2297 sentences) at alpha 0.01634\n",
      "DEBUG:gensim.models.word2vec:queueing job #80 (9995 words, 1159 sentences) at alpha 0.01619\n",
      "DEBUG:gensim.models.word2vec:queueing job #81 (9997 words, 2133 sentences) at alpha 0.01611\n",
      "DEBUG:gensim.models.word2vec:queueing job #82 (9993 words, 1386 sentences) at alpha 0.01597\n",
      "DEBUG:gensim.models.word2vec:queueing job #83 (9995 words, 1457 sentences) at alpha 0.01588\n",
      "DEBUG:gensim.models.word2vec:queueing job #84 (9993 words, 2052 sentences) at alpha 0.01579\n",
      "DEBUG:gensim.models.word2vec:queueing job #85 (9998 words, 1290 sentences) at alpha 0.01565\n",
      "DEBUG:gensim.models.word2vec:queueing job #86 (9993 words, 2223 sentences) at alpha 0.01557\n",
      "DEBUG:gensim.models.word2vec:queueing job #87 (9991 words, 1198 sentences) at alpha 0.01543\n",
      "DEBUG:gensim.models.word2vec:queueing job #88 (9997 words, 2308 sentences) at alpha 0.01535\n",
      "DEBUG:gensim.models.word2vec:queueing job #89 (9995 words, 1186 sentences) at alpha 0.01520\n",
      "DEBUG:gensim.models.word2vec:queueing job #90 (9999 words, 2111 sentences) at alpha 0.01512\n",
      "DEBUG:gensim.models.word2vec:queueing job #91 (9994 words, 1417 sentences) at alpha 0.01498\n",
      "DEBUG:gensim.models.word2vec:queueing job #92 (9997 words, 1430 sentences) at alpha 0.01489\n",
      "DEBUG:gensim.models.word2vec:queueing job #93 (9985 words, 2064 sentences) at alpha 0.01480\n",
      "DEBUG:gensim.models.word2vec:queueing job #94 (9996 words, 1311 sentences) at alpha 0.01467\n",
      "DEBUG:gensim.models.word2vec:queueing job #95 (9999 words, 2209 sentences) at alpha 0.01458\n",
      "DEBUG:gensim.models.word2vec:queueing job #96 (9998 words, 1192 sentences) at alpha 0.01444\n",
      "DEBUG:gensim.models.word2vec:queueing job #97 (9991 words, 2206 sentences) at alpha 0.01436\n",
      "DEBUG:gensim.models.word2vec:queueing job #98 (9997 words, 1302 sentences) at alpha 0.01422\n",
      "DEBUG:gensim.models.word2vec:queueing job #99 (10000 words, 1848 sentences) at alpha 0.01413\n",
      "DEBUG:gensim.models.word2vec:queueing job #100 (9997 words, 1646 sentences) at alpha 0.01401\n",
      "DEBUG:gensim.models.word2vec:queueing job #101 (9992 words, 1389 sentences) at alpha 0.01390\n",
      "DEBUG:gensim.models.word2vec:queueing job #102 (9995 words, 2141 sentences) at alpha 0.01381\n",
      "DEBUG:gensim.models.word2vec:queueing job #103 (9997 words, 1262 sentences) at alpha 0.01367\n",
      "DEBUG:gensim.models.word2vec:queueing job #104 (9999 words, 2260 sentences) at alpha 0.01359\n",
      "DEBUG:gensim.models.word2vec:queueing job #105 (9995 words, 1161 sentences) at alpha 0.01345\n",
      "DEBUG:gensim.models.word2vec:queueing job #106 (10000 words, 2140 sentences) at alpha 0.01337\n",
      "DEBUG:gensim.models.word2vec:queueing job #107 (9996 words, 1388 sentences) at alpha 0.01323\n",
      "DEBUG:gensim.models.word2vec:queueing job #108 (9999 words, 1536 sentences) at alpha 0.01314\n",
      "DEBUG:gensim.models.word2vec:queueing job #109 (10000 words, 1964 sentences) at alpha 0.01304\n",
      "DEBUG:gensim.models.word2vec:queueing job #110 (9993 words, 1324 sentences) at alpha 0.01291\n",
      "DEBUG:gensim.models.word2vec:queueing job #111 (9999 words, 2193 sentences) at alpha 0.01283\n",
      "DEBUG:gensim.models.word2vec:queueing job #112 (9989 words, 1206 sentences) at alpha 0.01269\n",
      "DEBUG:gensim.models.word2vec:queueing job #113 (9994 words, 2326 sentences) at alpha 0.01261\n",
      "DEBUG:gensim.models.word2vec:queueing job #114 (9997 words, 1156 sentences) at alpha 0.01246\n",
      "DEBUG:gensim.models.word2vec:queueing job #115 (9998 words, 2133 sentences) at alpha 0.01238\n",
      "DEBUG:gensim.models.word2vec:queueing job #116 (9993 words, 1389 sentences) at alpha 0.01224\n",
      "DEBUG:gensim.models.word2vec:queueing job #117 (9996 words, 1440 sentences) at alpha 0.01215\n",
      "DEBUG:gensim.models.word2vec:queueing job #118 (9999 words, 2060 sentences) at alpha 0.01206\n",
      "DEBUG:gensim.models.word2vec:queueing job #119 (9978 words, 1290 sentences) at alpha 0.01192\n",
      "INFO:gensim.models.word2vec:PROGRESS: at 51.97% examples, 185395 words/s, in_qsize 0, out_qsize 0\n",
      "DEBUG:gensim.models.word2vec:queueing job #120 (9986 words, 2226 sentences) at alpha 0.01184\n",
      "DEBUG:gensim.models.word2vec:queueing job #121 (10000 words, 1203 sentences) at alpha 0.01170\n",
      "DEBUG:gensim.models.word2vec:queueing job #122 (9998 words, 2229 sentences) at alpha 0.01162\n",
      "DEBUG:gensim.models.word2vec:queueing job #123 (9998 words, 1269 sentences) at alpha 0.01147\n",
      "DEBUG:gensim.models.word2vec:queueing job #124 (9999 words, 1942 sentences) at alpha 0.01139\n",
      "DEBUG:gensim.models.word2vec:queueing job #125 (9985 words, 1560 sentences) at alpha 0.01126\n",
      "DEBUG:gensim.models.word2vec:queueing job #126 (10000 words, 1387 sentences) at alpha 0.01116\n",
      "DEBUG:gensim.models.word2vec:queueing job #127 (9995 words, 2127 sentences) at alpha 0.01107\n",
      "DEBUG:gensim.models.word2vec:queueing job #128 (9999 words, 1296 sentences) at alpha 0.01093\n",
      "DEBUG:gensim.models.word2vec:queueing job #129 (9998 words, 2228 sentences) at alpha 0.01085\n",
      "DEBUG:gensim.models.word2vec:queueing job #130 (9996 words, 1170 sentences) at alpha 0.01071\n",
      "DEBUG:gensim.models.word2vec:queueing job #131 (10000 words, 2159 sentences) at alpha 0.01063\n",
      "DEBUG:gensim.models.word2vec:queueing job #132 (9997 words, 1368 sentences) at alpha 0.01049\n",
      "DEBUG:gensim.models.word2vec:queueing job #133 (10000 words, 1628 sentences) at alpha 0.01040\n",
      "DEBUG:gensim.models.word2vec:queueing job #134 (9999 words, 1872 sentences) at alpha 0.01029\n",
      "DEBUG:gensim.models.word2vec:queueing job #135 (9994 words, 1332 sentences) at alpha 0.01017\n",
      "DEBUG:gensim.models.word2vec:queueing job #136 (9995 words, 2180 sentences) at alpha 0.01009\n",
      "DEBUG:gensim.models.word2vec:queueing job #137 (9987 words, 1218 sentences) at alpha 0.00994\n",
      "DEBUG:gensim.models.word2vec:queueing job #138 (9993 words, 2314 sentences) at alpha 0.00987\n",
      "DEBUG:gensim.models.word2vec:queueing job #139 (9994 words, 1158 sentences) at alpha 0.00972\n",
      "DEBUG:gensim.models.word2vec:queueing job #140 (10000 words, 2134 sentences) at alpha 0.00964\n",
      "DEBUG:gensim.models.word2vec:queueing job #141 (10000 words, 1385 sentences) at alpha 0.00950\n",
      "DEBUG:gensim.models.word2vec:queueing job #142 (9988 words, 1449 sentences) at alpha 0.00941\n",
      "DEBUG:gensim.models.word2vec:queueing job #143 (9996 words, 2059 sentences) at alpha 0.00932\n",
      "DEBUG:gensim.models.word2vec:queueing job #144 (9999 words, 1282 sentences) at alpha 0.00918\n",
      "DEBUG:gensim.models.word2vec:queueing job #145 (10000 words, 2230 sentences) at alpha 0.00910\n",
      "DEBUG:gensim.models.word2vec:queueing job #146 (9997 words, 1199 sentences) at alpha 0.00896\n",
      "DEBUG:gensim.models.word2vec:queueing job #147 (10000 words, 2286 sentences) at alpha 0.00888\n",
      "DEBUG:gensim.models.word2vec:queueing job #148 (10000 words, 1209 sentences) at alpha 0.00873\n",
      "DEBUG:gensim.models.word2vec:queueing job #149 (9999 words, 2055 sentences) at alpha 0.00865\n",
      "DEBUG:gensim.models.word2vec:queueing job #150 (10000 words, 1470 sentences) at alpha 0.00852\n",
      "DEBUG:gensim.models.word2vec:queueing job #151 (9999 words, 1416 sentences) at alpha 0.00842\n",
      "DEBUG:gensim.models.word2vec:queueing job #152 (9998 words, 2087 sentences) at alpha 0.00833\n",
      "DEBUG:gensim.models.word2vec:queueing job #153 (9993 words, 1308 sentences) at alpha 0.00819\n",
      "DEBUG:gensim.models.word2vec:queueing job #154 (9995 words, 2214 sentences) at alpha 0.00811\n",
      "DEBUG:gensim.models.word2vec:queueing job #155 (9999 words, 1172 sentences) at alpha 0.00796\n",
      "DEBUG:gensim.models.word2vec:queueing job #156 (9999 words, 2184 sentences) at alpha 0.00789\n",
      "DEBUG:gensim.models.word2vec:queueing job #157 (9995 words, 1343 sentences) at alpha 0.00775\n",
      "DEBUG:gensim.models.word2vec:queueing job #158 (10000 words, 1733 sentences) at alpha 0.00766\n",
      "DEBUG:gensim.models.word2vec:queueing job #159 (9982 words, 1759 sentences) at alpha 0.00755\n",
      "DEBUG:gensim.models.word2vec:queueing job #160 (9999 words, 1361 sentences) at alpha 0.00743\n",
      "DEBUG:gensim.models.word2vec:queueing job #161 (9996 words, 2164 sentences) at alpha 0.00734\n",
      "DEBUG:gensim.models.word2vec:queueing job #162 (9998 words, 1218 sentences) at alpha 0.00720\n",
      "DEBUG:gensim.models.word2vec:queueing job #163 (9996 words, 2305 sentences) at alpha 0.00712\n",
      "DEBUG:gensim.models.word2vec:queueing job #164 (9991 words, 1161 sentences) at alpha 0.00697\n",
      "DEBUG:gensim.models.word2vec:queueing job #165 (9998 words, 2125 sentences) at alpha 0.00690\n",
      "DEBUG:gensim.models.word2vec:queueing job #166 (9991 words, 1393 sentences) at alpha 0.00676\n",
      "DEBUG:gensim.models.word2vec:queueing job #167 (10000 words, 1455 sentences) at alpha 0.00667\n",
      "DEBUG:gensim.models.word2vec:queueing job #168 (9997 words, 2056 sentences) at alpha 0.00658\n",
      "DEBUG:gensim.models.word2vec:queueing job #169 (10000 words, 1289 sentences) at alpha 0.00644\n",
      "DEBUG:gensim.models.word2vec:queueing job #170 (9996 words, 2223 sentences) at alpha 0.00636\n",
      "DEBUG:gensim.models.word2vec:queueing job #171 (9997 words, 1202 sentences) at alpha 0.00621\n",
      "DEBUG:gensim.models.word2vec:queueing job #172 (9999 words, 2304 sentences) at alpha 0.00614\n",
      "DEBUG:gensim.models.word2vec:queueing job #173 (10000 words, 1187 sentences) at alpha 0.00599\n",
      "DEBUG:gensim.models.word2vec:queueing job #174 (9991 words, 2113 sentences) at alpha 0.00591\n",
      "DEBUG:gensim.models.word2vec:queueing job #175 (9999 words, 1416 sentences) at alpha 0.00577\n",
      "DEBUG:gensim.models.word2vec:queueing job #176 (9992 words, 1427 sentences) at alpha 0.00568\n",
      "DEBUG:gensim.models.word2vec:queueing job #177 (10000 words, 2067 sentences) at alpha 0.00559\n",
      "DEBUG:gensim.models.word2vec:queueing job #178 (9982 words, 1315 sentences) at alpha 0.00545\n",
      "DEBUG:gensim.models.word2vec:queueing job #179 (9986 words, 2205 sentences) at alpha 0.00537\n",
      "DEBUG:gensim.models.word2vec:queueing job #180 (9996 words, 1181 sentences) at alpha 0.00522\n",
      "DEBUG:gensim.models.word2vec:queueing job #181 (9997 words, 2205 sentences) at alpha 0.00515\n",
      "DEBUG:gensim.models.word2vec:queueing job #182 (9993 words, 1312 sentences) at alpha 0.00500\n",
      "DEBUG:gensim.models.word2vec:queueing job #183 (9999 words, 1824 sentences) at alpha 0.00492\n",
      "DEBUG:gensim.models.word2vec:queueing job #184 (10000 words, 1673 sentences) at alpha 0.00480\n",
      "DEBUG:gensim.models.word2vec:queueing job #185 (9996 words, 1385 sentences) at alpha 0.00469\n",
      "DEBUG:gensim.models.word2vec:queueing job #186 (10000 words, 2142 sentences) at alpha 0.00460\n",
      "DEBUG:gensim.models.word2vec:queueing job #187 (9999 words, 1258 sentences) at alpha 0.00446\n",
      "DEBUG:gensim.models.word2vec:queueing job #188 (9999 words, 2268 sentences) at alpha 0.00438\n",
      "DEBUG:gensim.models.word2vec:queueing job #189 (9995 words, 1159 sentences) at alpha 0.00423\n",
      "DEBUG:gensim.models.word2vec:queueing job #190 (10000 words, 2137 sentences) at alpha 0.00416\n",
      "DEBUG:gensim.models.word2vec:queueing job #191 (10000 words, 1389 sentences) at alpha 0.00402\n",
      "DEBUG:gensim.models.word2vec:queueing job #192 (9999 words, 1521 sentences) at alpha 0.00393\n",
      "DEBUG:gensim.models.word2vec:queueing job #193 (9993 words, 1981 sentences) at alpha 0.00383\n",
      "DEBUG:gensim.models.word2vec:queueing job #194 (9994 words, 1317 sentences) at alpha 0.00370\n",
      "DEBUG:gensim.models.word2vec:queueing job #195 (9998 words, 2199 sentences) at alpha 0.00362\n",
      "DEBUG:gensim.models.word2vec:queueing job #196 (9994 words, 1205 sentences) at alpha 0.00347\n",
      "DEBUG:gensim.models.word2vec:queueing job #197 (9993 words, 2329 sentences) at alpha 0.00339\n",
      "DEBUG:gensim.models.word2vec:queueing job #198 (9994 words, 1155 sentences) at alpha 0.00324\n",
      "DEBUG:gensim.models.word2vec:queueing job #199 (9998 words, 2122 sentences) at alpha 0.00317\n",
      "DEBUG:gensim.models.word2vec:queueing job #200 (9995 words, 1398 sentences) at alpha 0.00303\n",
      "DEBUG:gensim.models.word2vec:queueing job #201 (9993 words, 1443 sentences) at alpha 0.00294\n",
      "DEBUG:gensim.models.word2vec:queueing job #202 (9995 words, 2058 sentences) at alpha 0.00285\n",
      "DEBUG:gensim.models.word2vec:queueing job #203 (9982 words, 1295 sentences) at alpha 0.00271\n",
      "DEBUG:gensim.models.word2vec:queueing job #204 (9977 words, 2224 sentences) at alpha 0.00263\n",
      "DEBUG:gensim.models.word2vec:queueing job #205 (9998 words, 1197 sentences) at alpha 0.00248\n",
      "DEBUG:gensim.models.word2vec:queueing job #206 (9998 words, 2224 sentences) at alpha 0.00241\n",
      "DEBUG:gensim.models.word2vec:queueing job #207 (9999 words, 1279 sentences) at alpha 0.00226\n",
      "DEBUG:gensim.models.word2vec:queueing job #208 (10000 words, 1916 sentences) at alpha 0.00218\n",
      "DEBUG:gensim.models.word2vec:queueing job #209 (10000 words, 1582 sentences) at alpha 0.00205\n",
      "DEBUG:gensim.models.word2vec:queueing job #210 (9999 words, 1385 sentences) at alpha 0.00195\n",
      "DEBUG:gensim.models.word2vec:queueing job #211 (9998 words, 2132 sentences) at alpha 0.00186\n",
      "DEBUG:gensim.models.word2vec:queueing job #212 (9993 words, 1297 sentences) at alpha 0.00172\n",
      "DEBUG:gensim.models.word2vec:queueing job #213 (9999 words, 2230 sentences) at alpha 0.00164\n",
      "DEBUG:gensim.models.word2vec:queueing job #214 (10000 words, 1168 sentences) at alpha 0.00149\n",
      "DEBUG:gensim.models.word2vec:queueing job #215 (9996 words, 2153 sentences) at alpha 0.00142\n",
      "DEBUG:gensim.models.word2vec:queueing job #216 (10000 words, 1371 sentences) at alpha 0.00128\n",
      "DEBUG:gensim.models.word2vec:queueing job #217 (9999 words, 1612 sentences) at alpha 0.00119\n",
      "DEBUG:gensim.models.word2vec:queueing job #218 (9993 words, 1888 sentences) at alpha 0.00108\n",
      "DEBUG:gensim.models.word2vec:queueing job #219 (9997 words, 1332 sentences) at alpha 0.00096\n",
      "DEBUG:gensim.models.word2vec:queueing job #220 (9992 words, 2182 sentences) at alpha 0.00087\n",
      "DEBUG:gensim.models.word2vec:queueing job #221 (9998 words, 1220 sentences) at alpha 0.00073\n",
      "DEBUG:gensim.models.word2vec:queueing job #222 (9995 words, 2313 sentences) at alpha 0.00065\n",
      "DEBUG:gensim.models.word2vec:queueing job #223 (10000 words, 1160 sentences) at alpha 0.00050\n",
      "DEBUG:gensim.models.word2vec:queueing job #224 (9989 words, 2134 sentences) at alpha 0.00043\n",
      "DEBUG:gensim.models.word2vec:queueing job #225 (9996 words, 1384 sentences) at alpha 0.00029\n",
      "DEBUG:gensim.models.word2vec:queueing job #226 (9995 words, 1447 sentences) at alpha 0.00020\n",
      "DEBUG:gensim.models.word2vec:queueing job #227 (429 words, 70 sentences) at alpha 0.00010\n",
      "DEBUG:gensim.models.word2vec:job loop exiting, total 228 jobs\n",
      "DEBUG:gensim.models.word2vec:worker exiting, processed 81 jobs\n",
      "DEBUG:gensim.models.word2vec:worker exiting, processed 84 jobs\n",
      "DEBUG:gensim.models.word2vec:worker exiting, processed 63 jobs\n",
      "INFO:gensim.models.word2vec:worker thread finished; awaiting finish of 2 more threads\n",
      "INFO:gensim.models.word2vec:worker thread finished; awaiting finish of 1 more threads\n",
      "INFO:gensim.models.word2vec:worker thread finished; awaiting finish of 0 more threads\n",
      "INFO:gensim.models.word2vec:training on 2269500 raw words (357446 effective words) took 1.9s, 188047 effective words/s\n"
     ]
    }
   ],
   "source": [
    "wv = Word2Vec(log, window=3, sg=0, compute_loss=True, hs=1, sorted_vocab=1, iter=100, size=300)"
   ]
  },
  {
   "cell_type": "code",
   "execution_count": 505,
   "metadata": {
    "ExecuteTime": {
     "end_time": "2018-03-06T14:42:23.546458Z",
     "start_time": "2018-03-06T14:42:23.542340Z"
    },
    "collapsed": false,
    "deletable": true,
    "editable": true
   },
   "outputs": [],
   "source": [
    "vocab = list(wv.wv.vocab)\n",
    "embedding = [wv[name] for name in vocab]"
   ]
  },
  {
   "cell_type": "code",
   "execution_count": 401,
   "metadata": {
    "ExecuteTime": {
     "end_time": "2018-03-06T14:11:32.756044Z",
     "start_time": "2018-03-06T14:11:32.748842Z"
    },
    "collapsed": true,
    "deletable": true,
    "editable": true
   },
   "outputs": [],
   "source": [
    "casualities = pd.read_csv(\"data/casualities.csv\")"
   ]
  },
  {
   "cell_type": "code",
   "execution_count": 402,
   "metadata": {
    "ExecuteTime": {
     "end_time": "2018-03-06T14:11:34.130565Z",
     "start_time": "2018-03-06T14:11:34.091148Z"
    },
    "collapsed": false,
    "deletable": true,
    "editable": true
   },
   "outputs": [],
   "source": [
    "events = np.unique(data[\"SIMPLIFIED EVENT\"])\n",
    "size = events.size\n",
    "letters = [chr(i)  for i in range(ord(\"A\"), ord(\"A\") + 26)] + [chr(i) for i in range(ord(\"a\"), ord(\"a\") + size - 26)]\n",
    "letter2event = dict(zip(letters, events))\n",
    "event2letter = dict(zip(events, letters))"
   ]
  },
  {
   "cell_type": "code",
   "execution_count": 506,
   "metadata": {
    "ExecuteTime": {
     "end_time": "2018-03-06T14:42:32.214735Z",
     "start_time": "2018-03-06T14:42:32.185775Z"
    },
    "collapsed": false,
    "deletable": true,
    "editable": true
   },
   "outputs": [],
   "source": [
    "diffs = []\n",
    "for pair in list(casualities[\"Pairs\"]):\n",
    "#     print(pair)\n",
    "    events = list(pair)\n",
    "    eventA = letter2event[events[0]]\n",
    "    eventB = letter2event[events[1]]\n",
    "    vectA = wv[eventA]\n",
    "    vectB = wv[eventB]\n",
    "    diff = vectA - vectB\n",
    "    diffs.append(diff)\n",
    "    "
   ]
  },
  {
   "cell_type": "code",
   "execution_count": 507,
   "metadata": {
    "ExecuteTime": {
     "end_time": "2018-03-06T14:42:36.368963Z",
     "start_time": "2018-03-06T14:42:34.545545Z"
    },
    "collapsed": false,
    "deletable": true,
    "editable": true
   },
   "outputs": [],
   "source": [
    "from sklearn.manifold import TSNE\n",
    "X = TSNE(n_components=2).fit_transform(diffs)"
   ]
  },
  {
   "cell_type": "code",
   "execution_count": 508,
   "metadata": {
    "ExecuteTime": {
     "end_time": "2018-03-06T14:42:41.406968Z",
     "start_time": "2018-03-06T14:42:40.753431Z"
    },
    "collapsed": false,
    "deletable": true,
    "editable": true
   },
   "outputs": [],
   "source": [
    "from sklearn.cluster import KMeans\n",
    "km = KMeans(n_clusters=2, max_iter=1000, copy_x=True, tol=1e-17, verbose=0, n_init=100)\n",
    "km.fit(np.array(diffs))\n",
    "clusters = km.predict(np.array(diffs))"
   ]
  },
  {
   "cell_type": "code",
   "execution_count": 509,
   "metadata": {
    "ExecuteTime": {
     "end_time": "2018-03-06T14:42:47.256056Z",
     "start_time": "2018-03-06T14:42:46.982331Z"
    },
    "collapsed": false,
    "deletable": true,
    "editable": true
   },
   "outputs": [
    {
     "data": {
      "image/png": "[encoded data removed]",
      "text/plain": [
       "<matplotlib.figure.Figure at 0x11c617860>"
      ]
     },
     "metadata": {},
     "output_type": "display_data"
    }
   ],
   "source": [
    "plt.scatter(X[:,0], X[:,1], c=clusters)\n",
    "plt.title(\"Clustering for embedding of size 300 (window=3)\")\n",
    "plt.show()"
   ]
  },
  {
   "cell_type": "markdown",
   "metadata": {
    "deletable": true,
    "editable": true
   },
   "source": [
    "### doc2vec"
   ]
  },
  {
   "cell_type": "code",
   "execution_count": 510,
   "metadata": {
    "ExecuteTime": {
     "end_time": "2018-03-06T14:43:53.031505Z",
     "start_time": "2018-03-06T14:43:53.022973Z"
    },
    "collapsed": true,
    "deletable": true,
    "editable": true
   },
   "outputs": [],
   "source": [
    "from gensim.models import Doc2Vec\n",
    "from gensim.models.doc2vec import TaggedDocument"
   ]
  },
  {
   "cell_type": "code",
   "execution_count": 511,
   "metadata": {
    "ExecuteTime": {
     "end_time": "2018-03-06T14:43:53.554310Z",
     "start_time": "2018-03-06T14:43:53.539490Z"
    },
    "collapsed": false,
    "deletable": true,
    "editable": true
   },
   "outputs": [
    {
     "name": "stderr",
     "output_type": "stream",
     "text": [
      "INFO:root:Cleaning...\n"
     ]
    }
   ],
   "source": [
    "clean_log = clean(log)"
   ]
  },
  {
   "cell_type": "code",
   "execution_count": 512,
   "metadata": {
    "ExecuteTime": {
     "end_time": "2018-03-06T14:43:54.295236Z",
     "start_time": "2018-03-06T14:43:54.281126Z"
    },
    "collapsed": true,
    "deletable": true,
    "editable": true
   },
   "outputs": [],
   "source": [
    "docs = []\n",
    "for i, case in enumerate(clean_log):\n",
    "    docs.append(TaggedDocument(case, [i]))"
   ]
  },
  {
   "cell_type": "code",
   "execution_count": 513,
   "metadata": {
    "ExecuteTime": {
     "end_time": "2018-03-06T14:43:57.132105Z",
     "start_time": "2018-03-06T14:43:56.468998Z"
    },
    "collapsed": false,
    "deletable": true,
    "editable": true
   },
   "outputs": [
    {
     "name": "stderr",
     "output_type": "stream",
     "text": [
      "DEBUG:gensim.models.word2vec:Fast version of gensim.models.word2vec is being used\n",
      "INFO:gensim.models.doc2vec:collecting all words and their counts\n",
      "INFO:gensim.models.doc2vec:PROGRESS: at example #0, processed 0 words (0/s), 0 word types, 0 tags\n",
      "INFO:gensim.models.doc2vec:collected 29 word types and 3832 unique tags from a corpus of 3832 examples and 22695 words\n",
      "INFO:gensim.models.word2vec:Loading a fresh vocabulary\n",
      "INFO:gensim.models.word2vec:min_count=0 retains 29 unique words (100% of original 29, drops 0)\n",
      "INFO:gensim.models.word2vec:min_count=0 leaves 22695 word corpus (100% of original 22695, drops 0)\n",
      "INFO:gensim.models.word2vec:deleting the raw counts dictionary of 29 items\n",
      "INFO:gensim.models.word2vec:sample=0.001 downsamples 22 most-common words\n",
      "INFO:gensim.models.word2vec:downsampling leaves estimated 3581 word corpus (15.8% of prior 22695)\n",
      "INFO:gensim.models.word2vec:estimated required memory for 29 words and 100 dimensions: 1570500 bytes\n",
      "INFO:gensim.models.word2vec:resetting layer weights\n",
      "INFO:gensim.models.word2vec:training model with 3 workers on 29 vocabulary and 100 features, using sg=1 hs=0 sample=0.001 negative=5 window=3\n",
      "DEBUG:gensim.models.word2vec:queueing job #0 (9993 words, 2041 sentences) at alpha 0.02500\n",
      "DEBUG:gensim.models.word2vec:queueing job #1 (10000 words, 1296 sentences) at alpha 0.02235\n",
      "DEBUG:gensim.models.word2vec:queueing job #2 (10000 words, 2217 sentences) at alpha 0.02066\n",
      "DEBUG:gensim.models.word2vec:queueing job #3 (9998 words, 1200 sentences) at alpha 0.01778\n",
      "DEBUG:gensim.models.word2vec:queueing job #4 (9996 words, 2310 sentences) at alpha 0.01622\n",
      "DEBUG:gensim.models.word2vec:queueing job #5 (9996 words, 1183 sentences) at alpha 0.01322\n",
      "DEBUG:gensim.models.word2vec:queueing job #6 (9997 words, 2108 sentences) at alpha 0.01168\n",
      "DEBUG:gensim.models.word2vec:queueing job #7 (9996 words, 1421 sentences) at alpha 0.00894\n",
      "DEBUG:gensim.models.word2vec:queueing job #8 (9999 words, 1432 sentences) at alpha 0.00710\n",
      "DEBUG:gensim.models.word2vec:queueing job #9 (9983 words, 2061 sentences) at alpha 0.00524\n",
      "DEBUG:gensim.models.word2vec:queueing job #10 (9984 words, 1306 sentences) at alpha 0.00256\n",
      "DEBUG:gensim.models.word2vec:queueing job #11 (3533 words, 585 sentences) at alpha 0.00086\n",
      "DEBUG:gensim.models.word2vec:job loop exiting, total 12 jobs\n",
      "DEBUG:gensim.models.word2vec:worker exiting, processed 4 jobs\n",
      "INFO:gensim.models.word2vec:worker thread finished; awaiting finish of 2 more threads\n",
      "DEBUG:gensim.models.word2vec:worker exiting, processed 4 jobs\n",
      "INFO:gensim.models.word2vec:worker thread finished; awaiting finish of 1 more threads\n",
      "DEBUG:gensim.models.word2vec:worker exiting, processed 4 jobs\n",
      "INFO:gensim.models.word2vec:worker thread finished; awaiting finish of 0 more threads\n",
      "INFO:gensim.models.word2vec:training on 113475 raw words (37024 effective words) took 0.6s, 66212 effective words/s\n",
      "WARNING:gensim.models.word2vec:under 10 jobs per worker: consider setting a smaller `batch_words' for smoother alpha decay\n"
     ]
    }
   ],
   "source": [
    "dv = Doc2Vec(docs, dm=0, size=100, window=3, min_count=0)"
   ]
  },
  {
   "cell_type": "code",
   "execution_count": 514,
   "metadata": {
    "ExecuteTime": {
     "end_time": "2018-03-06T14:44:01.702876Z",
     "start_time": "2018-03-06T14:44:01.430101Z"
    },
    "collapsed": true,
    "deletable": true,
    "editable": true
   },
   "outputs": [],
   "source": [
    "diffs = np.array([dv.infer_vector(case) for case in clean_log])"
   ]
  },
  {
   "cell_type": "code",
   "execution_count": 515,
   "metadata": {
    "ExecuteTime": {
     "end_time": "2018-03-06T14:44:57.234850Z",
     "start_time": "2018-03-06T14:44:06.485913Z"
    },
    "collapsed": false,
    "deletable": true,
    "editable": true
   },
   "outputs": [],
   "source": [
    "X = TSNE(n_components=2).fit_transform(diffs)"
   ]
  },
  {
   "cell_type": "code",
   "execution_count": 516,
   "metadata": {
    "ExecuteTime": {
     "end_time": "2018-03-06T14:45:05.806610Z",
     "start_time": "2018-03-06T14:45:01.210488Z"
    },
    "collapsed": false,
    "deletable": true,
    "editable": true
   },
   "outputs": [],
   "source": [
    "from sklearn.cluster import KMeans\n",
    "cluster_num = 10\n",
    "km = KMeans(n_clusters=cluster_num, max_iter=1000, copy_x=True, tol=1e-17, verbose=0, n_init=100)\n",
    "km.fit(np.array(diffs))\n",
    "clusters = km.predict(np.array(diffs))"
   ]
  },
  {
   "cell_type": "code",
   "execution_count": 517,
   "metadata": {
    "ExecuteTime": {
     "end_time": "2018-03-06T14:45:06.253584Z",
     "start_time": "2018-03-06T14:45:05.808908Z"
    },
    "collapsed": false,
    "deletable": true,
    "editable": true
   },
   "outputs": [
    {
     "data": {
      "image/png": "[encoded data removed]",
      "text/plain": [
       "<matplotlib.figure.Figure at 0x11b694fd0>"
      ]
     },
     "metadata": {},
     "output_type": "display_data"
    }
   ],
   "source": [
    "for i in range(cluster_num):\n",
    "    points = X[clusters == i]\n",
    "    plt.scatter(points[:,0], points[:,1], label=i)\n",
    "plt.title(\"Clustering of docs for embedding of size 100\")\n",
    "plt.legend()\n",
    "plt.show()"
   ]
  },
  {
   "cell_type": "code",
   "execution_count": 518,
   "metadata": {
    "ExecuteTime": {
     "end_time": "2018-03-06T14:45:17.889285Z",
     "start_time": "2018-03-06T14:45:17.883099Z"
    },
    "collapsed": false,
    "deletable": true,
    "editable": true
   },
   "outputs": [],
   "source": [
    "arrlog = np.array(log)"
   ]
  },
  {
   "cell_type": "code",
   "execution_count": 520,
   "metadata": {
    "ExecuteTime": {
     "end_time": "2018-03-06T14:45:25.951843Z",
     "start_time": "2018-03-06T14:45:25.935931Z"
    },
    "collapsed": false,
    "deletable": true,
    "editable": true
   },
   "outputs": [
    {
     "name": "stdout",
     "output_type": "stream",
     "text": [
      "YX\n"
     ]
    }
   ],
   "source": [
    "paths = np.unique(arrlog[clusters == 0])\n",
    "for i in range(len(paths)):\n",
    "    paths[i] = \"\".join([event2letter[event] for event in paths[i]])\n",
    "\n",
    "for path in paths:\n",
    "    print(path)"
   ]
  },
  {
   "cell_type": "code",
   "execution_count": 388,
   "metadata": {
    "ExecuteTime": {
     "end_time": "2018-03-06T14:08:05.231935Z",
     "start_time": "2018-03-06T14:08:05.058461Z"
    },
    "collapsed": false,
    "deletable": true,
    "editable": true
   },
   "outputs": [
    {
     "name": "stderr",
     "output_type": "stream",
     "text": [
      "INFO:gensim.utils:saving Word2Vec object under models/events_embeddings, separately None\n",
      "INFO:gensim.utils:not storing attribute syn0norm\n",
      "INFO:gensim.utils:not storing attribute cum_table\n",
      "INFO:gensim.utils:saved models/events_embeddings\n"
     ]
    }
   ],
   "source": [
    "wv.save(\"models/events_embeddings\")"
   ]
  },
  {
   "cell_type": "code",
   "execution_count": 389,
   "metadata": {
    "ExecuteTime": {
     "end_time": "2018-03-06T14:08:39.196519Z",
     "start_time": "2018-03-06T14:08:39.146209Z"
    },
    "collapsed": false,
    "deletable": true,
    "editable": true
   },
   "outputs": [
    {
     "name": "stderr",
     "output_type": "stream",
     "text": [
      "INFO:gensim.utils:saving Doc2Vec object under models/cases_embeddings, separately None\n",
      "INFO:gensim.utils:not storing attribute syn0norm\n",
      "INFO:gensim.utils:not storing attribute cum_table\n",
      "INFO:gensim.utils:saved models/cases_embeddings\n"
     ]
    }
   ],
   "source": [
    "dv.save(\"models/cases_embeddings\")"
   ]
  },
  {
   "cell_type": "code",
   "execution_count": 497,
   "metadata": {
    "ExecuteTime": {
     "end_time": "2018-03-06T14:38:48.379219Z",
     "start_time": "2018-03-06T14:38:48.375063Z"
    },
    "collapsed": false,
    "deletable": true,
    "editable": true
   },
   "outputs": [],
   "source": [
    "pd.set_option('display.max_columns', 100)"
   ]
  },
  {
   "cell_type": "code",
   "execution_count": 498,
   "metadata": {
    "ExecuteTime": {
     "end_time": "2018-03-06T14:38:49.520897Z",
     "start_time": "2018-03-06T14:38:49.452295Z"
    },
    "collapsed": false,
    "deletable": true,
    "editable": true
   },
   "outputs": [
    {
     "data": {
      "text/html": [
       "<div>\n",
       "<style>\n",
       "    .dataframe thead tr:only-child th {\n",
       "        text-align: right;\n",
       "    }\n",
       "\n",
       "    .dataframe thead th {\n",
       "        text-align: left;\n",
       "    }\n",
       "\n",
       "    .dataframe tbody tr th {\n",
       "        vertical-align: top;\n",
       "    }\n",
       "</style>\n",
       "<table border=\"1\" class=\"dataframe\">\n",
       "  <thead>\n",
       "    <tr style=\"text-align: right;\">\n",
       "      <th></th>\n",
       "      <th>Unnamed: 0</th>\n",
       "      <th>CASE</th>\n",
       "      <th>Unnamed: 0.1</th>\n",
       "      <th>Unnamed: 0.1.1</th>\n",
       "      <th>EVENT</th>\n",
       "      <th>SIMPLIFIED EVENT</th>\n",
       "      <th>EVENT TYPE</th>\n",
       "      <th>SYS DATE</th>\n",
       "      <th>CREATION DATE</th>\n",
       "      <th>POSTING DATE</th>\n",
       "      <th>DOCUMENT DATE</th>\n",
       "      <th>Company Code</th>\n",
       "      <th>Company Code Description</th>\n",
       "      <th>Document Type</th>\n",
       "      <th>Document Type Description</th>\n",
       "      <th>Document Category</th>\n",
       "      <th>Document Category Description</th>\n",
       "      <th>User ID</th>\n",
       "      <th>User Name</th>\n",
       "      <th>User Type</th>\n",
       "      <th>Vendor</th>\n",
       "      <th>Vendor Name</th>\n",
       "      <th>Material</th>\n",
       "      <th>Material Text</th>\n",
       "      <th>Material Description</th>\n",
       "      <th>Purchase Organisation</th>\n",
       "      <th>Purchase Organisation Description</th>\n",
       "      <th>Purchase Group</th>\n",
       "      <th>Quantity</th>\n",
       "      <th>Amount in Reporting Currency</th>\n",
       "      <th>Purchase Document</th>\n",
       "      <th>Purchase Document Line Item</th>\n",
       "      <th>Reference Document</th>\n",
       "      <th>Reference Document Line Item</th>\n",
       "      <th>Context</th>\n",
       "      <th>SELECT</th>\n",
       "      <th>START DATE</th>\n",
       "      <th>END DATE</th>\n",
       "      <th>CASE_EVENTATT</th>\n",
       "      <th>User Group</th>\n",
       "      <th>User Country</th>\n",
       "      <th>Vendor Industry</th>\n",
       "      <th>Company Code Country</th>\n",
       "      <th>EVENT AND USER</th>\n",
       "      <th>EVENT AND DOCTYPE</th>\n",
       "      <th>INVOICES_Q</th>\n",
       "      <th>INVOICES_A</th>\n",
       "      <th>GOODS RECIEVED_Q</th>\n",
       "      <th>GOODS RECIEVED_A</th>\n",
       "      <th>POS_Q</th>\n",
       "      <th>POS_A</th>\n",
       "      <th>Unnamed: 48</th>\n",
       "      <th>Unnamed: 49</th>\n",
       "      <th>Unnamed: 50</th>\n",
       "    </tr>\n",
       "  </thead>\n",
       "  <tbody>\n",
       "    <tr>\n",
       "      <th>0</th>\n",
       "      <td>0</td>\n",
       "      <td>2000479285-10</td>\n",
       "      <td>3821</td>\n",
       "      <td>10741</td>\n",
       "      <td>Purchase order</td>\n",
       "      <td>Purchase order</td>\n",
       "      <td>Purchasing document</td>\n",
       "      <td>2014-10-13 05:30:16</td>\n",
       "      <td>2014-10-13 00:00:00</td>\n",
       "      <td>NaN</td>\n",
       "      <td>NaN</td>\n",
       "      <td>3000</td>\n",
       "      <td>Unknown</td>\n",
       "      <td>ZNB</td>\n",
       "      <td>NaN</td>\n",
       "      <td>F</td>\n",
       "      <td>Purchase order</td>\n",
       "      <td>CEYSSEOL</td>\n",
       "      <td>NaN</td>\n",
       "      <td>NaN</td>\n",
       "      <td>10175</td>\n",
       "      <td>Unknown</td>\n",
       "      <td>22998</td>\n",
       "      <td>BLA ISOPENTANE</td>\n",
       "      <td>BLA ISOPENTANE</td>\n",
       "      <td>3000</td>\n",
       "      <td>Unknown</td>\n",
       "      <td>N10</td>\n",
       "      <td>44000.0</td>\n",
       "      <td>48136.0</td>\n",
       "      <td>2000479285</td>\n",
       "      <td>10.0</td>\n",
       "      <td>2.000479e+09</td>\n",
       "      <td>10.0</td>\n",
       "      <td>Material type: Raw Materials (Intern nr); Mate...</td>\n",
       "      <td>2 - Purchase Order; 2 - Purchase Order</td>\n",
       "      <td>2014/10/13 05:30:16</td>\n",
       "      <td>2014/10/13 05:30:16</td>\n",
       "      <td>2000479285-10</td>\n",
       "      <td>NaN</td>\n",
       "      <td>NaN</td>\n",
       "      <td>NaN</td>\n",
       "      <td>NaN</td>\n",
       "      <td>NaN</td>\n",
       "      <td>NaN</td>\n",
       "      <td>21800</td>\n",
       "      <td>23849.2</td>\n",
       "      <td>21800</td>\n",
       "      <td>25070.0</td>\n",
       "      <td>44000.0</td>\n",
       "      <td>48136.0</td>\n",
       "      <td>NaN</td>\n",
       "      <td>NaN</td>\n",
       "      <td>NaN</td>\n",
       "    </tr>\n",
       "    <tr>\n",
       "      <th>1</th>\n",
       "      <td>1</td>\n",
       "      <td>2000479285-10</td>\n",
       "      <td>3822</td>\n",
       "      <td>10743</td>\n",
       "      <td>PO release - Approved</td>\n",
       "      <td>Approved</td>\n",
       "      <td>Document management - PO approval - status</td>\n",
       "      <td>2014-10-13 05:30:31</td>\n",
       "      <td>NaN</td>\n",
       "      <td>NaN</td>\n",
       "      <td>NaN</td>\n",
       "      <td>3000</td>\n",
       "      <td>Unknown</td>\n",
       "      <td>Not set</td>\n",
       "      <td>Not set</td>\n",
       "      <td>Not set</td>\n",
       "      <td>Purchase order</td>\n",
       "      <td>CEYSSEOL</td>\n",
       "      <td>NaN</td>\n",
       "      <td>NaN</td>\n",
       "      <td>10175</td>\n",
       "      <td>Unknown</td>\n",
       "      <td>22998</td>\n",
       "      <td>BLA ISOPENTANE</td>\n",
       "      <td>BLA ISOPENTANE</td>\n",
       "      <td>3000</td>\n",
       "      <td>Unknown</td>\n",
       "      <td>N10</td>\n",
       "      <td>NaN</td>\n",
       "      <td>NaN</td>\n",
       "      <td>2000479285</td>\n",
       "      <td>10.0</td>\n",
       "      <td>2.000479e+09</td>\n",
       "      <td>10.0</td>\n",
       "      <td>ZMM71:EKKO - FRGZU;  -&gt; X</td>\n",
       "      <td>8b - PO approval</td>\n",
       "      <td>2014/10/13 05:30:31</td>\n",
       "      <td>2014/10/13 05:30:31</td>\n",
       "      <td>2000479285-10</td>\n",
       "      <td>NaN</td>\n",
       "      <td>NaN</td>\n",
       "      <td>NaN</td>\n",
       "      <td>NaN</td>\n",
       "      <td>NaN</td>\n",
       "      <td>PO release - Approved-Not set</td>\n",
       "      <td>NaN</td>\n",
       "      <td>NaN</td>\n",
       "      <td>NaN</td>\n",
       "      <td>NaN</td>\n",
       "      <td>NaN</td>\n",
       "      <td>NaN</td>\n",
       "      <td>NaN</td>\n",
       "      <td>NaN</td>\n",
       "      <td>NaN</td>\n",
       "    </tr>\n",
       "    <tr>\n",
       "      <th>2</th>\n",
       "      <td>2</td>\n",
       "      <td>2000479285-10</td>\n",
       "      <td>3823</td>\n",
       "      <td>10744</td>\n",
       "      <td>PO release - RELEASED (5% delta possible)</td>\n",
       "      <td>RELEASED (5% delta possible)</td>\n",
       "      <td>Document management - PO approval - indicator</td>\n",
       "      <td>2014-10-13 05:30:31</td>\n",
       "      <td>NaN</td>\n",
       "      <td>NaN</td>\n",
       "      <td>NaN</td>\n",
       "      <td>3000</td>\n",
       "      <td>Unknown</td>\n",
       "      <td>Not set</td>\n",
       "      <td>Not set</td>\n",
       "      <td>Not set</td>\n",
       "      <td>Purchase order</td>\n",
       "      <td>CEYSSEOL</td>\n",
       "      <td>NaN</td>\n",
       "      <td>NaN</td>\n",
       "      <td>10175</td>\n",
       "      <td>Unknown</td>\n",
       "      <td>22998</td>\n",
       "      <td>BLA ISOPENTANE</td>\n",
       "      <td>BLA ISOPENTANE</td>\n",
       "      <td>3000</td>\n",
       "      <td>Unknown</td>\n",
       "      <td>N10</td>\n",
       "      <td>NaN</td>\n",
       "      <td>NaN</td>\n",
       "      <td>2000479285</td>\n",
       "      <td>10.0</td>\n",
       "      <td>2.000479e+09</td>\n",
       "      <td>10.0</td>\n",
       "      <td>ZMM71:EKKO - FRGKE; X -&gt; B</td>\n",
       "      <td>8a - PO approval</td>\n",
       "      <td>2014/10/13 05:30:31</td>\n",
       "      <td>2014/10/13 05:30:31</td>\n",
       "      <td>2000479285-10</td>\n",
       "      <td>NaN</td>\n",
       "      <td>NaN</td>\n",
       "      <td>NaN</td>\n",
       "      <td>NaN</td>\n",
       "      <td>NaN</td>\n",
       "      <td>PO release - RELEASED (5% delta possible)-Not set</td>\n",
       "      <td>NaN</td>\n",
       "      <td>NaN</td>\n",
       "      <td>NaN</td>\n",
       "      <td>NaN</td>\n",
       "      <td>NaN</td>\n",
       "      <td>NaN</td>\n",
       "      <td>NaN</td>\n",
       "      <td>NaN</td>\n",
       "      <td>NaN</td>\n",
       "    </tr>\n",
       "    <tr>\n",
       "      <th>3</th>\n",
       "      <td>3</td>\n",
       "      <td>2000479285-10</td>\n",
       "      <td>9336</td>\n",
       "      <td>26384</td>\n",
       "      <td>Goods Reciept (Goods Receipt for Purchase Order)</td>\n",
       "      <td>Goods Reciept</td>\n",
       "      <td>Delivery (in scope)</td>\n",
       "      <td>2014-10-30 10:49:37</td>\n",
       "      <td>2014-10-30 10:49:37</td>\n",
       "      <td>2014-10-30 00:00:00</td>\n",
       "      <td>NaN</td>\n",
       "      <td>3000</td>\n",
       "      <td>Unknown</td>\n",
       "      <td>WE</td>\n",
       "      <td>Goods receipt</td>\n",
       "      <td>WE</td>\n",
       "      <td>Goods Receipt for Purchase Order</td>\n",
       "      <td>VNESTEGE</td>\n",
       "      <td>NaN</td>\n",
       "      <td>NaN</td>\n",
       "      <td>10175</td>\n",
       "      <td>Unknown</td>\n",
       "      <td>22998</td>\n",
       "      <td>BLA ISOPENTANE</td>\n",
       "      <td>BLA ISOPENTANE</td>\n",
       "      <td>Purchase organisation from 3000</td>\n",
       "      <td>Purchase organisation from 3000</td>\n",
       "      <td>Purchase group from 3000</td>\n",
       "      <td>21800.0</td>\n",
       "      <td>25070.0</td>\n",
       "      <td>2000479285</td>\n",
       "      <td>10.0</td>\n",
       "      <td>5.012026e+09</td>\n",
       "      <td>1.0</td>\n",
       "      <td>NaN</td>\n",
       "      <td>3a - Delivery (in scope)</td>\n",
       "      <td>2014/10/30 10:49:37</td>\n",
       "      <td>2014/10/30 10:49:37</td>\n",
       "      <td>2000479285-10</td>\n",
       "      <td>NaN</td>\n",
       "      <td>NaN</td>\n",
       "      <td>NaN</td>\n",
       "      <td>NaN</td>\n",
       "      <td>NaN</td>\n",
       "      <td>Goods Reciept (Goods Receipt for Purchase Orde...</td>\n",
       "      <td>NaN</td>\n",
       "      <td>NaN</td>\n",
       "      <td>NaN</td>\n",
       "      <td>NaN</td>\n",
       "      <td>NaN</td>\n",
       "      <td>NaN</td>\n",
       "      <td>NaN</td>\n",
       "      <td>NaN</td>\n",
       "      <td>NaN</td>\n",
       "    </tr>\n",
       "    <tr>\n",
       "      <th>4</th>\n",
       "      <td>4</td>\n",
       "      <td>2000479285-10</td>\n",
       "      <td>10582</td>\n",
       "      <td>29952</td>\n",
       "      <td>Invoice Reciept (Logistics invoice)</td>\n",
       "      <td>Invoice Reciept</td>\n",
       "      <td>Billing (in scope)</td>\n",
       "      <td>2014-11-03 11:26:14</td>\n",
       "      <td>2014-11-03 11:26:14</td>\n",
       "      <td>2014-11-03 00:00:00</td>\n",
       "      <td>NaN</td>\n",
       "      <td>3000</td>\n",
       "      <td>Unknown</td>\n",
       "      <td>RE</td>\n",
       "      <td>Vendor invoice</td>\n",
       "      <td>RD</td>\n",
       "      <td>Logistics invoice</td>\n",
       "      <td>WF-BATCH</td>\n",
       "      <td>NaN</td>\n",
       "      <td>NaN</td>\n",
       "      <td>10175</td>\n",
       "      <td>Unknown</td>\n",
       "      <td>22998</td>\n",
       "      <td>BLA ISOPENTANE</td>\n",
       "      <td>BLA ISOPENTANE</td>\n",
       "      <td>Purchase organisation from 3000</td>\n",
       "      <td>Purchase organisation from 3000</td>\n",
       "      <td>Purchase group from 3000</td>\n",
       "      <td>21800.0</td>\n",
       "      <td>23849.2</td>\n",
       "      <td>2000479285</td>\n",
       "      <td>10.0</td>\n",
       "      <td>1.029982e+06</td>\n",
       "      <td>1.0</td>\n",
       "      <td>NaN</td>\n",
       "      <td>4a - Billing (in scope)</td>\n",
       "      <td>2014/11/03 11:26:14</td>\n",
       "      <td>2014/11/03 11:26:14</td>\n",
       "      <td>2000479285-10</td>\n",
       "      <td>NaN</td>\n",
       "      <td>NaN</td>\n",
       "      <td>NaN</td>\n",
       "      <td>NaN</td>\n",
       "      <td>NaN</td>\n",
       "      <td>Invoice Reciept (Logistics invoice)-Vendor inv...</td>\n",
       "      <td>NaN</td>\n",
       "      <td>NaN</td>\n",
       "      <td>NaN</td>\n",
       "      <td>NaN</td>\n",
       "      <td>NaN</td>\n",
       "      <td>NaN</td>\n",
       "      <td>NaN</td>\n",
       "      <td>NaN</td>\n",
       "      <td>NaN</td>\n",
       "    </tr>\n",
       "  </tbody>\n",
       "</table>\n",
       "</div>"
      ],
      "text/plain": [
       "   Unnamed: 0           CASE  Unnamed: 0.1  Unnamed: 0.1.1  \\\n",
       "0           0  2000479285-10          3821           10741   \n",
       "1           1  2000479285-10          3822           10743   \n",
       "2           2  2000479285-10          3823           10744   \n",
       "3           3  2000479285-10          9336           26384   \n",
       "4           4  2000479285-10         10582           29952   \n",
       "\n",
       "                                              EVENT  \\\n",
       "0                                    Purchase order   \n",
       "1                             PO release - Approved   \n",
       "2         PO release - RELEASED (5% delta possible)   \n",
       "3  Goods Reciept (Goods Receipt for Purchase Order)   \n",
       "4               Invoice Reciept (Logistics invoice)   \n",
       "\n",
       "               SIMPLIFIED EVENT  \\\n",
       "0                Purchase order   \n",
       "1                      Approved   \n",
       "2  RELEASED (5% delta possible)   \n",
       "3                 Goods Reciept   \n",
       "4               Invoice Reciept   \n",
       "\n",
       "                                      EVENT TYPE             SYS DATE  \\\n",
       "0                            Purchasing document  2014-10-13 05:30:16   \n",
       "1     Document management - PO approval - status  2014-10-13 05:30:31   \n",
       "2  Document management - PO approval - indicator  2014-10-13 05:30:31   \n",
       "3                            Delivery (in scope)  2014-10-30 10:49:37   \n",
       "4                             Billing (in scope)  2014-11-03 11:26:14   \n",
       "\n",
       "         CREATION DATE         POSTING DATE DOCUMENT DATE Company Code  \\\n",
       "0  2014-10-13 00:00:00                  NaN           NaN         3000   \n",
       "1                  NaN                  NaN           NaN         3000   \n",
       "2                  NaN                  NaN           NaN         3000   \n",
       "3  2014-10-30 10:49:37  2014-10-30 00:00:00           NaN         3000   \n",
       "4  2014-11-03 11:26:14  2014-11-03 00:00:00           NaN         3000   \n",
       "\n",
       "  Company Code Description Document Type Document Type Description  \\\n",
       "0                  Unknown           ZNB                       NaN   \n",
       "1                  Unknown       Not set                   Not set   \n",
       "2                  Unknown       Not set                   Not set   \n",
       "3                  Unknown            WE             Goods receipt   \n",
       "4                  Unknown            RE            Vendor invoice   \n",
       "\n",
       "  Document Category     Document Category Description   User ID User Name  \\\n",
       "0                 F                    Purchase order  CEYSSEOL       NaN   \n",
       "1           Not set                    Purchase order  CEYSSEOL       NaN   \n",
       "2           Not set                    Purchase order  CEYSSEOL       NaN   \n",
       "3                WE  Goods Receipt for Purchase Order  VNESTEGE       NaN   \n",
       "4                RD                 Logistics invoice  WF-BATCH       NaN   \n",
       "\n",
       "  User Type Vendor Vendor Name Material   Material Text Material Description  \\\n",
       "0       NaN  10175     Unknown    22998  BLA ISOPENTANE       BLA ISOPENTANE   \n",
       "1       NaN  10175     Unknown    22998  BLA ISOPENTANE       BLA ISOPENTANE   \n",
       "2       NaN  10175     Unknown    22998  BLA ISOPENTANE       BLA ISOPENTANE   \n",
       "3       NaN  10175     Unknown    22998  BLA ISOPENTANE       BLA ISOPENTANE   \n",
       "4       NaN  10175     Unknown    22998  BLA ISOPENTANE       BLA ISOPENTANE   \n",
       "\n",
       "             Purchase Organisation Purchase Organisation Description  \\\n",
       "0                             3000                           Unknown   \n",
       "1                             3000                           Unknown   \n",
       "2                             3000                           Unknown   \n",
       "3  Purchase organisation from 3000   Purchase organisation from 3000   \n",
       "4  Purchase organisation from 3000   Purchase organisation from 3000   \n",
       "\n",
       "             Purchase Group  Quantity  Amount in Reporting Currency  \\\n",
       "0                       N10   44000.0                       48136.0   \n",
       "1                       N10       NaN                           NaN   \n",
       "2                       N10       NaN                           NaN   \n",
       "3  Purchase group from 3000   21800.0                       25070.0   \n",
       "4  Purchase group from 3000   21800.0                       23849.2   \n",
       "\n",
       "  Purchase Document  Purchase Document Line Item  Reference Document  \\\n",
       "0        2000479285                         10.0        2.000479e+09   \n",
       "1        2000479285                         10.0        2.000479e+09   \n",
       "2        2000479285                         10.0        2.000479e+09   \n",
       "3        2000479285                         10.0        5.012026e+09   \n",
       "4        2000479285                         10.0        1.029982e+06   \n",
       "\n",
       "   Reference Document Line Item  \\\n",
       "0                          10.0   \n",
       "1                          10.0   \n",
       "2                          10.0   \n",
       "3                           1.0   \n",
       "4                           1.0   \n",
       "\n",
       "                                             Context  \\\n",
       "0  Material type: Raw Materials (Intern nr); Mate...   \n",
       "1                          ZMM71:EKKO - FRGZU;  -> X   \n",
       "2                         ZMM71:EKKO - FRGKE; X -> B   \n",
       "3                                                NaN   \n",
       "4                                                NaN   \n",
       "\n",
       "                                   SELECT           START DATE  \\\n",
       "0  2 - Purchase Order; 2 - Purchase Order  2014/10/13 05:30:16   \n",
       "1                        8b - PO approval  2014/10/13 05:30:31   \n",
       "2                        8a - PO approval  2014/10/13 05:30:31   \n",
       "3                3a - Delivery (in scope)  2014/10/30 10:49:37   \n",
       "4                 4a - Billing (in scope)  2014/11/03 11:26:14   \n",
       "\n",
       "              END DATE  CASE_EVENTATT User Group User Country Vendor Industry  \\\n",
       "0  2014/10/13 05:30:16  2000479285-10        NaN          NaN             NaN   \n",
       "1  2014/10/13 05:30:31  2000479285-10        NaN          NaN             NaN   \n",
       "2  2014/10/13 05:30:31  2000479285-10        NaN          NaN             NaN   \n",
       "3  2014/10/30 10:49:37  2000479285-10        NaN          NaN             NaN   \n",
       "4  2014/11/03 11:26:14  2000479285-10        NaN          NaN             NaN   \n",
       "\n",
       "   Company Code Country  EVENT AND USER  \\\n",
       "0                   NaN             NaN   \n",
       "1                   NaN             NaN   \n",
       "2                   NaN             NaN   \n",
       "3                   NaN             NaN   \n",
       "4                   NaN             NaN   \n",
       "\n",
       "                                   EVENT AND DOCTYPE INVOICES_Q INVOICES_A  \\\n",
       "0                                                NaN      21800    23849.2   \n",
       "1                      PO release - Approved-Not set        NaN        NaN   \n",
       "2  PO release - RELEASED (5% delta possible)-Not set        NaN        NaN   \n",
       "3  Goods Reciept (Goods Receipt for Purchase Orde...        NaN        NaN   \n",
       "4  Invoice Reciept (Logistics invoice)-Vendor inv...        NaN        NaN   \n",
       "\n",
       "  GOODS RECIEVED_Q  GOODS RECIEVED_A    POS_Q    POS_A  Unnamed: 48  \\\n",
       "0            21800           25070.0  44000.0  48136.0          NaN   \n",
       "1              NaN               NaN      NaN      NaN          NaN   \n",
       "2              NaN               NaN      NaN      NaN          NaN   \n",
       "3              NaN               NaN      NaN      NaN          NaN   \n",
       "4              NaN               NaN      NaN      NaN          NaN   \n",
       "\n",
       "   Unnamed: 49  Unnamed: 50  \n",
       "0          NaN          NaN  \n",
       "1          NaN          NaN  \n",
       "2          NaN          NaN  \n",
       "3          NaN          NaN  \n",
       "4          NaN          NaN  "
      ]
     },
     "execution_count": 498,
     "metadata": {},
     "output_type": "execute_result"
    }
   ],
   "source": [
    "data.head()"
   ]
  },
  {
   "cell_type": "code",
   "execution_count": null,
   "metadata": {
    "collapsed": true,
    "deletable": true,
    "editable": true
   },
   "outputs": [],
   "source": []
  }
 ],
 "metadata": {
  "kernelspec": {
   "display_name": "Python 3",
   "language": "python",
   "name": "python3"
  },
  "language_info": {
   "codemirror_mode": {
    "name": "ipython",
    "version": 3
   },
   "file_extension": ".py",
   "mimetype": "text/x-python",
   "name": "python",
   "nbconvert_exporter": "python",
   "pygments_lexer": "ipython3",
   "version": "3.5.1"
  },
  "toc": {
   "colors": {
    "hover_highlight": "#DAA520",
    "navigate_num": "#000000",
    "navigate_text": "#333333",
    "running_highlight": "#FF0000",
    "selected_highlight": "#FFD700",
    "sidebar_border": "#EEEEEE",
    "wrapper_background": "#FFFFFF"
   },
   "moveMenuLeft": true,
   "nav_menu": {
    "height": "66px",
    "width": "252px"
   },
   "navigate_menu": true,
   "number_sections": false,
   "sideBar": false,
   "threshold": 4,
   "toc_cell": true,
   "toc_position": {
    "height": "314px",
    "left": "1px",
    "right": "906px",
    "top": "105px",
    "width": "373px"
   },
   "toc_section_display": "none",
   "toc_window_display": false,
   "widenNotebook": false
  },
  "widgets": {
   "state": {},
   "version": "1.1.1"
  }
 },
 "nbformat": 4,
 "nbformat_minor": 2
}
