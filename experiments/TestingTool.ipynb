{
 "cells": [
  {
   "cell_type": "code",
   "execution_count": 1,
   "metadata": {
    "ExecuteTime": {
     "end_time": "2018-05-10T09:45:39.108969Z",
     "start_time": "2018-05-10T09:45:37.271632Z"
    },
    "collapsed": true,
    "deletable": true,
    "editable": true
   },
   "outputs": [],
   "source": [
    "import numpy as np\n",
    "import pandas as pd\n",
    "import matplotlib.pyplot as plt\n",
    "import importlib as im\n",
    "%matplotlib inline"
   ]
  },
  {
   "cell_type": "code",
   "execution_count": 3,
   "metadata": {
    "ExecuteTime": {
     "end_time": "2018-05-10T09:46:35.502851Z",
     "start_time": "2018-05-10T09:46:35.248644Z"
    },
    "collapsed": false,
    "deletable": true,
    "editable": true
   },
   "outputs": [
    {
     "name": "stderr",
     "output_type": "stream",
     "text": [
      "/Library/Frameworks/Python.framework/Versions/3.5/lib/python3.5/site-packages/IPython/core/interactiveshell.py:2698: DtypeWarning: Columns (16,17,18,20) have mixed types. Specify dtype option on import or set low_memory=False.\n",
      "  interactivity=interactivity, compiler=compiler, result=result)\n"
     ]
    }
   ],
   "source": [
    "data = pd.read_csv(\"../data/final(in_scope).csv\", index_col=0)"
   ]
  },
  {
   "cell_type": "code",
   "execution_count": 107,
   "metadata": {
    "ExecuteTime": {
     "end_time": "2018-05-10T10:36:45.216980Z",
     "start_time": "2018-05-10T10:36:44.990008Z"
    },
    "collapsed": false,
    "deletable": true,
    "editable": true
   },
   "outputs": [
    {
     "name": "stderr",
     "output_type": "stream",
     "text": [
      "/Library/Frameworks/Python.framework/Versions/3.5/lib/python3.5/site-packages/ipykernel_launcher.py:1: SettingWithCopyWarning: \n",
      "A value is trying to be set on a copy of a slice from a DataFrame\n",
      "\n",
      "See the caveats in the documentation: http://pandas.pydata.org/pandas-docs/stable/indexing.html#indexing-view-versus-copy\n",
      "  \"\"\"Entry point for launching an IPython kernel.\n"
     ]
    }
   ],
   "source": [
    "data[\"SYS DATE\"][6376] = data[\"CREATION DATE\"][6376]\n",
    "data.sort_values(\"SYS DATE\", inplace=True)"
   ]
  },
  {
   "cell_type": "code",
   "execution_count": 131,
   "metadata": {
    "ExecuteTime": {
     "end_time": "2018-05-10T10:48:42.109123Z",
     "start_time": "2018-05-10T10:48:42.103772Z"
    },
    "collapsed": false,
    "deletable": true,
    "editable": true
   },
   "outputs": [],
   "source": [
    "data[\"Quantity\"].fillna(value=0, inplace=True)"
   ]
  },
  {
   "cell_type": "code",
   "execution_count": 8,
   "metadata": {
    "ExecuteTime": {
     "end_time": "2018-05-10T09:49:47.574044Z",
     "start_time": "2018-05-10T09:49:47.570413Z"
    },
    "collapsed": true,
    "deletable": true,
    "editable": true
   },
   "outputs": [],
   "source": [
    "import sys"
   ]
  },
  {
   "cell_type": "code",
   "execution_count": 9,
   "metadata": {
    "ExecuteTime": {
     "end_time": "2018-05-10T09:49:49.066737Z",
     "start_time": "2018-05-10T09:49:49.062049Z"
    },
    "collapsed": false,
    "deletable": true,
    "editable": true
   },
   "outputs": [],
   "source": [
    "sys.path.append('/Users/nikitakrutoy/Projects/ProcessMiningPWC/tools')"
   ]
  },
  {
   "cell_type": "code",
   "execution_count": 132,
   "metadata": {
    "ExecuteTime": {
     "end_time": "2018-05-10T10:49:06.066483Z",
     "start_time": "2018-05-10T10:49:06.042248Z"
    },
    "collapsed": false,
    "deletable": true,
    "editable": true
   },
   "outputs": [
    {
     "data": {
      "text/plain": [
       "<module 'processmining.preprocessing' from '/Users/nikitakrutoy/Projects/ProcessMiningPWC/tools/processmining/preprocessing.py'>"
      ]
     },
     "execution_count": 132,
     "metadata": {},
     "output_type": "execute_result"
    }
   ],
   "source": [
    "im.reload(processmining.preprocessing)"
   ]
  },
  {
   "cell_type": "code",
   "execution_count": 133,
   "metadata": {
    "ExecuteTime": {
     "end_time": "2018-05-10T10:49:06.616481Z",
     "start_time": "2018-05-10T10:49:06.605070Z"
    },
    "collapsed": false,
    "deletable": true,
    "editable": true
   },
   "outputs": [],
   "source": [
    "import processmining.preprocessing"
   ]
  },
  {
   "cell_type": "code",
   "execution_count": 94,
   "metadata": {
    "ExecuteTime": {
     "end_time": "2018-05-10T10:32:11.030579Z",
     "start_time": "2018-05-10T10:32:11.026948Z"
    },
    "collapsed": true,
    "deletable": true,
    "editable": true
   },
   "outputs": [],
   "source": [
    "from processmining.aggregators import *"
   ]
  },
  {
   "cell_type": "code",
   "execution_count": 108,
   "metadata": {
    "ExecuteTime": {
     "end_time": "2018-05-10T10:37:09.203597Z",
     "start_time": "2018-05-10T10:37:09.197812Z"
    },
    "collapsed": false,
    "deletable": true,
    "editable": true
   },
   "outputs": [],
   "source": [
    "case_dur = make_aggregator(case_duration, \"SYS DATE\")\n",
    "sum_by_quantity = make_aggregator(sum_by_event, \"SIMPLIFIED EVENT\", 'Invoice Reciept', \"Quantity\")\n",
    "material_prob = make_aggregator(cat_prob_by_event, \"SIMPLIFIED EVENT\", 'Invoice Reciept', data, \"Material\")\n",
    "aggrs = {\n",
    "    \"Duration\": case_dur, \n",
    "    \"Quantity\": sum_by_quantity,\n",
    "    \"Material\": material_prob\n",
    "}"
   ]
  },
  {
   "cell_type": "code",
   "execution_count": 134,
   "metadata": {
    "ExecuteTime": {
     "end_time": "2018-05-10T10:49:20.958568Z",
     "start_time": "2018-05-10T10:49:09.022771Z"
    },
    "collapsed": false,
    "deletable": true,
    "editable": true
   },
   "outputs": [],
   "source": [
    "df = processmining.preprocessing.make_case_df(data, \"CASE\", aggrs)"
   ]
  },
  {
   "cell_type": "code",
   "execution_count": 116,
   "metadata": {
    "ExecuteTime": {
     "end_time": "2018-05-10T10:38:17.132621Z",
     "start_time": "2018-05-10T10:38:17.120223Z"
    },
    "collapsed": false,
    "deletable": true,
    "editable": true
   },
   "outputs": [
    {
     "data": {
      "text/html": [
       "<div>\n",
       "<style>\n",
       "    .dataframe thead tr:only-child th {\n",
       "        text-align: right;\n",
       "    }\n",
       "\n",
       "    .dataframe thead th {\n",
       "        text-align: left;\n",
       "    }\n",
       "\n",
       "    .dataframe tbody tr th {\n",
       "        vertical-align: top;\n",
       "    }\n",
       "</style>\n",
       "<table border=\"1\" class=\"dataframe\">\n",
       "  <thead>\n",
       "    <tr style=\"text-align: right;\">\n",
       "      <th></th>\n",
       "      <th>Duration</th>\n",
       "      <th>Material</th>\n",
       "      <th>Quantity</th>\n",
       "    </tr>\n",
       "  </thead>\n",
       "  <tbody>\n",
       "    <tr>\n",
       "      <th>0</th>\n",
       "      <td>784667</td>\n",
       "      <td>0.001083</td>\n",
       "      <td>0.0</td>\n",
       "    </tr>\n",
       "    <tr>\n",
       "      <th>1</th>\n",
       "      <td>6736564</td>\n",
       "      <td>0.001143</td>\n",
       "      <td>1008.0</td>\n",
       "    </tr>\n",
       "    <tr>\n",
       "      <th>2</th>\n",
       "      <td>7772220</td>\n",
       "      <td>0.001684</td>\n",
       "      <td>100000.0</td>\n",
       "    </tr>\n",
       "    <tr>\n",
       "      <th>3</th>\n",
       "      <td>4826788</td>\n",
       "      <td>0.047098</td>\n",
       "      <td>4560.0</td>\n",
       "    </tr>\n",
       "    <tr>\n",
       "      <th>4</th>\n",
       "      <td>4826788</td>\n",
       "      <td>0.047098</td>\n",
       "      <td>3800.0</td>\n",
       "    </tr>\n",
       "  </tbody>\n",
       "</table>\n",
       "</div>"
      ],
      "text/plain": [
       "   Duration  Material  Quantity\n",
       "0    784667  0.001083       0.0\n",
       "1   6736564  0.001143    1008.0\n",
       "2   7772220  0.001684  100000.0\n",
       "3   4826788  0.047098    4560.0\n",
       "4   4826788  0.047098    3800.0"
      ]
     },
     "execution_count": 116,
     "metadata": {},
     "output_type": "execute_result"
    }
   ],
   "source": [
    "df.head()"
   ]
  },
  {
   "cell_type": "code",
   "execution_count": 314,
   "metadata": {
    "ExecuteTime": {
     "end_time": "2018-05-10T14:13:45.461091Z",
     "start_time": "2018-05-10T14:13:45.450517Z"
    },
    "collapsed": false,
    "deletable": true,
    "editable": true
   },
   "outputs": [
    {
     "data": {
      "text/plain": [
       "<module 'processmining.preprocessing' from '/Users/nikitakrutoy/Projects/ProcessMiningPWC/tools/processmining/preprocessing.py'>"
      ]
     },
     "execution_count": 314,
     "metadata": {},
     "output_type": "execute_result"
    }
   ],
   "source": [
    "im.reload(processmining.metric)\n",
    "im.reload(processmining.utils)\n",
    "im.reload(processmining.preprocessing)"
   ]
  },
  {
   "cell_type": "code",
   "execution_count": 318,
   "metadata": {
    "ExecuteTime": {
     "end_time": "2018-05-10T14:14:21.627835Z",
     "start_time": "2018-05-10T14:14:21.619512Z"
    },
    "collapsed": false,
    "deletable": true,
    "editable": true
   },
   "outputs": [],
   "source": [
    "im.reload(processmining.caseclustering)\n",
    "from processmining.caseclustering import CaseClustering"
   ]
  },
  {
   "cell_type": "code",
   "execution_count": 254,
   "metadata": {
    "ExecuteTime": {
     "end_time": "2018-05-10T13:57:31.824560Z",
     "start_time": "2018-05-10T13:57:31.821071Z"
    },
    "collapsed": false,
    "deletable": true,
    "editable": true
   },
   "outputs": [],
   "source": [
    "cc = CaseClustering()"
   ]
  },
  {
   "cell_type": "code",
   "execution_count": 242,
   "metadata": {
    "ExecuteTime": {
     "end_time": "2018-05-10T12:51:36.296319Z",
     "start_time": "2018-05-10T12:51:35.048134Z"
    },
    "collapsed": false,
    "deletable": true,
    "editable": true
   },
   "outputs": [
    {
     "data": {
      "text/plain": [
       "<processmining.caseclustering.CaseClustering at 0x117431a90>"
      ]
     },
     "execution_count": 242,
     "metadata": {},
     "output_type": "execute_result"
    }
   ],
   "source": [
    "cc.fit(df)"
   ]
  },
  {
   "cell_type": "code",
   "execution_count": 243,
   "metadata": {
    "ExecuteTime": {
     "end_time": "2018-05-10T12:51:37.954914Z",
     "start_time": "2018-05-10T12:51:37.948177Z"
    },
    "collapsed": false,
    "deletable": true,
    "editable": true
   },
   "outputs": [
    {
     "data": {
      "text/plain": [
       "[[[[['Material', -1.0, 0.20186465978622437]], 1042]],\n",
       " [[[['Material', 1.0, 0.20186465978622437]], 484]]]"
      ]
     },
     "execution_count": 243,
     "metadata": {},
     "output_type": "execute_result"
    }
   ],
   "source": [
    "cc.descs"
   ]
  },
  {
   "cell_type": "code",
   "execution_count": 319,
   "metadata": {
    "ExecuteTime": {
     "end_time": "2018-05-10T14:14:23.072053Z",
     "start_time": "2018-05-10T14:14:23.067640Z"
    },
    "collapsed": false,
    "deletable": true,
    "editable": true
   },
   "outputs": [],
   "source": [
    "options = {\n",
    "    \"case_id_feature\": \"CASE\",\n",
    "    \"event_feature\": \"SIMPLIFIED EVENT\"\n",
    "}\n",
    "cc = CaseClustering(model=\"EventsSet\", model_options=options)"
   ]
  },
  {
   "cell_type": "code",
   "execution_count": 320,
   "metadata": {
    "ExecuteTime": {
     "end_time": "2018-05-10T14:15:18.715315Z",
     "start_time": "2018-05-10T14:14:23.325740Z"
    },
    "collapsed": false,
    "deletable": true,
    "editable": true
   },
   "outputs": [
    {
     "name": "stdout",
     "output_type": "stream",
     "text": [
      "\n"
     ]
    },
    {
     "data": {
      "text/plain": [
       "<processmining.caseclustering.CaseClustering at 0x113df8fd0>"
      ]
     },
     "execution_count": 320,
     "metadata": {},
     "output_type": "execute_result"
    }
   ],
   "source": [
    "cc.fit(data, preprocess=True, build_tree=False)"
   ]
  },
  {
   "cell_type": "code",
   "execution_count": 321,
   "metadata": {
    "ExecuteTime": {
     "end_time": "2018-05-10T14:15:33.738770Z",
     "start_time": "2018-05-10T14:15:33.730596Z"
    },
    "collapsed": false,
    "deletable": true,
    "editable": true
   },
   "outputs": [
    {
     "data": {
      "text/plain": [
       "{'Between cluster distances': [6.554348146184881,\n",
       "  6.618297635162035,\n",
       "  4.953598536808413,\n",
       "  7.913200208698952,\n",
       "  6.746372819100092,\n",
       "  6.784402288467329,\n",
       "  8.49867374005305,\n",
       "  5.503305998817967,\n",
       "  5.183559374676467,\n",
       "  8.538461538461538],\n",
       " 'Cluster sizes': [294, 95, 81, 29, 30, 18, 2, 192, 13, 2],\n",
       " 'In cluster distances': [12.0, 8.0, 9.0, 7.0, 3.0, 8.0, 0.0, 11.0, 6.0, 3.0],\n",
       " 'Silhouette': 0.6146794468569955}"
      ]
     },
     "execution_count": 321,
     "metadata": {},
     "output_type": "execute_result"
    }
   ],
   "source": [
    "cc.scores"
   ]
  },
  {
   "cell_type": "code",
   "execution_count": null,
   "metadata": {
    "collapsed": true,
    "deletable": true,
    "editable": true
   },
   "outputs": [],
   "source": []
  }
 ],
 "metadata": {
  "kernelspec": {
   "display_name": "Python 3",
   "language": "python",
   "name": "python3"
  },
  "language_info": {
   "codemirror_mode": {
    "name": "ipython",
    "version": 3
   },
   "file_extension": ".py",
   "mimetype": "text/x-python",
   "name": "python",
   "nbconvert_exporter": "python",
   "pygments_lexer": "ipython3",
   "version": "3.5.1"
  },
  "toc": {
   "colors": {
    "hover_highlight": "#DAA520",
    "navigate_num": "#000000",
    "navigate_text": "#333333",
    "running_highlight": "#FF0000",
    "selected_highlight": "#FFD700",
    "sidebar_border": "#EEEEEE",
    "wrapper_background": "#FFFFFF"
   },
   "moveMenuLeft": true,
   "nav_menu": {
    "height": "12px",
    "width": "252px"
   },
   "navigate_menu": true,
   "number_sections": true,
   "sideBar": true,
   "threshold": 4,
   "toc_cell": false,
   "toc_section_display": "block",
   "toc_window_display": false,
   "widenNotebook": false
  },
  "widgets": {
   "state": {
    "00a2a9d0758e49c2b6807986f1b0b57b": {
     "views": []
    },
    "022d198556194440b62e0cbb96158a38": {
     "views": []
    },
    "100ce977ed6447b8a312395ba569d7a6": {
     "views": []
    },
    "122baa52cec94ac6bcd33498d79cd8ee": {
     "views": []
    },
    "126e9357f09c4c88a8abe50b1f76709a": {
     "views": []
    },
    "15f8f4bed5094e50a91f00a7f38b828a": {
     "views": []
    },
    "1b670b0e550943ee890affcaa1b8c22d": {
     "views": []
    },
    "1bdab897e3364dcba9064c91fe33862b": {
     "views": []
    },
    "1c28bc76029a47fa834f087ece1d150c": {
     "views": []
    },
    "1cc0b95583aa401392c61b15a7c6e787": {
     "views": []
    },
    "1dcb2326fbc74e46857edc060abb17c0": {
     "views": []
    },
    "1fee174596fc417cabc05a8ac9225f9f": {
     "views": []
    },
    "210cabc910be44c89da3ec7007868fe6": {
     "views": []
    },
    "23732243a01144f8a34772ea7dc8ee58": {
     "views": []
    },
    "240327543818439f9bb31a9586e17d42": {
     "views": []
    },
    "27fcaf261c5c434581f73efc2d3308ec": {
     "views": []
    },
    "28e5efcf3348459fa4d2eba7937853e0": {
     "views": []
    },
    "2d37ed89c18e4a8db6b057f1ce09fd0c": {
     "views": []
    },
    "3010f9f5160044cc83a22e530a8603d0": {
     "views": []
    },
    "30bfaaceb522426482b5f1e90ad1ffe7": {
     "views": []
    },
    "33f377f5ec444a6fafda23292cab155c": {
     "views": []
    },
    "357d183d2ee64ab0bc1e3405999615e3": {
     "views": []
    },
    "36b2bb77cb0a403cae96af444786e100": {
     "views": []
    },
    "37c0a1a014f14765a0bdfea4d41c41f3": {
     "views": []
    },
    "3ffffeaa0d254ace98523d4b0fb2daec": {
     "views": []
    },
    "441e2e4f447c48078023d12c838050ac": {
     "views": []
    },
    "45c4f8d52c8d4894b4f40852028b1c20": {
     "views": []
    },
    "4a73459976bb433babdf086636682375": {
     "views": []
    },
    "4ccaa8f05b714274bd27fafd46f15419": {
     "views": []
    },
    "4f7bd80695ef4ee2899c46c74dae1647": {
     "views": []
    },
    "53176f90d12e4417b8b08ab846644e60": {
     "views": []
    },
    "53d686b9b7d944ff81b10fb5467292a0": {
     "views": []
    },
    "56ee2a259b7d4b06b1ae140a44f1c7fb": {
     "views": []
    },
    "571f2d6d1da7467b8c830e4374e09580": {
     "views": []
    },
    "5ce5fe8201be4d8b824203a71cf809cd": {
     "views": []
    },
    "5daca5737193448280b387b816fd11fa": {
     "views": []
    },
    "619e3da764a84f72a76d4e9acb497959": {
     "views": []
    },
    "6b0a577f074f40948af77963ecd96f67": {
     "views": []
    },
    "6c360489cb17436fb266bbb1267ad023": {
     "views": []
    },
    "70da7869c1b140de8246e334a05f21c2": {
     "views": []
    },
    "75f58889adda4438ae5e747673ffb860": {
     "views": []
    },
    "7770affae6aa4dca9ee11ef0c6a11034": {
     "views": []
    },
    "79da5861c5af4973830192401f4f005b": {
     "views": []
    },
    "7d4f92b0a68643c4aac754d000a14121": {
     "views": []
    },
    "7e01b8246f9c4cec958697ab9b353962": {
     "views": []
    },
    "884c8af7ed034f0f81aff665877782b5": {
     "views": []
    },
    "89d7b91a406e432ab3fd2873cad42c6f": {
     "views": []
    },
    "8c97decb6f6345e1aa2949b9e56dbb2a": {
     "views": []
    },
    "90f002629292426baf7b662266698de6": {
     "views": []
    },
    "91bfa3acb1e047f59c397553beae22bb": {
     "views": []
    },
    "98512f38989e46ecb8ad86f487d760a9": {
     "views": []
    },
    "9936bc3b037f429b898fe4f40571fec5": {
     "views": []
    },
    "9be58ae7f91e4371a608ac4519584d98": {
     "views": []
    },
    "9e52a7357ac4446b98344f9123151d69": {
     "views": []
    },
    "a1fcbe46a87846eca332a76a7e522798": {
     "views": []
    },
    "a248315b017749c180546866506563fc": {
     "views": []
    },
    "a3d6b1e487074f3faf1553dc2b873491": {
     "views": []
    },
    "a48c87d82afc49249f7b2fcfe5fd55cf": {
     "views": []
    },
    "aeccce8f02f841949d9a65108e60bdd9": {
     "views": []
    },
    "aff71ac7d25d4b0e910bf044a6292050": {
     "views": []
    },
    "aff93cd6abf44a0e928dac23c88908bb": {
     "views": []
    },
    "b198d2e453614e55930f4a6d4e8722d7": {
     "views": []
    },
    "b3e47bda62d046cda45869c2e438d1d6": {
     "views": []
    },
    "b4992f8c28af4616952eed86deb448dd": {
     "views": []
    },
    "b5c48ecb24584506b55f7b5063fb0cff": {
     "views": []
    },
    "bb2952c5ede94a179b3656ed43ba67e7": {
     "views": []
    },
    "bb6868c12ace4b01b2a520bbdcdba692": {
     "views": [
      {
       "cell_index": 18
      }
     ]
    },
    "bbeb76368790451587fbec4657d7461c": {
     "views": []
    },
    "bc6ff75012e64f1690bdfafc2a3d8add": {
     "views": []
    },
    "bdb1527a37e44170ae24966bdc4831bc": {
     "views": []
    },
    "bf72372649a94f9ba9d32e956529f5f0": {
     "views": []
    },
    "c16a52fa1fc04a389942c3bbd8af92f4": {
     "views": []
    },
    "c239e61708754066b85bcb97cdfd5393": {
     "views": []
    },
    "c319ee35690149cd833225cd2278d2dd": {
     "views": []
    },
    "c42c1e8b60db4fd485413712e47bd156": {
     "views": []
    },
    "c5d5e4d5818f45d284c2073f1f20cb8f": {
     "views": []
    },
    "c8658cb23d504abe8f7052c5d12f1600": {
     "views": []
    },
    "c98a56ce164b47fbbbf0993a9dee880f": {
     "views": []
    },
    "cc80aa402dc744418b09558a3ff8ee62": {
     "views": []
    },
    "ce3c44bb0704409e9ee9fd62aabb80af": {
     "views": []
    },
    "cfac362a3af3483c80c925c2230bcd94": {
     "views": []
    },
    "d43c0dd0521e46d6922df0d144fdeb58": {
     "views": []
    },
    "da85459e550e4f75ae2262aaf95fb3b8": {
     "views": []
    },
    "de18cf3f7c974a9abce4f5e1b91aba7c": {
     "views": []
    },
    "e80cd3311dff4e1693482ba247c8bacc": {
     "views": []
    },
    "f20998bfd0694e4aa9a71c6b57bac07f": {
     "views": []
    },
    "f2342962a3fb4ee38994ae5c7938f931": {
     "views": []
    },
    "f263a4b3baa94b34a790e53f082b03dd": {
     "views": []
    },
    "f8b805986fc4493db8fa0daf693e2658": {
     "views": []
    },
    "f92f2685e26f432580df70b75941ee6c": {
     "views": []
    }
   },
   "version": "1.1.1"
  }
 },
 "nbformat": 4,
 "nbformat_minor": 2
}
