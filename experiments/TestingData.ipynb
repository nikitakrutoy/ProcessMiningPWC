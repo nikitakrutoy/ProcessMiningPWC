{
 "cells": [
  {
   "cell_type": "code",
   "execution_count": 1,
   "metadata": {
    "ExecuteTime": {
     "end_time": "2018-03-06T14:24:26.694913Z",
     "start_time": "2018-03-06T14:24:24.414368Z"
    },
    "collapsed": true,
    "deletable": true,
    "editable": true,
    "init_cell": true
   },
   "outputs": [],
   "source": [
    "import numpy as np\n",
    "import pandas as pd\n",
    "import matplotlib.pyplot as plt\n",
    "import networkx as nx\n",
    "from collections import defaultdict"
   ]
  },
  {
   "cell_type": "code",
   "execution_count": 6,
   "metadata": {
    "ExecuteTime": {
     "end_time": "2018-02-11T00:14:13.459875Z",
     "start_time": "2018-02-11T00:14:12.643345Z"
    },
    "collapsed": false,
    "deletable": true,
    "editable": true
   },
   "outputs": [],
   "source": [
    "log = pd.read_csv(\"data/pwc_data_merge/final.csv\", low_memory=False)"
   ]
  },
  {
   "cell_type": "code",
   "execution_count": 41,
   "metadata": {
    "ExecuteTime": {
     "end_time": "2018-02-11T14:35:25.399879Z",
     "start_time": "2018-02-11T14:35:25.350711Z"
    },
    "collapsed": true,
    "deletable": true,
    "editable": true
   },
   "outputs": [],
   "source": [
    "cases = np.unique(log[\"CASE\"])"
   ]
  },
  {
   "cell_type": "code",
   "execution_count": 48,
   "metadata": {
    "ExecuteTime": {
     "end_time": "2018-02-11T14:41:27.123260Z",
     "start_time": "2018-02-11T14:41:27.088715Z"
    },
    "collapsed": false,
    "deletable": true,
    "editable": true
   },
   "outputs": [],
   "source": [
    "cases = cases[:5]\n",
    "log2 = log.set_index(\"CASE\")\n",
    "log3 = log2.loc[cases]"
   ]
  },
  {
   "cell_type": "code",
   "execution_count": 49,
   "metadata": {
    "ExecuteTime": {
     "end_time": "2018-02-11T14:42:07.525633Z",
     "start_time": "2018-02-11T14:42:07.516905Z"
    },
    "collapsed": true,
    "deletable": true,
    "editable": true
   },
   "outputs": [],
   "source": [
    "log3.to_csv(\"data/final_cut.csv\")"
   ]
  },
  {
   "cell_type": "code",
   "execution_count": 67,
   "metadata": {
    "ExecuteTime": {
     "end_time": "2018-02-11T15:55:04.362489Z",
     "start_time": "2018-02-11T15:55:04.319589Z"
    },
    "collapsed": false,
    "deletable": true,
    "editable": true
   },
   "outputs": [
    {
     "data": {
      "text/html": [
       "<div>\n",
       "<style>\n",
       "    .dataframe thead tr:only-child th {\n",
       "        text-align: right;\n",
       "    }\n",
       "\n",
       "    .dataframe thead th {\n",
       "        text-align: left;\n",
       "    }\n",
       "\n",
       "    .dataframe tbody tr th {\n",
       "        vertical-align: top;\n",
       "    }\n",
       "</style>\n",
       "<table border=\"1\" class=\"dataframe\">\n",
       "  <thead>\n",
       "    <tr style=\"text-align: right;\">\n",
       "      <th></th>\n",
       "      <th>Unnamed: 0</th>\n",
       "      <th>Unnamed: 0.1</th>\n",
       "      <th>EVENT</th>\n",
       "      <th>SIMPLIFIED EVENT</th>\n",
       "      <th>EVENT TYPE</th>\n",
       "      <th>SYS DATE</th>\n",
       "      <th>CREATION DATE</th>\n",
       "      <th>POSTING DATE</th>\n",
       "      <th>DOCUMENT DATE</th>\n",
       "      <th>Company Code</th>\n",
       "      <th>...</th>\n",
       "      <th>EVENT AND DOCTYPE</th>\n",
       "      <th>INVOICES_Q</th>\n",
       "      <th>INVOICES_A</th>\n",
       "      <th>GOODS RECIEVED_Q</th>\n",
       "      <th>GOODS RECIEVED_A</th>\n",
       "      <th>POS_Q</th>\n",
       "      <th>POS_A</th>\n",
       "      <th>Unnamed: 48</th>\n",
       "      <th>Unnamed: 49</th>\n",
       "      <th>Unnamed: 50</th>\n",
       "    </tr>\n",
       "    <tr>\n",
       "      <th>CASE</th>\n",
       "      <th></th>\n",
       "      <th></th>\n",
       "      <th></th>\n",
       "      <th></th>\n",
       "      <th></th>\n",
       "      <th></th>\n",
       "      <th></th>\n",
       "      <th></th>\n",
       "      <th></th>\n",
       "      <th></th>\n",
       "      <th></th>\n",
       "      <th></th>\n",
       "      <th></th>\n",
       "      <th></th>\n",
       "      <th></th>\n",
       "      <th></th>\n",
       "      <th></th>\n",
       "      <th></th>\n",
       "      <th></th>\n",
       "      <th></th>\n",
       "      <th></th>\n",
       "    </tr>\n",
       "  </thead>\n",
       "  <tbody>\n",
       "    <tr>\n",
       "      <th>1063572416-10</th>\n",
       "      <td>30823</td>\n",
       "      <td>82476</td>\n",
       "      <td>Purchase requisition</td>\n",
       "      <td>Purchase requisition</td>\n",
       "      <td>Purchasing document</td>\n",
       "      <td>NaN</td>\n",
       "      <td>2010-10-20 00:00:00</td>\n",
       "      <td>NaN</td>\n",
       "      <td>NaN</td>\n",
       "      <td>Purchase requisiton company code not set</td>\n",
       "      <td>...</td>\n",
       "      <td>NaN</td>\n",
       "      <td>NaN</td>\n",
       "      <td>NaN</td>\n",
       "      <td>NaN</td>\n",
       "      <td>NaN</td>\n",
       "      <td>NaN</td>\n",
       "      <td>NaN</td>\n",
       "      <td>NaN</td>\n",
       "      <td>NaN</td>\n",
       "      <td>NaN</td>\n",
       "    </tr>\n",
       "    <tr>\n",
       "      <th>1157994884-10</th>\n",
       "      <td>15718</td>\n",
       "      <td>44562</td>\n",
       "      <td>Purchase requisition item updated</td>\n",
       "      <td>Purchase requisition item updated</td>\n",
       "      <td>Document management - PR</td>\n",
       "      <td>2014-11-19 09:33:03</td>\n",
       "      <td>NaN</td>\n",
       "      <td>NaN</td>\n",
       "      <td>NaN</td>\n",
       "      <td>Purchase requisiton company code not set</td>\n",
       "      <td>...</td>\n",
       "      <td>Purchase requisition item updated-Not set</td>\n",
       "      <td>NaN</td>\n",
       "      <td>NaN</td>\n",
       "      <td>NaN</td>\n",
       "      <td>NaN</td>\n",
       "      <td>NaN</td>\n",
       "      <td>NaN</td>\n",
       "      <td>NaN</td>\n",
       "      <td>NaN</td>\n",
       "      <td>NaN</td>\n",
       "    </tr>\n",
       "    <tr>\n",
       "      <th>1157994884-10</th>\n",
       "      <td>30825</td>\n",
       "      <td>82478</td>\n",
       "      <td>Purchase requisition</td>\n",
       "      <td>Purchase requisition</td>\n",
       "      <td>Purchasing document</td>\n",
       "      <td>NaN</td>\n",
       "      <td>2014-02-13 00:00:00</td>\n",
       "      <td>NaN</td>\n",
       "      <td>NaN</td>\n",
       "      <td>Purchase requisiton company code not set</td>\n",
       "      <td>...</td>\n",
       "      <td>NaN</td>\n",
       "      <td>NaN</td>\n",
       "      <td>NaN</td>\n",
       "      <td>NaN</td>\n",
       "      <td>NaN</td>\n",
       "      <td>NaN</td>\n",
       "      <td>NaN</td>\n",
       "      <td>NaN</td>\n",
       "      <td>NaN</td>\n",
       "      <td>NaN</td>\n",
       "    </tr>\n",
       "    <tr>\n",
       "      <th>1174098529-10</th>\n",
       "      <td>27698</td>\n",
       "      <td>74585</td>\n",
       "      <td>Purchase requisition item updated</td>\n",
       "      <td>Purchase requisition item updated</td>\n",
       "      <td>Document management - PR</td>\n",
       "      <td>2014-12-16 05:43:58</td>\n",
       "      <td>NaN</td>\n",
       "      <td>NaN</td>\n",
       "      <td>NaN</td>\n",
       "      <td>Purchase requisiton company code not set</td>\n",
       "      <td>...</td>\n",
       "      <td>Purchase requisition item updated-Not set</td>\n",
       "      <td>NaN</td>\n",
       "      <td>NaN</td>\n",
       "      <td>NaN</td>\n",
       "      <td>NaN</td>\n",
       "      <td>NaN</td>\n",
       "      <td>NaN</td>\n",
       "      <td>NaN</td>\n",
       "      <td>NaN</td>\n",
       "      <td>NaN</td>\n",
       "    </tr>\n",
       "    <tr>\n",
       "      <th>1174098529-10</th>\n",
       "      <td>30833</td>\n",
       "      <td>82486</td>\n",
       "      <td>Purchase requisition</td>\n",
       "      <td>Purchase requisition</td>\n",
       "      <td>Purchasing document</td>\n",
       "      <td>NaN</td>\n",
       "      <td>2014-07-24 00:00:00</td>\n",
       "      <td>NaN</td>\n",
       "      <td>NaN</td>\n",
       "      <td>Purchase requisiton company code not set</td>\n",
       "      <td>...</td>\n",
       "      <td>NaN</td>\n",
       "      <td>NaN</td>\n",
       "      <td>NaN</td>\n",
       "      <td>NaN</td>\n",
       "      <td>NaN</td>\n",
       "      <td>NaN</td>\n",
       "      <td>NaN</td>\n",
       "      <td>NaN</td>\n",
       "      <td>NaN</td>\n",
       "      <td>NaN</td>\n",
       "    </tr>\n",
       "    <tr>\n",
       "      <th>1179218927-10</th>\n",
       "      <td>1789</td>\n",
       "      <td>4673</td>\n",
       "      <td>Purchase requisition item updated</td>\n",
       "      <td>Purchase requisition item updated</td>\n",
       "      <td>Document management - PR</td>\n",
       "      <td>2014-10-07 03:41:29</td>\n",
       "      <td>NaN</td>\n",
       "      <td>NaN</td>\n",
       "      <td>NaN</td>\n",
       "      <td>Purchase requisiton company code not set</td>\n",
       "      <td>...</td>\n",
       "      <td>Purchase requisition item updated-Not set</td>\n",
       "      <td>NaN</td>\n",
       "      <td>NaN</td>\n",
       "      <td>NaN</td>\n",
       "      <td>NaN</td>\n",
       "      <td>NaN</td>\n",
       "      <td>NaN</td>\n",
       "      <td>NaN</td>\n",
       "      <td>NaN</td>\n",
       "      <td>NaN</td>\n",
       "    </tr>\n",
       "    <tr>\n",
       "      <th>1179218927-10</th>\n",
       "      <td>30846</td>\n",
       "      <td>82499</td>\n",
       "      <td>Purchase requisition</td>\n",
       "      <td>Purchase requisition</td>\n",
       "      <td>Purchasing document</td>\n",
       "      <td>NaN</td>\n",
       "      <td>2014-09-08 00:00:00</td>\n",
       "      <td>NaN</td>\n",
       "      <td>NaN</td>\n",
       "      <td>Purchase requisiton company code not set</td>\n",
       "      <td>...</td>\n",
       "      <td>NaN</td>\n",
       "      <td>NaN</td>\n",
       "      <td>NaN</td>\n",
       "      <td>NaN</td>\n",
       "      <td>NaN</td>\n",
       "      <td>NaN</td>\n",
       "      <td>NaN</td>\n",
       "      <td>NaN</td>\n",
       "      <td>NaN</td>\n",
       "      <td>NaN</td>\n",
       "    </tr>\n",
       "    <tr>\n",
       "      <th>1181268663-10</th>\n",
       "      <td>1644</td>\n",
       "      <td>4495</td>\n",
       "      <td>Purchase requisition item updated</td>\n",
       "      <td>Purchase requisition item updated</td>\n",
       "      <td>Document management - PR</td>\n",
       "      <td>2014-10-06 10:03:56</td>\n",
       "      <td>NaN</td>\n",
       "      <td>NaN</td>\n",
       "      <td>NaN</td>\n",
       "      <td>Purchase requisiton company code not set</td>\n",
       "      <td>...</td>\n",
       "      <td>Purchase requisition item updated-Not set</td>\n",
       "      <td>NaN</td>\n",
       "      <td>NaN</td>\n",
       "      <td>NaN</td>\n",
       "      <td>NaN</td>\n",
       "      <td>NaN</td>\n",
       "      <td>NaN</td>\n",
       "      <td>NaN</td>\n",
       "      <td>NaN</td>\n",
       "      <td>NaN</td>\n",
       "    </tr>\n",
       "    <tr>\n",
       "      <th>1181268663-10</th>\n",
       "      <td>30883</td>\n",
       "      <td>82536</td>\n",
       "      <td>Purchase requisition</td>\n",
       "      <td>Purchase requisition</td>\n",
       "      <td>Purchasing document</td>\n",
       "      <td>NaN</td>\n",
       "      <td>2014-09-24 00:00:00</td>\n",
       "      <td>NaN</td>\n",
       "      <td>NaN</td>\n",
       "      <td>Purchase requisiton company code not set</td>\n",
       "      <td>...</td>\n",
       "      <td>NaN</td>\n",
       "      <td>NaN</td>\n",
       "      <td>NaN</td>\n",
       "      <td>NaN</td>\n",
       "      <td>NaN</td>\n",
       "      <td>NaN</td>\n",
       "      <td>NaN</td>\n",
       "      <td>NaN</td>\n",
       "      <td>NaN</td>\n",
       "      <td>NaN</td>\n",
       "    </tr>\n",
       "  </tbody>\n",
       "</table>\n",
       "<p>9 rows × 52 columns</p>\n",
       "</div>"
      ],
      "text/plain": [
       "               Unnamed: 0  Unnamed: 0.1                              EVENT  \\\n",
       "CASE                                                                         \n",
       "1063572416-10       30823         82476               Purchase requisition   \n",
       "1157994884-10       15718         44562  Purchase requisition item updated   \n",
       "1157994884-10       30825         82478               Purchase requisition   \n",
       "1174098529-10       27698         74585  Purchase requisition item updated   \n",
       "1174098529-10       30833         82486               Purchase requisition   \n",
       "1179218927-10        1789          4673  Purchase requisition item updated   \n",
       "1179218927-10       30846         82499               Purchase requisition   \n",
       "1181268663-10        1644          4495  Purchase requisition item updated   \n",
       "1181268663-10       30883         82536               Purchase requisition   \n",
       "\n",
       "                                SIMPLIFIED EVENT                EVENT TYPE  \\\n",
       "CASE                                                                         \n",
       "1063572416-10               Purchase requisition       Purchasing document   \n",
       "1157994884-10  Purchase requisition item updated  Document management - PR   \n",
       "1157994884-10               Purchase requisition       Purchasing document   \n",
       "1174098529-10  Purchase requisition item updated  Document management - PR   \n",
       "1174098529-10               Purchase requisition       Purchasing document   \n",
       "1179218927-10  Purchase requisition item updated  Document management - PR   \n",
       "1179218927-10               Purchase requisition       Purchasing document   \n",
       "1181268663-10  Purchase requisition item updated  Document management - PR   \n",
       "1181268663-10               Purchase requisition       Purchasing document   \n",
       "\n",
       "                          SYS DATE        CREATION DATE POSTING DATE  \\\n",
       "CASE                                                                   \n",
       "1063572416-10                  NaN  2010-10-20 00:00:00          NaN   \n",
       "1157994884-10  2014-11-19 09:33:03                  NaN          NaN   \n",
       "1157994884-10                  NaN  2014-02-13 00:00:00          NaN   \n",
       "1174098529-10  2014-12-16 05:43:58                  NaN          NaN   \n",
       "1174098529-10                  NaN  2014-07-24 00:00:00          NaN   \n",
       "1179218927-10  2014-10-07 03:41:29                  NaN          NaN   \n",
       "1179218927-10                  NaN  2014-09-08 00:00:00          NaN   \n",
       "1181268663-10  2014-10-06 10:03:56                  NaN          NaN   \n",
       "1181268663-10                  NaN  2014-09-24 00:00:00          NaN   \n",
       "\n",
       "              DOCUMENT DATE                              Company Code  \\\n",
       "CASE                                                                    \n",
       "1063572416-10           NaN  Purchase requisiton company code not set   \n",
       "1157994884-10           NaN  Purchase requisiton company code not set   \n",
       "1157994884-10           NaN  Purchase requisiton company code not set   \n",
       "1174098529-10           NaN  Purchase requisiton company code not set   \n",
       "1174098529-10           NaN  Purchase requisiton company code not set   \n",
       "1179218927-10           NaN  Purchase requisiton company code not set   \n",
       "1179218927-10           NaN  Purchase requisiton company code not set   \n",
       "1181268663-10           NaN  Purchase requisiton company code not set   \n",
       "1181268663-10           NaN  Purchase requisiton company code not set   \n",
       "\n",
       "                  ...                              EVENT AND DOCTYPE  \\\n",
       "CASE              ...                                                  \n",
       "1063572416-10     ...                                            NaN   \n",
       "1157994884-10     ...      Purchase requisition item updated-Not set   \n",
       "1157994884-10     ...                                            NaN   \n",
       "1174098529-10     ...      Purchase requisition item updated-Not set   \n",
       "1174098529-10     ...                                            NaN   \n",
       "1179218927-10     ...      Purchase requisition item updated-Not set   \n",
       "1179218927-10     ...                                            NaN   \n",
       "1181268663-10     ...      Purchase requisition item updated-Not set   \n",
       "1181268663-10     ...                                            NaN   \n",
       "\n",
       "              INVOICES_Q INVOICES_A GOODS RECIEVED_Q GOODS RECIEVED_A POS_Q  \\\n",
       "CASE                                                                          \n",
       "1063572416-10        NaN        NaN              NaN              NaN   NaN   \n",
       "1157994884-10        NaN        NaN              NaN              NaN   NaN   \n",
       "1157994884-10        NaN        NaN              NaN              NaN   NaN   \n",
       "1174098529-10        NaN        NaN              NaN              NaN   NaN   \n",
       "1174098529-10        NaN        NaN              NaN              NaN   NaN   \n",
       "1179218927-10        NaN        NaN              NaN              NaN   NaN   \n",
       "1179218927-10        NaN        NaN              NaN              NaN   NaN   \n",
       "1181268663-10        NaN        NaN              NaN              NaN   NaN   \n",
       "1181268663-10        NaN        NaN              NaN              NaN   NaN   \n",
       "\n",
       "              POS_A Unnamed: 48 Unnamed: 49 Unnamed: 50  \n",
       "CASE                                                     \n",
       "1063572416-10   NaN         NaN         NaN         NaN  \n",
       "1157994884-10   NaN         NaN         NaN         NaN  \n",
       "1157994884-10   NaN         NaN         NaN         NaN  \n",
       "1174098529-10   NaN         NaN         NaN         NaN  \n",
       "1174098529-10   NaN         NaN         NaN         NaN  \n",
       "1179218927-10   NaN         NaN         NaN         NaN  \n",
       "1179218927-10   NaN         NaN         NaN         NaN  \n",
       "1181268663-10   NaN         NaN         NaN         NaN  \n",
       "1181268663-10   NaN         NaN         NaN         NaN  \n",
       "\n",
       "[9 rows x 52 columns]"
      ]
     },
     "execution_count": 67,
     "metadata": {},
     "output_type": "execute_result"
    }
   ],
   "source": [
    "log3"
   ]
  },
  {
   "cell_type": "code",
   "execution_count": 66,
   "metadata": {
    "ExecuteTime": {
     "end_time": "2018-02-11T15:54:45.653033Z",
     "start_time": "2018-02-11T15:54:45.637719Z"
    },
    "collapsed": false,
    "deletable": true,
    "editable": true
   },
   "outputs": [
    {
     "data": {
      "text/plain": [
       "Unnamed: 0                                                              30823\n",
       "Unnamed: 0.1                                                            82476\n",
       "EVENT                                                    Purchase requisition\n",
       "SIMPLIFIED EVENT                                         Purchase requisition\n",
       "EVENT TYPE                                                Purchasing document\n",
       "SYS DATE                                                                  NaN\n",
       "CREATION DATE                                             2010-10-20 00:00:00\n",
       "POSTING DATE                                                              NaN\n",
       "DOCUMENT DATE                                                             NaN\n",
       "Company Code                         Purchase requisiton company code not set\n",
       "Company Code Description             Purchase requisiton company code not set\n",
       "Document Type                                                             ZNB\n",
       "Document Type Description                                                 NaN\n",
       "Document Category                                                           B\n",
       "Document Category Description                            Purchase requisition\n",
       "User ID                                                                   LAC\n",
       "User Name                                                                 NaN\n",
       "User Type                                                                 NaN\n",
       "Vendor                                                                Not set\n",
       "Vendor Name                                                           Not set\n",
       "Material                                                               610256\n",
       "Material Text                              QSSKR11005MD240 DELUXE BRAZ WALNUT\n",
       "Material Description                       QSSKR11005MD240 DELUXE BRAZ WALNUT\n",
       "Purchase Organisation                                                     100\n",
       "Purchase Organisation Description                                     Unknown\n",
       "Purchase Group                                                            101\n",
       "Quantity                                                                  180\n",
       "Amount in Reporting Currency                                          239.328\n",
       "Purchase Document                                                         NaN\n",
       "Purchase Document Line Item                                                 0\n",
       "Reference Document                                                1.06357e+09\n",
       "Reference Document Line Item                                               10\n",
       "Context                                                                   NaN\n",
       "SELECT                                               1 - Purchase requisition\n",
       "START DATE                                                2010/10/20 00:00:00\n",
       "END DATE                                                  2010/10/20 00:00:00\n",
       "CASE_EVENTATT                                                   1063572416-10\n",
       "User Group                                                                NaN\n",
       "User Country                                                              NaN\n",
       "Vendor Industry                                                           NaN\n",
       "Company Code Country                                                      NaN\n",
       "EVENT AND USER                                                            NaN\n",
       "EVENT AND DOCTYPE                                                         NaN\n",
       "INVOICES_Q                                                                NaN\n",
       "INVOICES_A                                                                NaN\n",
       "GOODS RECIEVED_Q                                                          NaN\n",
       "GOODS RECIEVED_A                                                          NaN\n",
       "POS_Q                                                                     NaN\n",
       "POS_A                                                                     NaN\n",
       "Unnamed: 48                                                               NaN\n",
       "Unnamed: 49                                                               NaN\n",
       "Unnamed: 50                                                               NaN\n",
       "Name: 1063572416-10, dtype: object"
      ]
     },
     "execution_count": 66,
     "metadata": {},
     "output_type": "execute_result"
    }
   ],
   "source": [
    "log3.loc[\"1063572416-10\"]"
   ]
  },
  {
   "cell_type": "code",
   "execution_count": 13,
   "metadata": {
    "ExecuteTime": {
     "end_time": "2018-02-11T00:40:32.897212Z",
     "start_time": "2018-02-11T00:40:32.851636Z"
    },
    "collapsed": false,
    "deletable": true,
    "editable": true
   },
   "outputs": [
    {
     "data": {
      "text/html": [
       "<div>\n",
       "<style>\n",
       "    .dataframe thead tr:only-child th {\n",
       "        text-align: right;\n",
       "    }\n",
       "\n",
       "    .dataframe thead th {\n",
       "        text-align: left;\n",
       "    }\n",
       "\n",
       "    .dataframe tbody tr th {\n",
       "        vertical-align: top;\n",
       "    }\n",
       "</style>\n",
       "<table border=\"1\" class=\"dataframe\">\n",
       "  <thead>\n",
       "    <tr style=\"text-align: right;\">\n",
       "      <th></th>\n",
       "      <th>Unnamed: 0</th>\n",
       "      <th>Unnamed: 0.1</th>\n",
       "      <th>CASE</th>\n",
       "      <th>EVENT</th>\n",
       "      <th>SIMPLIFIED EVENT</th>\n",
       "      <th>EVENT TYPE</th>\n",
       "      <th>SYS DATE</th>\n",
       "      <th>CREATION DATE</th>\n",
       "      <th>POSTING DATE</th>\n",
       "      <th>DOCUMENT DATE</th>\n",
       "      <th>...</th>\n",
       "      <th>EVENT AND DOCTYPE</th>\n",
       "      <th>INVOICES_Q</th>\n",
       "      <th>INVOICES_A</th>\n",
       "      <th>GOODS RECIEVED_Q</th>\n",
       "      <th>GOODS RECIEVED_A</th>\n",
       "      <th>POS_Q</th>\n",
       "      <th>POS_A</th>\n",
       "      <th>Unnamed: 48</th>\n",
       "      <th>Unnamed: 49</th>\n",
       "      <th>Unnamed: 50</th>\n",
       "    </tr>\n",
       "  </thead>\n",
       "  <tbody>\n",
       "    <tr>\n",
       "      <th>10132</th>\n",
       "      <td>10132</td>\n",
       "      <td>28764</td>\n",
       "      <td>2000485847-1</td>\n",
       "      <td>Purchase order</td>\n",
       "      <td>Purchase order</td>\n",
       "      <td>Purchasing document</td>\n",
       "      <td>2014-11-01 19:02:21</td>\n",
       "      <td>2014-11-01 00:00:00</td>\n",
       "      <td>NaN</td>\n",
       "      <td>NaN</td>\n",
       "      <td>...</td>\n",
       "      <td>NaN</td>\n",
       "      <td>3</td>\n",
       "      <td>880.31</td>\n",
       "      <td>27</td>\n",
       "      <td>880.31</td>\n",
       "      <td>1.0</td>\n",
       "      <td>261.28</td>\n",
       "      <td>NaN</td>\n",
       "      <td>NaN</td>\n",
       "      <td>NaN</td>\n",
       "    </tr>\n",
       "    <tr>\n",
       "      <th>10133</th>\n",
       "      <td>10133</td>\n",
       "      <td>28765</td>\n",
       "      <td>2000485847-1</td>\n",
       "      <td>Goods Reciept (Goods Receipt for Purchase Order)</td>\n",
       "      <td>Goods Reciept</td>\n",
       "      <td>Delivery (in scope)</td>\n",
       "      <td>2014-11-01 19:02:21</td>\n",
       "      <td>2014-11-01 19:02:21</td>\n",
       "      <td>2014-10-31 00:00:00</td>\n",
       "      <td>NaN</td>\n",
       "      <td>...</td>\n",
       "      <td>Goods Reciept (Goods Receipt for Purchase Orde...</td>\n",
       "      <td>NaN</td>\n",
       "      <td>NaN</td>\n",
       "      <td>NaN</td>\n",
       "      <td>NaN</td>\n",
       "      <td>NaN</td>\n",
       "      <td>NaN</td>\n",
       "      <td>NaN</td>\n",
       "      <td>NaN</td>\n",
       "      <td>NaN</td>\n",
       "    </tr>\n",
       "    <tr>\n",
       "      <th>10134</th>\n",
       "      <td>10134</td>\n",
       "      <td>28768</td>\n",
       "      <td>2000485847-1</td>\n",
       "      <td>Service Entry Sheet</td>\n",
       "      <td>Service Entry Sheet</td>\n",
       "      <td>Document flow</td>\n",
       "      <td>2014-11-01 19:02:21</td>\n",
       "      <td>2014-11-01 19:02:21</td>\n",
       "      <td>2014-10-31 00:00:00</td>\n",
       "      <td>2014-11-02 00:00:00</td>\n",
       "      <td>...</td>\n",
       "      <td>NaN</td>\n",
       "      <td>NaN</td>\n",
       "      <td>NaN</td>\n",
       "      <td>NaN</td>\n",
       "      <td>NaN</td>\n",
       "      <td>NaN</td>\n",
       "      <td>NaN</td>\n",
       "      <td>NaN</td>\n",
       "      <td>NaN</td>\n",
       "      <td>NaN</td>\n",
       "    </tr>\n",
       "    <tr>\n",
       "      <th>10234</th>\n",
       "      <td>10234</td>\n",
       "      <td>29303</td>\n",
       "      <td>2000485847-1</td>\n",
       "      <td>Service Entry Sheet</td>\n",
       "      <td>Service Entry Sheet</td>\n",
       "      <td>Document flow</td>\n",
       "      <td>2014-11-01 19:08:18</td>\n",
       "      <td>2014-11-01 19:08:18</td>\n",
       "      <td>2014-10-31 00:00:00</td>\n",
       "      <td>2014-11-02 00:00:00</td>\n",
       "      <td>...</td>\n",
       "      <td>NaN</td>\n",
       "      <td>NaN</td>\n",
       "      <td>NaN</td>\n",
       "      <td>NaN</td>\n",
       "      <td>NaN</td>\n",
       "      <td>NaN</td>\n",
       "      <td>NaN</td>\n",
       "      <td>NaN</td>\n",
       "      <td>NaN</td>\n",
       "      <td>NaN</td>\n",
       "    </tr>\n",
       "    <tr>\n",
       "      <th>10235</th>\n",
       "      <td>10235</td>\n",
       "      <td>29304</td>\n",
       "      <td>2000485847-1</td>\n",
       "      <td>Goods Reciept (Goods Receipt for Purchase Order)</td>\n",
       "      <td>Goods Reciept</td>\n",
       "      <td>Delivery (in scope)</td>\n",
       "      <td>2014-11-01 19:08:19</td>\n",
       "      <td>2014-11-01 19:08:19</td>\n",
       "      <td>2014-10-31 00:00:00</td>\n",
       "      <td>NaN</td>\n",
       "      <td>...</td>\n",
       "      <td>Goods Reciept (Goods Receipt for Purchase Orde...</td>\n",
       "      <td>NaN</td>\n",
       "      <td>NaN</td>\n",
       "      <td>NaN</td>\n",
       "      <td>NaN</td>\n",
       "      <td>NaN</td>\n",
       "      <td>NaN</td>\n",
       "      <td>NaN</td>\n",
       "      <td>NaN</td>\n",
       "      <td>NaN</td>\n",
       "    </tr>\n",
       "    <tr>\n",
       "      <th>10236</th>\n",
       "      <td>10236</td>\n",
       "      <td>29328</td>\n",
       "      <td>2000485847-1</td>\n",
       "      <td>Service Entry Sheet</td>\n",
       "      <td>Service Entry Sheet</td>\n",
       "      <td>Document flow</td>\n",
       "      <td>2014-11-01 19:08:19</td>\n",
       "      <td>2014-11-01 19:08:19</td>\n",
       "      <td>2014-10-31 00:00:00</td>\n",
       "      <td>2014-11-02 00:00:00</td>\n",
       "      <td>...</td>\n",
       "      <td>NaN</td>\n",
       "      <td>NaN</td>\n",
       "      <td>NaN</td>\n",
       "      <td>NaN</td>\n",
       "      <td>NaN</td>\n",
       "      <td>NaN</td>\n",
       "      <td>NaN</td>\n",
       "      <td>NaN</td>\n",
       "      <td>NaN</td>\n",
       "      <td>NaN</td>\n",
       "    </tr>\n",
       "    <tr>\n",
       "      <th>10841</th>\n",
       "      <td>10841</td>\n",
       "      <td>30751</td>\n",
       "      <td>2000485847-1</td>\n",
       "      <td>Goods Return (Goods Receipt for Purchase Order)</td>\n",
       "      <td>Goods Return</td>\n",
       "      <td>Delivery (in scope)</td>\n",
       "      <td>2014-11-04 03:35:05</td>\n",
       "      <td>2014-11-04 03:35:05</td>\n",
       "      <td>2014-10-31 00:00:00</td>\n",
       "      <td>NaN</td>\n",
       "      <td>...</td>\n",
       "      <td>Goods Return (Goods Receipt for Purchase Order...</td>\n",
       "      <td>NaN</td>\n",
       "      <td>NaN</td>\n",
       "      <td>NaN</td>\n",
       "      <td>NaN</td>\n",
       "      <td>NaN</td>\n",
       "      <td>NaN</td>\n",
       "      <td>NaN</td>\n",
       "      <td>NaN</td>\n",
       "      <td>NaN</td>\n",
       "    </tr>\n",
       "    <tr>\n",
       "      <th>10842</th>\n",
       "      <td>10842</td>\n",
       "      <td>30762</td>\n",
       "      <td>2000485847-1</td>\n",
       "      <td>Goods Reciept (Goods Receipt for Purchase Order)</td>\n",
       "      <td>Goods Reciept</td>\n",
       "      <td>Delivery (in scope)</td>\n",
       "      <td>2014-11-04 03:35:35</td>\n",
       "      <td>2014-11-04 03:35:35</td>\n",
       "      <td>2014-10-31 00:00:00</td>\n",
       "      <td>NaN</td>\n",
       "      <td>...</td>\n",
       "      <td>Goods Reciept (Goods Receipt for Purchase Orde...</td>\n",
       "      <td>NaN</td>\n",
       "      <td>NaN</td>\n",
       "      <td>NaN</td>\n",
       "      <td>NaN</td>\n",
       "      <td>NaN</td>\n",
       "      <td>NaN</td>\n",
       "      <td>NaN</td>\n",
       "      <td>NaN</td>\n",
       "      <td>NaN</td>\n",
       "    </tr>\n",
       "    <tr>\n",
       "      <th>10843</th>\n",
       "      <td>10843</td>\n",
       "      <td>30773</td>\n",
       "      <td>2000485847-1</td>\n",
       "      <td>Service Entry Sheet</td>\n",
       "      <td>Service Entry Sheet</td>\n",
       "      <td>Document flow</td>\n",
       "      <td>2014-11-04 03:35:35</td>\n",
       "      <td>2014-11-04 03:35:35</td>\n",
       "      <td>2014-10-31 00:00:00</td>\n",
       "      <td>2014-11-04 00:00:00</td>\n",
       "      <td>...</td>\n",
       "      <td>NaN</td>\n",
       "      <td>NaN</td>\n",
       "      <td>NaN</td>\n",
       "      <td>NaN</td>\n",
       "      <td>NaN</td>\n",
       "      <td>NaN</td>\n",
       "      <td>NaN</td>\n",
       "      <td>NaN</td>\n",
       "      <td>NaN</td>\n",
       "      <td>NaN</td>\n",
       "    </tr>\n",
       "    <tr>\n",
       "      <th>14998</th>\n",
       "      <td>14998</td>\n",
       "      <td>42708</td>\n",
       "      <td>2000485847-1</td>\n",
       "      <td>Invoice Reciept (Logistics invoice)</td>\n",
       "      <td>Invoice Reciept</td>\n",
       "      <td>Billing (in scope)</td>\n",
       "      <td>2014-11-17 09:11:31</td>\n",
       "      <td>2014-11-17 09:07:45</td>\n",
       "      <td>2014-11-12 00:00:00</td>\n",
       "      <td>NaN</td>\n",
       "      <td>...</td>\n",
       "      <td>Invoice Reciept (Logistics invoice)-Vendor inv...</td>\n",
       "      <td>NaN</td>\n",
       "      <td>NaN</td>\n",
       "      <td>NaN</td>\n",
       "      <td>NaN</td>\n",
       "      <td>NaN</td>\n",
       "      <td>NaN</td>\n",
       "      <td>NaN</td>\n",
       "      <td>NaN</td>\n",
       "      <td>NaN</td>\n",
       "    </tr>\n",
       "    <tr>\n",
       "      <th>20172</th>\n",
       "      <td>20172</td>\n",
       "      <td>56727</td>\n",
       "      <td>2000485847-1</td>\n",
       "      <td>Clearing (Invoice/Vendor payment)</td>\n",
       "      <td>Clearing (Invoice)</td>\n",
       "      <td>Payment (in scope)</td>\n",
       "      <td>2014-12-01 11:04:16</td>\n",
       "      <td>NaN</td>\n",
       "      <td>2014-12-02 00:00:00</td>\n",
       "      <td>2014-12-02 00:00:00</td>\n",
       "      <td>...</td>\n",
       "      <td>Clearing (Invoice/Vendor payment)-Vendor payment</td>\n",
       "      <td>NaN</td>\n",
       "      <td>NaN</td>\n",
       "      <td>NaN</td>\n",
       "      <td>NaN</td>\n",
       "      <td>NaN</td>\n",
       "      <td>NaN</td>\n",
       "      <td>NaN</td>\n",
       "      <td>NaN</td>\n",
       "      <td>NaN</td>\n",
       "    </tr>\n",
       "  </tbody>\n",
       "</table>\n",
       "<p>11 rows × 53 columns</p>\n",
       "</div>"
      ],
      "text/plain": [
       "       Unnamed: 0  Unnamed: 0.1          CASE  \\\n",
       "10132       10132         28764  2000485847-1   \n",
       "10133       10133         28765  2000485847-1   \n",
       "10134       10134         28768  2000485847-1   \n",
       "10234       10234         29303  2000485847-1   \n",
       "10235       10235         29304  2000485847-1   \n",
       "10236       10236         29328  2000485847-1   \n",
       "10841       10841         30751  2000485847-1   \n",
       "10842       10842         30762  2000485847-1   \n",
       "10843       10843         30773  2000485847-1   \n",
       "14998       14998         42708  2000485847-1   \n",
       "20172       20172         56727  2000485847-1   \n",
       "\n",
       "                                                  EVENT     SIMPLIFIED EVENT  \\\n",
       "10132                                    Purchase order       Purchase order   \n",
       "10133  Goods Reciept (Goods Receipt for Purchase Order)        Goods Reciept   \n",
       "10134                               Service Entry Sheet  Service Entry Sheet   \n",
       "10234                               Service Entry Sheet  Service Entry Sheet   \n",
       "10235  Goods Reciept (Goods Receipt for Purchase Order)        Goods Reciept   \n",
       "10236                               Service Entry Sheet  Service Entry Sheet   \n",
       "10841   Goods Return (Goods Receipt for Purchase Order)         Goods Return   \n",
       "10842  Goods Reciept (Goods Receipt for Purchase Order)        Goods Reciept   \n",
       "10843                               Service Entry Sheet  Service Entry Sheet   \n",
       "14998               Invoice Reciept (Logistics invoice)      Invoice Reciept   \n",
       "20172                 Clearing (Invoice/Vendor payment)   Clearing (Invoice)   \n",
       "\n",
       "                EVENT TYPE             SYS DATE        CREATION DATE  \\\n",
       "10132  Purchasing document  2014-11-01 19:02:21  2014-11-01 00:00:00   \n",
       "10133  Delivery (in scope)  2014-11-01 19:02:21  2014-11-01 19:02:21   \n",
       "10134        Document flow  2014-11-01 19:02:21  2014-11-01 19:02:21   \n",
       "10234        Document flow  2014-11-01 19:08:18  2014-11-01 19:08:18   \n",
       "10235  Delivery (in scope)  2014-11-01 19:08:19  2014-11-01 19:08:19   \n",
       "10236        Document flow  2014-11-01 19:08:19  2014-11-01 19:08:19   \n",
       "10841  Delivery (in scope)  2014-11-04 03:35:05  2014-11-04 03:35:05   \n",
       "10842  Delivery (in scope)  2014-11-04 03:35:35  2014-11-04 03:35:35   \n",
       "10843        Document flow  2014-11-04 03:35:35  2014-11-04 03:35:35   \n",
       "14998   Billing (in scope)  2014-11-17 09:11:31  2014-11-17 09:07:45   \n",
       "20172   Payment (in scope)  2014-12-01 11:04:16                  NaN   \n",
       "\n",
       "              POSTING DATE        DOCUMENT DATE     ...      \\\n",
       "10132                  NaN                  NaN     ...       \n",
       "10133  2014-10-31 00:00:00                  NaN     ...       \n",
       "10134  2014-10-31 00:00:00  2014-11-02 00:00:00     ...       \n",
       "10234  2014-10-31 00:00:00  2014-11-02 00:00:00     ...       \n",
       "10235  2014-10-31 00:00:00                  NaN     ...       \n",
       "10236  2014-10-31 00:00:00  2014-11-02 00:00:00     ...       \n",
       "10841  2014-10-31 00:00:00                  NaN     ...       \n",
       "10842  2014-10-31 00:00:00                  NaN     ...       \n",
       "10843  2014-10-31 00:00:00  2014-11-04 00:00:00     ...       \n",
       "14998  2014-11-12 00:00:00                  NaN     ...       \n",
       "20172  2014-12-02 00:00:00  2014-12-02 00:00:00     ...       \n",
       "\n",
       "                                       EVENT AND DOCTYPE INVOICES_Q  \\\n",
       "10132                                                NaN          3   \n",
       "10133  Goods Reciept (Goods Receipt for Purchase Orde...        NaN   \n",
       "10134                                                NaN        NaN   \n",
       "10234                                                NaN        NaN   \n",
       "10235  Goods Reciept (Goods Receipt for Purchase Orde...        NaN   \n",
       "10236                                                NaN        NaN   \n",
       "10841  Goods Return (Goods Receipt for Purchase Order...        NaN   \n",
       "10842  Goods Reciept (Goods Receipt for Purchase Orde...        NaN   \n",
       "10843                                                NaN        NaN   \n",
       "14998  Invoice Reciept (Logistics invoice)-Vendor inv...        NaN   \n",
       "20172   Clearing (Invoice/Vendor payment)-Vendor payment        NaN   \n",
       "\n",
       "      INVOICES_A GOODS RECIEVED_Q GOODS RECIEVED_A POS_Q   POS_A Unnamed: 48  \\\n",
       "10132     880.31               27           880.31   1.0  261.28         NaN   \n",
       "10133        NaN              NaN              NaN   NaN     NaN         NaN   \n",
       "10134        NaN              NaN              NaN   NaN     NaN         NaN   \n",
       "10234        NaN              NaN              NaN   NaN     NaN         NaN   \n",
       "10235        NaN              NaN              NaN   NaN     NaN         NaN   \n",
       "10236        NaN              NaN              NaN   NaN     NaN         NaN   \n",
       "10841        NaN              NaN              NaN   NaN     NaN         NaN   \n",
       "10842        NaN              NaN              NaN   NaN     NaN         NaN   \n",
       "10843        NaN              NaN              NaN   NaN     NaN         NaN   \n",
       "14998        NaN              NaN              NaN   NaN     NaN         NaN   \n",
       "20172        NaN              NaN              NaN   NaN     NaN         NaN   \n",
       "\n",
       "      Unnamed: 49 Unnamed: 50  \n",
       "10132         NaN         NaN  \n",
       "10133         NaN         NaN  \n",
       "10134         NaN         NaN  \n",
       "10234         NaN         NaN  \n",
       "10235         NaN         NaN  \n",
       "10236         NaN         NaN  \n",
       "10841         NaN         NaN  \n",
       "10842         NaN         NaN  \n",
       "10843         NaN         NaN  \n",
       "14998         NaN         NaN  \n",
       "20172         NaN         NaN  \n",
       "\n",
       "[11 rows x 53 columns]"
      ]
     },
     "execution_count": 13,
     "metadata": {},
     "output_type": "execute_result"
    }
   ],
   "source": [
    "log[log[\"CASE\"] == \"2000485847-1\"]"
   ]
  },
  {
   "cell_type": "code",
   "execution_count": 4,
   "metadata": {
    "ExecuteTime": {
     "end_time": "2018-01-30T15:18:01.196780Z",
     "start_time": "2018-01-30T15:18:00.118410Z"
    },
    "collapsed": false,
    "deletable": true,
    "editable": true
   },
   "outputs": [],
   "source": [
    "log = pd.read_csv(\"data/EVENT_LOG.csv\", delimiter=\";\", low_memory=False)"
   ]
  },
  {
   "cell_type": "code",
   "execution_count": 5,
   "metadata": {
    "ExecuteTime": {
     "end_time": "2018-01-30T15:18:01.529138Z",
     "start_time": "2018-01-30T15:18:01.434333Z"
    },
    "collapsed": false,
    "deletable": true,
    "editable": true
   },
   "outputs": [
    {
     "data": {
      "text/html": [
       "<div>\n",
       "<style>\n",
       "    .dataframe thead tr:only-child th {\n",
       "        text-align: right;\n",
       "    }\n",
       "\n",
       "    .dataframe thead th {\n",
       "        text-align: left;\n",
       "    }\n",
       "\n",
       "    .dataframe tbody tr th {\n",
       "        vertical-align: top;\n",
       "    }\n",
       "</style>\n",
       "<table border=\"1\" class=\"dataframe\">\n",
       "  <thead>\n",
       "    <tr style=\"text-align: right;\">\n",
       "      <th></th>\n",
       "      <th>CASE</th>\n",
       "      <th>EVENT</th>\n",
       "      <th>SIMPLIFIED EVENT</th>\n",
       "      <th>EVENT TYPE</th>\n",
       "      <th>SYS DATE</th>\n",
       "      <th>CREATION DATE</th>\n",
       "      <th>POSTING DATE</th>\n",
       "      <th>DOCUMENT DATE</th>\n",
       "      <th>Company Code</th>\n",
       "      <th>Company Code Description</th>\n",
       "      <th>Document Type</th>\n",
       "      <th>Document Type Description</th>\n",
       "      <th>Document Category</th>\n",
       "      <th>Document Category Description</th>\n",
       "      <th>User ID</th>\n",
       "      <th>User Name</th>\n",
       "      <th>User Type</th>\n",
       "      <th>Vendor</th>\n",
       "      <th>Vendor Name</th>\n",
       "      <th>Material</th>\n",
       "      <th>Material Text</th>\n",
       "      <th>Material Description</th>\n",
       "      <th>Purchase Organisation</th>\n",
       "      <th>Purchase Organisation Description</th>\n",
       "      <th>Purchase Group</th>\n",
       "      <th>Quantity</th>\n",
       "      <th>Amount in Reporting Currency</th>\n",
       "      <th>Purchase Document</th>\n",
       "      <th>Purchase Document Line Item</th>\n",
       "      <th>Reference Document</th>\n",
       "      <th>Reference Document Line Item</th>\n",
       "      <th>Context</th>\n",
       "      <th>SELECT</th>\n",
       "      <th>START DATE</th>\n",
       "      <th>END DATE</th>\n",
       "      <th>CASE_EVENTATT</th>\n",
       "      <th>User Group</th>\n",
       "      <th>User Country</th>\n",
       "      <th>Vendor Industry</th>\n",
       "      <th>Company Code Country</th>\n",
       "      <th>EVENT AND USER</th>\n",
       "      <th>EVENT AND DOCTYPE</th>\n",
       "      <th>INVOICES_Q</th>\n",
       "      <th>INVOICES_A</th>\n",
       "      <th>GOODS RECIEVED_Q</th>\n",
       "      <th>GOODS RECIEVED_A</th>\n",
       "      <th>POS_Q</th>\n",
       "      <th>POS_A</th>\n",
       "    </tr>\n",
       "  </thead>\n",
       "  <tbody>\n",
       "    <tr>\n",
       "      <th>0</th>\n",
       "      <td>2000493357-1</td>\n",
       "      <td>Invoice Reciept (Logistics invoice)</td>\n",
       "      <td>Invoice Reciept</td>\n",
       "      <td>Billing (in scope)</td>\n",
       "      <td>2014-12-12 11:01:38</td>\n",
       "      <td>2014-12-12 11:00:45</td>\n",
       "      <td>2014-12-09 00:00:00</td>\n",
       "      <td>NaN</td>\n",
       "      <td>3000</td>\n",
       "      <td>Unknown</td>\n",
       "      <td>RE</td>\n",
       "      <td>Vendor invoice</td>\n",
       "      <td>RD</td>\n",
       "      <td>Logistics invoice</td>\n",
       "      <td>VCRUYSMA</td>\n",
       "      <td>NaN</td>\n",
       "      <td>NaN</td>\n",
       "      <td>0002000655</td>\n",
       "      <td>Unknown</td>\n",
       "      <td>Not set</td>\n",
       "      <td>Unknown</td>\n",
       "      <td>Not set</td>\n",
       "      <td>Purchase organisation from 3000</td>\n",
       "      <td>Purchase organisation from 3000</td>\n",
       "      <td>Purchase group from 3000</td>\n",
       "      <td>1.0</td>\n",
       "      <td>90.00</td>\n",
       "      <td>2.000493e+09</td>\n",
       "      <td>1</td>\n",
       "      <td>1054420</td>\n",
       "      <td>26</td>\n",
       "      <td>NaN</td>\n",
       "      <td>4a - Billing (in scope)</td>\n",
       "      <td>2014/12/12 11:01:38</td>\n",
       "      <td>2014/12/12 11:01:38</td>\n",
       "      <td>2000493357-1</td>\n",
       "      <td>NaN</td>\n",
       "      <td>NaN</td>\n",
       "      <td>NaN</td>\n",
       "      <td>NaN</td>\n",
       "      <td>NaN</td>\n",
       "      <td>Invoice Reciept (Logistics invoice)-Vendor inv...</td>\n",
       "      <td>NaN</td>\n",
       "      <td>NaN</td>\n",
       "      <td>NaN</td>\n",
       "      <td>NaN</td>\n",
       "      <td>NaN</td>\n",
       "      <td>NaN</td>\n",
       "    </tr>\n",
       "    <tr>\n",
       "      <th>1</th>\n",
       "      <td>2000493357-1</td>\n",
       "      <td>Invoice Reciept (Logistics invoice)</td>\n",
       "      <td>Invoice Reciept</td>\n",
       "      <td>Billing (in scope)</td>\n",
       "      <td>2014-12-12 11:01:38</td>\n",
       "      <td>2014-12-12 11:00:45</td>\n",
       "      <td>2014-12-09 00:00:00</td>\n",
       "      <td>NaN</td>\n",
       "      <td>3000</td>\n",
       "      <td>Unknown</td>\n",
       "      <td>RE</td>\n",
       "      <td>Vendor invoice</td>\n",
       "      <td>RD</td>\n",
       "      <td>Logistics invoice</td>\n",
       "      <td>VCRUYSMA</td>\n",
       "      <td>NaN</td>\n",
       "      <td>NaN</td>\n",
       "      <td>0002000655</td>\n",
       "      <td>Unknown</td>\n",
       "      <td>Not set</td>\n",
       "      <td>Unknown</td>\n",
       "      <td>Not set</td>\n",
       "      <td>Purchase organisation from 3000</td>\n",
       "      <td>Purchase organisation from 3000</td>\n",
       "      <td>Purchase group from 3000</td>\n",
       "      <td>1.0</td>\n",
       "      <td>65.00</td>\n",
       "      <td>2.000493e+09</td>\n",
       "      <td>1</td>\n",
       "      <td>1054420</td>\n",
       "      <td>27</td>\n",
       "      <td>NaN</td>\n",
       "      <td>4a - Billing (in scope)</td>\n",
       "      <td>2014/12/12 11:01:38</td>\n",
       "      <td>2014/12/12 11:01:38</td>\n",
       "      <td>2000493357-1</td>\n",
       "      <td>NaN</td>\n",
       "      <td>NaN</td>\n",
       "      <td>NaN</td>\n",
       "      <td>NaN</td>\n",
       "      <td>NaN</td>\n",
       "      <td>Invoice Reciept (Logistics invoice)-Vendor inv...</td>\n",
       "      <td>NaN</td>\n",
       "      <td>NaN</td>\n",
       "      <td>NaN</td>\n",
       "      <td>NaN</td>\n",
       "      <td>NaN</td>\n",
       "      <td>NaN</td>\n",
       "    </tr>\n",
       "    <tr>\n",
       "      <th>2</th>\n",
       "      <td>2000493357-1</td>\n",
       "      <td>Invoice Reciept (Logistics invoice)</td>\n",
       "      <td>Invoice Reciept</td>\n",
       "      <td>Billing (in scope)</td>\n",
       "      <td>2014-12-12 11:01:38</td>\n",
       "      <td>2014-12-12 11:00:45</td>\n",
       "      <td>2014-12-09 00:00:00</td>\n",
       "      <td>NaN</td>\n",
       "      <td>3000</td>\n",
       "      <td>Unknown</td>\n",
       "      <td>RE</td>\n",
       "      <td>Vendor invoice</td>\n",
       "      <td>RD</td>\n",
       "      <td>Logistics invoice</td>\n",
       "      <td>VCRUYSMA</td>\n",
       "      <td>NaN</td>\n",
       "      <td>NaN</td>\n",
       "      <td>0002000655</td>\n",
       "      <td>Unknown</td>\n",
       "      <td>Not set</td>\n",
       "      <td>Unknown</td>\n",
       "      <td>Not set</td>\n",
       "      <td>Purchase organisation from 3000</td>\n",
       "      <td>Purchase organisation from 3000</td>\n",
       "      <td>Purchase group from 3000</td>\n",
       "      <td>1.0</td>\n",
       "      <td>509.17</td>\n",
       "      <td>2.000493e+09</td>\n",
       "      <td>1</td>\n",
       "      <td>1054420</td>\n",
       "      <td>28</td>\n",
       "      <td>NaN</td>\n",
       "      <td>4a - Billing (in scope)</td>\n",
       "      <td>2014/12/12 11:01:38</td>\n",
       "      <td>2014/12/12 11:01:38</td>\n",
       "      <td>2000493357-1</td>\n",
       "      <td>NaN</td>\n",
       "      <td>NaN</td>\n",
       "      <td>NaN</td>\n",
       "      <td>NaN</td>\n",
       "      <td>NaN</td>\n",
       "      <td>Invoice Reciept (Logistics invoice)-Vendor inv...</td>\n",
       "      <td>NaN</td>\n",
       "      <td>NaN</td>\n",
       "      <td>NaN</td>\n",
       "      <td>NaN</td>\n",
       "      <td>NaN</td>\n",
       "      <td>NaN</td>\n",
       "    </tr>\n",
       "    <tr>\n",
       "      <th>3</th>\n",
       "      <td>2000493357-1</td>\n",
       "      <td>Invoice Reciept (Logistics invoice)</td>\n",
       "      <td>Invoice Reciept</td>\n",
       "      <td>Billing (in scope)</td>\n",
       "      <td>2014-12-12 11:01:38</td>\n",
       "      <td>2014-12-12 11:00:45</td>\n",
       "      <td>2014-12-09 00:00:00</td>\n",
       "      <td>NaN</td>\n",
       "      <td>3000</td>\n",
       "      <td>Unknown</td>\n",
       "      <td>RE</td>\n",
       "      <td>Vendor invoice</td>\n",
       "      <td>RD</td>\n",
       "      <td>Logistics invoice</td>\n",
       "      <td>VCRUYSMA</td>\n",
       "      <td>NaN</td>\n",
       "      <td>NaN</td>\n",
       "      <td>0002000655</td>\n",
       "      <td>Unknown</td>\n",
       "      <td>Not set</td>\n",
       "      <td>Unknown</td>\n",
       "      <td>Not set</td>\n",
       "      <td>Purchase organisation from 3000</td>\n",
       "      <td>Purchase organisation from 3000</td>\n",
       "      <td>Purchase group from 3000</td>\n",
       "      <td>1.0</td>\n",
       "      <td>250.82</td>\n",
       "      <td>2.000493e+09</td>\n",
       "      <td>1</td>\n",
       "      <td>1054420</td>\n",
       "      <td>29</td>\n",
       "      <td>NaN</td>\n",
       "      <td>4a - Billing (in scope)</td>\n",
       "      <td>2014/12/12 11:01:38</td>\n",
       "      <td>2014/12/12 11:01:38</td>\n",
       "      <td>2000493357-1</td>\n",
       "      <td>NaN</td>\n",
       "      <td>NaN</td>\n",
       "      <td>NaN</td>\n",
       "      <td>NaN</td>\n",
       "      <td>NaN</td>\n",
       "      <td>Invoice Reciept (Logistics invoice)-Vendor inv...</td>\n",
       "      <td>NaN</td>\n",
       "      <td>NaN</td>\n",
       "      <td>NaN</td>\n",
       "      <td>NaN</td>\n",
       "      <td>NaN</td>\n",
       "      <td>NaN</td>\n",
       "    </tr>\n",
       "    <tr>\n",
       "      <th>4</th>\n",
       "      <td>2000493357-1</td>\n",
       "      <td>Invoice Reciept (Logistics invoice)</td>\n",
       "      <td>Invoice Reciept</td>\n",
       "      <td>Billing (in scope)</td>\n",
       "      <td>2014-12-12 11:01:38</td>\n",
       "      <td>2014-12-12 11:00:45</td>\n",
       "      <td>2014-12-09 00:00:00</td>\n",
       "      <td>NaN</td>\n",
       "      <td>3000</td>\n",
       "      <td>Unknown</td>\n",
       "      <td>RE</td>\n",
       "      <td>Vendor invoice</td>\n",
       "      <td>RD</td>\n",
       "      <td>Logistics invoice</td>\n",
       "      <td>VCRUYSMA</td>\n",
       "      <td>NaN</td>\n",
       "      <td>NaN</td>\n",
       "      <td>0002000655</td>\n",
       "      <td>Unknown</td>\n",
       "      <td>Not set</td>\n",
       "      <td>Unknown</td>\n",
       "      <td>Not set</td>\n",
       "      <td>Purchase organisation from 3000</td>\n",
       "      <td>Purchase organisation from 3000</td>\n",
       "      <td>Purchase group from 3000</td>\n",
       "      <td>1.0</td>\n",
       "      <td>196.48</td>\n",
       "      <td>2.000493e+09</td>\n",
       "      <td>1</td>\n",
       "      <td>1054420</td>\n",
       "      <td>30</td>\n",
       "      <td>NaN</td>\n",
       "      <td>4a - Billing (in scope)</td>\n",
       "      <td>2014/12/12 11:01:38</td>\n",
       "      <td>2014/12/12 11:01:38</td>\n",
       "      <td>2000493357-1</td>\n",
       "      <td>NaN</td>\n",
       "      <td>NaN</td>\n",
       "      <td>NaN</td>\n",
       "      <td>NaN</td>\n",
       "      <td>NaN</td>\n",
       "      <td>Invoice Reciept (Logistics invoice)-Vendor inv...</td>\n",
       "      <td>NaN</td>\n",
       "      <td>NaN</td>\n",
       "      <td>NaN</td>\n",
       "      <td>NaN</td>\n",
       "      <td>NaN</td>\n",
       "      <td>NaN</td>\n",
       "    </tr>\n",
       "  </tbody>\n",
       "</table>\n",
       "</div>"
      ],
      "text/plain": [
       "           CASE                                EVENT SIMPLIFIED EVENT  \\\n",
       "0  2000493357-1  Invoice Reciept (Logistics invoice)  Invoice Reciept   \n",
       "1  2000493357-1  Invoice Reciept (Logistics invoice)  Invoice Reciept   \n",
       "2  2000493357-1  Invoice Reciept (Logistics invoice)  Invoice Reciept   \n",
       "3  2000493357-1  Invoice Reciept (Logistics invoice)  Invoice Reciept   \n",
       "4  2000493357-1  Invoice Reciept (Logistics invoice)  Invoice Reciept   \n",
       "\n",
       "           EVENT TYPE             SYS DATE        CREATION DATE  \\\n",
       "0  Billing (in scope)  2014-12-12 11:01:38  2014-12-12 11:00:45   \n",
       "1  Billing (in scope)  2014-12-12 11:01:38  2014-12-12 11:00:45   \n",
       "2  Billing (in scope)  2014-12-12 11:01:38  2014-12-12 11:00:45   \n",
       "3  Billing (in scope)  2014-12-12 11:01:38  2014-12-12 11:00:45   \n",
       "4  Billing (in scope)  2014-12-12 11:01:38  2014-12-12 11:00:45   \n",
       "\n",
       "          POSTING DATE DOCUMENT DATE Company Code Company Code Description  \\\n",
       "0  2014-12-09 00:00:00           NaN         3000                  Unknown   \n",
       "1  2014-12-09 00:00:00           NaN         3000                  Unknown   \n",
       "2  2014-12-09 00:00:00           NaN         3000                  Unknown   \n",
       "3  2014-12-09 00:00:00           NaN         3000                  Unknown   \n",
       "4  2014-12-09 00:00:00           NaN         3000                  Unknown   \n",
       "\n",
       "  Document Type Document Type Description Document Category  \\\n",
       "0            RE            Vendor invoice                RD   \n",
       "1            RE            Vendor invoice                RD   \n",
       "2            RE            Vendor invoice                RD   \n",
       "3            RE            Vendor invoice                RD   \n",
       "4            RE            Vendor invoice                RD   \n",
       "\n",
       "  Document Category Description   User ID  User Name  User Type      Vendor  \\\n",
       "0             Logistics invoice  VCRUYSMA        NaN        NaN  0002000655   \n",
       "1             Logistics invoice  VCRUYSMA        NaN        NaN  0002000655   \n",
       "2             Logistics invoice  VCRUYSMA        NaN        NaN  0002000655   \n",
       "3             Logistics invoice  VCRUYSMA        NaN        NaN  0002000655   \n",
       "4             Logistics invoice  VCRUYSMA        NaN        NaN  0002000655   \n",
       "\n",
       "  Vendor Name Material Material Text Material Description  \\\n",
       "0     Unknown  Not set       Unknown              Not set   \n",
       "1     Unknown  Not set       Unknown              Not set   \n",
       "2     Unknown  Not set       Unknown              Not set   \n",
       "3     Unknown  Not set       Unknown              Not set   \n",
       "4     Unknown  Not set       Unknown              Not set   \n",
       "\n",
       "             Purchase Organisation Purchase Organisation Description  \\\n",
       "0  Purchase organisation from 3000   Purchase organisation from 3000   \n",
       "1  Purchase organisation from 3000   Purchase organisation from 3000   \n",
       "2  Purchase organisation from 3000   Purchase organisation from 3000   \n",
       "3  Purchase organisation from 3000   Purchase organisation from 3000   \n",
       "4  Purchase organisation from 3000   Purchase organisation from 3000   \n",
       "\n",
       "             Purchase Group  Quantity  Amount in Reporting Currency  \\\n",
       "0  Purchase group from 3000       1.0                         90.00   \n",
       "1  Purchase group from 3000       1.0                         65.00   \n",
       "2  Purchase group from 3000       1.0                        509.17   \n",
       "3  Purchase group from 3000       1.0                        250.82   \n",
       "4  Purchase group from 3000       1.0                        196.48   \n",
       "\n",
       "   Purchase Document  Purchase Document Line Item  Reference Document  \\\n",
       "0       2.000493e+09                            1             1054420   \n",
       "1       2.000493e+09                            1             1054420   \n",
       "2       2.000493e+09                            1             1054420   \n",
       "3       2.000493e+09                            1             1054420   \n",
       "4       2.000493e+09                            1             1054420   \n",
       "\n",
       "   Reference Document Line Item Context                   SELECT  \\\n",
       "0                            26     NaN  4a - Billing (in scope)   \n",
       "1                            27     NaN  4a - Billing (in scope)   \n",
       "2                            28     NaN  4a - Billing (in scope)   \n",
       "3                            29     NaN  4a - Billing (in scope)   \n",
       "4                            30     NaN  4a - Billing (in scope)   \n",
       "\n",
       "            START DATE             END DATE CASE_EVENTATT  User Group  \\\n",
       "0  2014/12/12 11:01:38  2014/12/12 11:01:38  2000493357-1         NaN   \n",
       "1  2014/12/12 11:01:38  2014/12/12 11:01:38  2000493357-1         NaN   \n",
       "2  2014/12/12 11:01:38  2014/12/12 11:01:38  2000493357-1         NaN   \n",
       "3  2014/12/12 11:01:38  2014/12/12 11:01:38  2000493357-1         NaN   \n",
       "4  2014/12/12 11:01:38  2014/12/12 11:01:38  2000493357-1         NaN   \n",
       "\n",
       "   User Country  Vendor Industry  Company Code Country  EVENT AND USER  \\\n",
       "0           NaN              NaN                   NaN             NaN   \n",
       "1           NaN              NaN                   NaN             NaN   \n",
       "2           NaN              NaN                   NaN             NaN   \n",
       "3           NaN              NaN                   NaN             NaN   \n",
       "4           NaN              NaN                   NaN             NaN   \n",
       "\n",
       "                                   EVENT AND DOCTYPE  INVOICES_Q  INVOICES_A  \\\n",
       "0  Invoice Reciept (Logistics invoice)-Vendor inv...         NaN         NaN   \n",
       "1  Invoice Reciept (Logistics invoice)-Vendor inv...         NaN         NaN   \n",
       "2  Invoice Reciept (Logistics invoice)-Vendor inv...         NaN         NaN   \n",
       "3  Invoice Reciept (Logistics invoice)-Vendor inv...         NaN         NaN   \n",
       "4  Invoice Reciept (Logistics invoice)-Vendor inv...         NaN         NaN   \n",
       "\n",
       "   GOODS RECIEVED_Q  GOODS RECIEVED_A  POS_Q  POS_A  \n",
       "0               NaN               NaN    NaN    NaN  \n",
       "1               NaN               NaN    NaN    NaN  \n",
       "2               NaN               NaN    NaN    NaN  \n",
       "3               NaN               NaN    NaN    NaN  \n",
       "4               NaN               NaN    NaN    NaN  "
      ]
     },
     "execution_count": 5,
     "metadata": {},
     "output_type": "execute_result"
    }
   ],
   "source": [
    "pd.set_option('display.max_columns', None)\n",
    "log.head()"
   ]
  },
  {
   "cell_type": "code",
   "execution_count": 51,
   "metadata": {
    "ExecuteTime": {
     "end_time": "2018-01-26T13:59:21.515427Z",
     "start_time": "2018-01-26T13:59:21.472367Z"
    },
    "collapsed": false,
    "deletable": true,
    "editable": true
   },
   "outputs": [
    {
     "name": "stdout",
     "output_type": "stream",
     "text": [
      "0 CASE\n",
      "1 EVENT\n",
      "2 SIMPLIFIED EVENT\n",
      "3 EVENT TYPE\n",
      "4 SYS DATE\n",
      "5 CREATION DATE\n",
      "6 POSTING DATE\n",
      "7 DOCUMENT DATE\n",
      "8 Company Code\n",
      "9 Company Code Description\n",
      "10 Document Type\n",
      "11 Document Type Description\n",
      "12 Document Category\n",
      "13 Document Category Description\n",
      "14 User ID\n",
      "15 User Name\n",
      "16 User Type\n",
      "17 Vendor\n",
      "18 Vendor Name\n",
      "19 Material\n",
      "20 Material Text\n",
      "21 Material Description\n",
      "22 Purchase Organisation\n",
      "23 Purchase Organisation Description\n",
      "24 Purchase Group\n",
      "25 Quantity\n",
      "26 Amount in Reporting Currency\n",
      "27 Purchase Document\n",
      "28 Purchase Document Line Item\n",
      "29 Reference Document\n",
      "30 Reference Document Line Item\n",
      "31 Context\n",
      "32 SELECT\n",
      "33 START DATE\n",
      "34 END DATE\n",
      "35 CASE_EVENTATT\n",
      "36 User Group\n",
      "37 User Country\n",
      "38 Vendor Industry\n",
      "39 Company Code Country\n",
      "40 EVENT AND USER\n",
      "41 EVENT AND DOCTYPE\n",
      "42 INVOICES_Q\n",
      "43 INVOICES_A\n",
      "44 GOODS RECIEVED_Q\n",
      "45 GOODS RECIEVED_A\n",
      "46 POS_Q\n",
      "47 POS_A\n"
     ]
    }
   ],
   "source": [
    "i = 0\n",
    "for feature in log[log[\"CASE\"] == \"2000493357-1\"].columns:\n",
    "    print(i, feature)\n",
    "    i += 1"
   ]
  },
  {
   "cell_type": "code",
   "execution_count": 6,
   "metadata": {
    "ExecuteTime": {
     "end_time": "2018-01-30T15:18:06.277918Z",
     "start_time": "2018-01-30T15:18:06.255409Z"
    },
    "collapsed": false,
    "deletable": true,
    "editable": true
   },
   "outputs": [],
   "source": [
    "case = []\n",
    "previous_event = \"\"\n",
    "previous_refdoc = -1\n",
    "for row in log[log[\"CASE\"] == \"2000493357-1\"].values:\n",
    "    event = row[2]\n",
    "    refdoc = int(row[29])\n",
    "    if event != previous_event or previous_refdoc != refdoc:\n",
    "        case.append(event)\n",
    "        previous_event = event\n",
    "        previous_refdoc = refdoc"
   ]
  },
  {
   "cell_type": "code",
   "execution_count": 7,
   "metadata": {
    "ExecuteTime": {
     "end_time": "2018-01-30T15:18:08.653506Z",
     "start_time": "2018-01-30T15:18:08.645301Z"
    },
    "collapsed": false,
    "deletable": true,
    "editable": true
   },
   "outputs": [
    {
     "data": {
      "text/plain": [
       "['Invoice Reciept',\n",
       " 'Purchase order',\n",
       " 'Goods Reciept',\n",
       " 'Goods Return',\n",
       " 'Goods Reciept',\n",
       " 'Goods Reciept',\n",
       " 'Goods Reciept',\n",
       " 'Goods Reciept',\n",
       " 'Goods Reciept',\n",
       " 'Goods Reciept',\n",
       " 'Invoice Reciept',\n",
       " 'Service Entry Sheet',\n",
       " 'Service Entry Sheet',\n",
       " 'Service Entry Sheet',\n",
       " 'Service Entry Sheet',\n",
       " 'Service Entry Sheet',\n",
       " 'Service Entry Sheet',\n",
       " 'Service Entry Sheet',\n",
       " 'Service Entry Sheet',\n",
       " 'Service Entry Sheet',\n",
       " 'Service Entry Sheet',\n",
       " 'Service Entry Sheet',\n",
       " 'Service Entry Sheet']"
      ]
     },
     "execution_count": 7,
     "metadata": {},
     "output_type": "execute_result"
    }
   ],
   "source": [
    "case"
   ]
  },
  {
   "cell_type": "code",
   "execution_count": 8,
   "metadata": {
    "ExecuteTime": {
     "end_time": "2018-01-30T15:20:17.759912Z",
     "start_time": "2018-01-30T15:20:17.753236Z"
    },
    "collapsed": false,
    "deletable": true,
    "editable": true
   },
   "outputs": [],
   "source": [
    "size = np.unique(case).size\n",
    "\n",
    "letters = [chr(i) for i in range(ord(\"A\"), ord(\"A\") + size)]"
   ]
  },
  {
   "cell_type": "markdown",
   "metadata": {
    "ExecuteTime": {
     "end_time": "2018-01-30T15:15:36.525326Z",
     "start_time": "2018-01-30T15:15:36.519693Z"
    },
    "deletable": true,
    "editable": true
   },
   "source": [
    "Invoice Reciept – C\n",
    "Purchase order – D\n",
    "Goods Reciept – A"
   ]
  },
  {
   "cell_type": "code",
   "execution_count": 11,
   "metadata": {
    "ExecuteTime": {
     "end_time": "2018-01-30T15:20:31.226178Z",
     "start_time": "2018-01-30T15:20:31.219549Z"
    },
    "collapsed": false,
    "deletable": true,
    "editable": true
   },
   "outputs": [],
   "source": [
    "unique = []\n",
    "for event in case:\n",
    "    if event not in unique:\n",
    "        unique.append(event)\n",
    "d = dict()\n",
    "for i in range(5):\n",
    "    d[unique[i]] = letters[i] "
   ]
  },
  {
   "cell_type": "code",
   "execution_count": 14,
   "metadata": {
    "ExecuteTime": {
     "end_time": "2018-01-30T15:20:39.932178Z",
     "start_time": "2018-01-30T15:20:39.926708Z"
    },
    "collapsed": false,
    "deletable": true,
    "editable": true
   },
   "outputs": [
    {
     "data": {
      "text/plain": [
       "{'Goods Reciept': 'C',\n",
       " 'Goods Return': 'D',\n",
       " 'Invoice Reciept': 'A',\n",
       " 'Purchase order': 'B',\n",
       " 'Service Entry Sheet': 'E'}"
      ]
     },
     "execution_count": 14,
     "metadata": {},
     "output_type": "execute_result"
    }
   ],
   "source": [
    "d"
   ]
  },
  {
   "cell_type": "markdown",
   "metadata": {
    "deletable": true,
    "editable": true
   },
   "source": [
    "Invoice Reciept: A,\n",
    "Purchase order: B,\n",
    "Goods Reciept: C,\n",
    "Goods Return: D,\n",
    "Service Entry Sheet: E"
   ]
  },
  {
   "cell_type": "code",
   "execution_count": 15,
   "metadata": {
    "ExecuteTime": {
     "end_time": "2018-01-30T15:20:45.146207Z",
     "start_time": "2018-01-30T15:20:45.139829Z"
    },
    "collapsed": true,
    "deletable": true,
    "editable": true
   },
   "outputs": [],
   "source": [
    "for i in range(len(case)):\n",
    "    case[i] = d[case[i]]"
   ]
  },
  {
   "cell_type": "code",
   "execution_count": 16,
   "metadata": {
    "ExecuteTime": {
     "end_time": "2018-01-30T15:20:45.933331Z",
     "start_time": "2018-01-30T15:20:45.922752Z"
    },
    "collapsed": false,
    "deletable": true,
    "editable": true
   },
   "outputs": [
    {
     "name": "stdout",
     "output_type": "stream",
     "text": [
      "A B C D C C C C C C A E E E E E E E E E E E E "
     ]
    }
   ],
   "source": [
    "for event in case:\n",
    "    print(event, end=\" \")"
   ]
  },
  {
   "cell_type": "code",
   "execution_count": null,
   "metadata": {
    "collapsed": true,
    "deletable": true,
    "editable": true
   },
   "outputs": [],
   "source": []
  },
  {
   "cell_type": "code",
   "execution_count": 123,
   "metadata": {
    "ExecuteTime": {
     "end_time": "2018-01-25T10:21:53.444509Z",
     "start_time": "2018-01-25T10:21:53.437131Z"
    },
    "collapsed": false,
    "deletable": true,
    "editable": true
   },
   "outputs": [
    {
     "data": {
      "text/plain": [
       "83662"
      ]
     },
     "execution_count": 123,
     "metadata": {},
     "output_type": "execute_result"
    }
   ],
   "source": [
    "log.shape[0]"
   ]
  },
  {
   "cell_type": "code",
   "execution_count": 12,
   "metadata": {
    "ExecuteTime": {
     "end_time": "2018-01-22T08:00:51.521646Z",
     "start_time": "2018-01-22T08:00:51.508715Z"
    },
    "collapsed": false,
    "deletable": true,
    "editable": true
   },
   "outputs": [
    {
     "name": "stdout",
     "output_type": "stream",
     "text": [
      "CASE\n",
      "EVENT\n",
      "SIMPLIFIED EVENT\n",
      "EVENT TYPE\n",
      "SYS DATE\n",
      "CREATION DATE\n",
      "POSTING DATE\n",
      "DOCUMENT DATE\n",
      "Company Code\n",
      "Company Code Description\n",
      "Document Type\n",
      "Document Type Description\n",
      "Document Category\n",
      "Document Category Description\n",
      "User ID\n",
      "User Name\n",
      "User Type\n",
      "Vendor\n",
      "Vendor Name\n",
      "Material\n",
      "Material Text\n",
      "Material Description\n",
      "Purchase Organisation\n",
      "Purchase Organisation Description\n",
      "Purchase Group\n",
      "Quantity\n",
      "Amount in Reporting Currency\n",
      "Purchase Document\n",
      "Purchase Document Line Item\n",
      "Reference Document\n",
      "Reference Document Line Item\n",
      "Context\n",
      "SELECT\n",
      "START DATE\n",
      "END DATE\n",
      "CASE_EVENTATT\n",
      "User Group\n",
      "User Country\n",
      "Vendor Industry\n",
      "Company Code Country\n",
      "EVENT AND USER\n",
      "EVENT AND DOCTYPE\n",
      "INVOICES_Q\n",
      "INVOICES_A\n",
      "GOODS RECIEVED_Q\n",
      "GOODS RECIEVED_A\n",
      "POS_Q\n",
      "POS_A\n"
     ]
    }
   ],
   "source": [
    "for feature in list(log.columns):\n",
    "    print(feature)"
   ]
  },
  {
   "cell_type": "code",
   "execution_count": 14,
   "metadata": {
    "ExecuteTime": {
     "end_time": "2018-01-22T08:04:21.002020Z",
     "start_time": "2018-01-22T08:04:20.917493Z"
    },
    "collapsed": false,
    "deletable": true,
    "editable": true
   },
   "outputs": [
    {
     "name": "stdout",
     "output_type": "stream",
     "text": [
      "['Clearing (Credit memo/Clearing)' 'Clearing (Credit memo/Vendor payment)'\n",
      " 'Clearing (Invoice/Clearing)' 'Clearing (Invoice/Customer payment)'\n",
      " 'Clearing (Invoice/Vendor payment)' 'Consumption (Subcontracting)'\n",
      " 'Credit Note (Account maintenance)' 'Credit Note (Logistics invoice)'\n",
      " 'Credit Note (Logistics invoice) header updated'\n",
      " 'Credit Note (Logistics invoice) item updated - amount'\n",
      " 'Credit Note (Logistics invoice) item updated - materials'\n",
      " 'Credit Note (Logistics invoice) item updated - other'\n",
      " 'Credit Note (Logistics invoice) item updated - quantity'\n",
      " 'Credit Note (Logistics invoice, cancel)' 'Delivery (Stock Transfer)'\n",
      " 'Goods Issue for Stock Transfer'\n",
      " 'Goods Reciept (Goods Receipt for Purchase Order)'\n",
      " 'Goods Return (Goods Receipt for Purchase Order)'\n",
      " 'Invoice Reciept (Account maintenance)'\n",
      " 'Invoice Reciept (Logistics invoice)'\n",
      " 'Invoice Reciept (Logistics invoice) blocked (Price)'\n",
      " 'Invoice Reciept (Logistics invoice) blocked (Quantity)'\n",
      " 'Invoice Reciept (Logistics invoice) header updated'\n",
      " 'Invoice Reciept (Logistics invoice) item updated - amount'\n",
      " 'Invoice Reciept (Logistics invoice) item updated - materials'\n",
      " 'Invoice Reciept (Logistics invoice) item updated - other'\n",
      " 'Invoice Reciept (Logistics invoice) item updated - quantity'\n",
      " 'Invoice Reciept (Logistics invoice) item updated - vendor'\n",
      " 'Invoice Reciept (Logistics invoice) released' 'PO release - Approved'\n",
      " 'PO release - BLOCKED' 'PO release - Blocked'\n",
      " 'PO release - Permanently blocked' 'PO release - RELEASED'\n",
      " 'PO release - RELEASED (0,1% delta possible)'\n",
      " 'PO release - RELEASED (10% delta possible)'\n",
      " 'PO release - RELEASED (5% delta possible)' 'Purchase order'\n",
      " 'Purchase order header updated' 'Purchase order item inserted'\n",
      " 'Purchase order item updated' 'Purchase order item updated - amount'\n",
      " 'Purchase order item updated - quantity' 'Purchase requisition'\n",
      " 'Purchase requisition item updated'\n",
      " 'Purchase requisition item updated - quantity' 'Service Entry Sheet']\n"
     ]
    }
   ],
   "source": [
    "print(np.unique(log[\"EVENT\"]))"
   ]
  },
  {
   "cell_type": "code",
   "execution_count": 15,
   "metadata": {
    "ExecuteTime": {
     "end_time": "2018-01-22T08:04:23.731496Z",
     "start_time": "2018-01-22T08:04:23.670308Z"
    },
    "collapsed": false,
    "deletable": true,
    "editable": true
   },
   "outputs": [
    {
     "name": "stdout",
     "output_type": "stream",
     "text": [
      "['Approved' 'BLOCKED' 'Blocked' 'Clearing (Credit memo)'\n",
      " 'Clearing (Invoice)' 'Consumption (Subcontracting)' 'Credit Note'\n",
      " 'Credit Note header updated' 'Credit Note item updated'\n",
      " 'Delivery (Stock Transfer)' 'Goods Issue for Stock Transfer'\n",
      " 'Goods Reciept' 'Goods Return' 'Invoice Reciept'\n",
      " 'Invoice Reciept (Logistics invoice) blocked'\n",
      " 'Invoice Reciept (Logistics invoice) released'\n",
      " 'Invoice Reciept header updated' 'Invoice Reciept item updated'\n",
      " 'Permanently blocked' 'Purchase order' 'Purchase order header updated'\n",
      " 'Purchase order item updated' 'Purchase requisition'\n",
      " 'Purchase requisition item updated' 'RELEASED'\n",
      " 'RELEASED (0,1% delta possible)' 'RELEASED (10% delta possible)'\n",
      " 'RELEASED (5% delta possible)' 'Service Entry Sheet']\n"
     ]
    }
   ],
   "source": [
    "print(np.unique(log[\"SIMPLIFIED EVENT\"]))"
   ]
  },
  {
   "cell_type": "code",
   "execution_count": 18,
   "metadata": {
    "ExecuteTime": {
     "end_time": "2018-01-26T09:20:07.618339Z",
     "start_time": "2018-01-26T09:20:07.485698Z"
    },
    "collapsed": false,
    "deletable": true,
    "editable": true
   },
   "outputs": [
    {
     "data": {
      "text/plain": [
       "{'Clearing (Credit memo/Clearing)': ['Clearing (Credit memo)'],\n",
       " 'Clearing (Credit memo/Vendor payment)': ['Clearing (Credit memo)'],\n",
       " 'Clearing (Invoice/Clearing)': ['Clearing (Invoice)'],\n",
       " 'Clearing (Invoice/Customer payment)': ['Clearing (Invoice)'],\n",
       " 'Clearing (Invoice/Vendor payment)': ['Clearing (Invoice)'],\n",
       " 'Consumption (Subcontracting)': ['Consumption (Subcontracting)'],\n",
       " 'Credit Note (Account maintenance)': ['Credit Note'],\n",
       " 'Credit Note (Logistics invoice)': ['Credit Note'],\n",
       " 'Credit Note (Logistics invoice) header updated': ['Credit Note header updated'],\n",
       " 'Credit Note (Logistics invoice) item updated - amount': ['Credit Note item updated'],\n",
       " 'Credit Note (Logistics invoice) item updated - materials': ['Credit Note item updated'],\n",
       " 'Credit Note (Logistics invoice) item updated - other': ['Credit Note item updated'],\n",
       " 'Credit Note (Logistics invoice) item updated - quantity': ['Credit Note item updated'],\n",
       " 'Credit Note (Logistics invoice, cancel)': ['Credit Note'],\n",
       " 'Delivery (Stock Transfer)': ['Delivery (Stock Transfer)'],\n",
       " 'Goods Issue for Stock Transfer': ['Goods Issue for Stock Transfer'],\n",
       " 'Goods Reciept (Goods Receipt for Purchase Order)': ['Goods Reciept'],\n",
       " 'Goods Return (Goods Receipt for Purchase Order)': ['Goods Return'],\n",
       " 'Invoice Reciept (Account maintenance)': ['Invoice Reciept'],\n",
       " 'Invoice Reciept (Logistics invoice)': ['Invoice Reciept'],\n",
       " 'Invoice Reciept (Logistics invoice) blocked (Price)': ['Invoice Reciept (Logistics invoice) blocked'],\n",
       " 'Invoice Reciept (Logistics invoice) blocked (Quantity)': ['Invoice Reciept (Logistics invoice) blocked'],\n",
       " 'Invoice Reciept (Logistics invoice) header updated': ['Invoice Reciept header updated'],\n",
       " 'Invoice Reciept (Logistics invoice) item updated - amount': ['Invoice Reciept item updated'],\n",
       " 'Invoice Reciept (Logistics invoice) item updated - materials': ['Invoice Reciept item updated'],\n",
       " 'Invoice Reciept (Logistics invoice) item updated - other': ['Invoice Reciept item updated'],\n",
       " 'Invoice Reciept (Logistics invoice) item updated - quantity': ['Invoice Reciept item updated'],\n",
       " 'Invoice Reciept (Logistics invoice) item updated - vendor': ['Invoice Reciept item updated'],\n",
       " 'Invoice Reciept (Logistics invoice) released': ['Invoice Reciept (Logistics invoice) released'],\n",
       " 'PO release - Approved': ['Approved'],\n",
       " 'PO release - BLOCKED': ['BLOCKED'],\n",
       " 'PO release - Blocked': ['Blocked'],\n",
       " 'PO release - Permanently blocked': ['Permanently blocked'],\n",
       " 'PO release - RELEASED': ['RELEASED'],\n",
       " 'PO release - RELEASED (0,1% delta possible)': ['RELEASED (0,1% delta possible)'],\n",
       " 'PO release - RELEASED (10% delta possible)': ['RELEASED (10% delta possible)'],\n",
       " 'PO release - RELEASED (5% delta possible)': ['RELEASED (5% delta possible)'],\n",
       " 'Purchase order': ['Purchase order'],\n",
       " 'Purchase order header updated': ['Purchase order header updated'],\n",
       " 'Purchase order item inserted': ['Purchase order item updated'],\n",
       " 'Purchase order item updated': ['Purchase order item updated'],\n",
       " 'Purchase order item updated - amount': ['Purchase order item updated'],\n",
       " 'Purchase order item updated - quantity': ['Purchase order item updated'],\n",
       " 'Purchase requisition': ['Purchase requisition'],\n",
       " 'Purchase requisition item updated': ['Purchase requisition item updated'],\n",
       " 'Purchase requisition item updated - quantity': ['Purchase requisition item updated'],\n",
       " 'Service Entry Sheet': ['Service Entry Sheet']}"
      ]
     },
     "execution_count": 18,
     "metadata": {},
     "output_type": "execute_result"
    }
   ],
   "source": [
    "#Builds dicts of dependencies of one to two\n",
    "def one2two(data, one, two):\n",
    "    d = dict() # simplified event to event\n",
    "    for case in np.array(data[[one, two]]):\n",
    "        one = case[0]\n",
    "        two = case[1]\n",
    "        if one in d.keys():\n",
    "            if two not in d[one]:\n",
    "                d[one].append(two)\n",
    "        else:\n",
    "            d[one] = [two]\n",
    "    return d\n",
    "\n",
    "\n",
    "one2two(log, \"EVENT\", \"SIMPLIFIED EVENT\")"
   ]
  },
  {
   "cell_type": "code",
   "execution_count": 36,
   "metadata": {
    "ExecuteTime": {
     "end_time": "2018-01-22T08:18:24.157217Z",
     "start_time": "2018-01-22T08:18:24.142931Z"
    },
    "collapsed": false,
    "deletable": true,
    "editable": true
   },
   "outputs": [
    {
     "data": {
      "text/plain": [
       "array(['Billing (in scope)', 'Billing (not in scope)',\n",
       "       'Purchasing document', 'Delivery (in scope)',\n",
       "       'Delivery (not in scope)', 'Document flow', 'Payment (in scope)',\n",
       "       'Payment (not in scope)',\n",
       "       'Document management - PO approval - indicator',\n",
       "       'Document management - PO approval - status',\n",
       "       'Document management - Invoice (in scope)',\n",
       "       'Document management - Invoice (not in scope)',\n",
       "       'Document management - PR', 'Document management - PO'], dtype=object)"
      ]
     },
     "execution_count": 36,
     "metadata": {},
     "output_type": "execute_result"
    }
   ],
   "source": [
    "log[\"EVENT TYPE\"].unique()"
   ]
  },
  {
   "cell_type": "code",
   "execution_count": 37,
   "metadata": {
    "ExecuteTime": {
     "end_time": "2018-01-22T08:21:02.605349Z",
     "start_time": "2018-01-22T08:21:02.595771Z"
    },
    "collapsed": false,
    "deletable": true,
    "editable": true
   },
   "outputs": [
    {
     "data": {
      "text/plain": [
       "array(['Unknown', 'Purchase requisiton company code not set'], dtype=object)"
      ]
     },
     "execution_count": 37,
     "metadata": {},
     "output_type": "execute_result"
    }
   ],
   "source": [
    "log[\"Company Code Description\"].unique()"
   ]
  },
  {
   "cell_type": "code",
   "execution_count": 38,
   "metadata": {
    "ExecuteTime": {
     "end_time": "2018-01-22T08:21:15.717893Z",
     "start_time": "2018-01-22T08:21:15.707978Z"
    },
    "collapsed": false,
    "deletable": true,
    "editable": true
   },
   "outputs": [
    {
     "data": {
      "text/plain": [
       "array([ nan])"
      ]
     },
     "execution_count": 38,
     "metadata": {},
     "output_type": "execute_result"
    }
   ],
   "source": [
    "log[\"Company Code Country\"].unique()"
   ]
  },
  {
   "cell_type": "code",
   "execution_count": 40,
   "metadata": {
    "ExecuteTime": {
     "end_time": "2018-01-22T08:21:39.004208Z",
     "start_time": "2018-01-22T08:21:38.995223Z"
    },
    "collapsed": false,
    "deletable": true,
    "editable": true
   },
   "outputs": [
    {
     "data": {
      "text/plain": [
       "array(['3000', 'Purchase requisiton company code not set'], dtype=object)"
      ]
     },
     "execution_count": 40,
     "metadata": {},
     "output_type": "execute_result"
    }
   ],
   "source": [
    "log[\"Company Code\"].unique()"
   ]
  },
  {
   "cell_type": "code",
   "execution_count": 41,
   "metadata": {
    "ExecuteTime": {
     "end_time": "2018-01-22T08:24:01.627422Z",
     "start_time": "2018-01-22T08:24:01.615407Z"
    },
    "collapsed": false,
    "deletable": true,
    "editable": true
   },
   "outputs": [
    {
     "data": {
      "text/plain": [
       "array(['RE', 'KP', 'BE', nan, 'ZNB', 'ZUB', 'NB', 'ZSC', 'ZUBI', 'ZUDI',\n",
       "       'ZUBD', 'WE', 'BA', 'KZ', 'SB', 'DZ', 'Not set'], dtype=object)"
      ]
     },
     "execution_count": 41,
     "metadata": {},
     "output_type": "execute_result"
    }
   ],
   "source": [
    "log[\"Document Type\"].unique()"
   ]
  },
  {
   "cell_type": "code",
   "execution_count": 42,
   "metadata": {
    "ExecuteTime": {
     "end_time": "2018-01-22T08:24:19.318753Z",
     "start_time": "2018-01-22T08:24:19.306373Z"
    },
    "collapsed": false,
    "deletable": true,
    "editable": true
   },
   "outputs": [
    {
     "data": {
      "text/plain": [
       "array(['Vendor invoice', 'Account maintenance', 'IntraBU AP doc cost',\n",
       "       'Vendor credit note', nan, 'Goods receipt', 'IntraBU AP doc -cost',\n",
       "       'Vendor payment', 'Clearing', 'Customer payment', 'Not set'], dtype=object)"
      ]
     },
     "execution_count": 42,
     "metadata": {},
     "output_type": "execute_result"
    }
   ],
   "source": [
    "log[\"Document Type Description\"].unique()"
   ]
  },
  {
   "cell_type": "code",
   "execution_count": 141,
   "metadata": {
    "ExecuteTime": {
     "end_time": "2018-01-25T10:48:02.191366Z",
     "start_time": "2018-01-25T10:48:02.175224Z"
    },
    "collapsed": false,
    "deletable": true,
    "editable": true
   },
   "outputs": [
    {
     "name": "stdout",
     "output_type": "stream",
     "text": [
      "Vendor invoice\n",
      "Account maintenance\n",
      "IntraBU AP doc cost\n",
      "Vendor credit note\n",
      "nan\n",
      "Goods receipt\n",
      "IntraBU AP doc -cost\n",
      "Vendor payment\n",
      "Clearing\n",
      "Customer payment\n",
      "Not set\n"
     ]
    }
   ],
   "source": [
    "for desc in log[\"Document Type Description\"].unique():\n",
    "    print(desc)"
   ]
  },
  {
   "cell_type": "code",
   "execution_count": 54,
   "metadata": {
    "ExecuteTime": {
     "end_time": "2018-01-22T08:35:55.305619Z",
     "start_time": "2018-01-22T08:35:55.229953Z"
    },
    "collapsed": false,
    "deletable": true,
    "editable": true
   },
   "outputs": [
    {
     "data": {
      "text/plain": [
       "{nan: ['Vendor credit note'],\n",
       " 'ZSC': [nan],\n",
       " 'ZUDI': [nan],\n",
       " 'KP': ['Account maintenance'],\n",
       " 'SB': ['Clearing'],\n",
       " 'KZ': ['Vendor payment'],\n",
       " 'ZNB': [nan],\n",
       " 'DZ': ['Customer payment'],\n",
       " 'ZUBD': [nan],\n",
       " 'Not set': ['Not set'],\n",
       " 'NB': [nan],\n",
       " 'BE': ['IntraBU AP doc cost'],\n",
       " 'BA': ['IntraBU AP doc -cost'],\n",
       " 'RE': ['Vendor invoice'],\n",
       " 'WE': ['Goods receipt'],\n",
       " 'ZUB': [nan],\n",
       " 'ZUBI': [nan]}"
      ]
     },
     "execution_count": 54,
     "metadata": {},
     "output_type": "execute_result"
    }
   ],
   "source": [
    "one2two(log, \"Document Type\", \"Document Type Description\")"
   ]
  },
  {
   "cell_type": "code",
   "execution_count": 147,
   "metadata": {
    "ExecuteTime": {
     "end_time": "2018-01-25T11:34:04.614357Z",
     "start_time": "2018-01-25T11:34:04.533020Z"
    },
    "collapsed": false,
    "deletable": true,
    "editable": true
   },
   "outputs": [
    {
     "data": {
      "text/plain": [
       "{'6': ['ZUBI', 'ZUDI'],\n",
       " '7': ['ZSC'],\n",
       " '8': ['ZUBI', 'ZUDI'],\n",
       " '9': ['ZNB'],\n",
       " 'B': ['ZNB', 'ZUB', 'NB', 'ZSC'],\n",
       " 'BKPF': ['KZ', 'SB', 'DZ'],\n",
       " 'F': ['ZNB', 'ZUBI', 'ZUDI', 'ZSC', 'ZUBD'],\n",
       " 'KP': ['KP'],\n",
       " 'Not set': ['Not set', 'ZNB', 'ZSC', 'ZUBD', 'ZUBI', 'ZUDI'],\n",
       " 'RD': ['RE', 'BE', nan, 'BA'],\n",
       " 'RS': [nan],\n",
       " 'WE': ['WE']}"
      ]
     },
     "execution_count": 147,
     "metadata": {},
     "output_type": "execute_result"
    }
   ],
   "source": [
    "one2two(log, \"Document Category\", \"Document Type\")"
   ]
  },
  {
   "cell_type": "code",
   "execution_count": 144,
   "metadata": {
    "ExecuteTime": {
     "end_time": "2018-01-25T10:59:10.361337Z",
     "start_time": "2018-01-25T10:59:10.336091Z"
    },
    "collapsed": false,
    "deletable": true,
    "editable": true
   },
   "outputs": [
    {
     "name": "stdout",
     "output_type": "stream",
     "text": [
      "Logistics invoice\n",
      "Account maintenance\n",
      "Logistics invoice, cancel\n",
      "Purchase requisition\n",
      "Purchase order\n",
      "Goods Receipt for Purchase Order\n",
      "Goods Issue for Stock Transfer\n",
      "Delivery (Stock Transfer)\n",
      "Consumption (Subcontracting)\n",
      "Service Entry Sheet\n",
      "Accounting document\n"
     ]
    }
   ],
   "source": [
    "for desc in log[\"Document Category Description\"].unique():\n",
    "    print(desc)"
   ]
  },
  {
   "cell_type": "code",
   "execution_count": 55,
   "metadata": {
    "ExecuteTime": {
     "end_time": "2018-01-22T08:36:35.614398Z",
     "start_time": "2018-01-22T08:36:35.527898Z"
    },
    "collapsed": false,
    "deletable": true,
    "editable": true
   },
   "outputs": [
    {
     "data": {
      "text/plain": [
       "{'6': ['Goods Issue for Stock Transfer'],\n",
       " '7': ['Consumption (Subcontracting)'],\n",
       " '8': ['Delivery (Stock Transfer)'],\n",
       " '9': ['Service Entry Sheet'],\n",
       " 'B': ['Purchase requisition'],\n",
       " 'BKPF': ['Accounting document'],\n",
       " 'F': ['Purchase order'],\n",
       " 'KP': ['Account maintenance'],\n",
       " 'Not set': ['Purchase order', 'Purchase requisition'],\n",
       " 'RD': ['Logistics invoice'],\n",
       " 'RS': ['Logistics invoice, cancel'],\n",
       " 'WE': ['Goods Receipt for Purchase Order']}"
      ]
     },
     "execution_count": 55,
     "metadata": {},
     "output_type": "execute_result"
    }
   ],
   "source": [
    "one2two(log, \"Document Category\", \"Document Category Description\")"
   ]
  },
  {
   "cell_type": "code",
   "execution_count": 57,
   "metadata": {
    "ExecuteTime": {
     "end_time": "2018-01-22T09:26:56.942245Z",
     "start_time": "2018-01-22T09:26:56.932997Z"
    },
    "collapsed": false,
    "deletable": true,
    "editable": true
   },
   "outputs": [
    {
     "data": {
      "text/plain": [
       "86"
      ]
     },
     "execution_count": 57,
     "metadata": {},
     "output_type": "execute_result"
    }
   ],
   "source": [
    "log[\"User ID\"].unique().size"
   ]
  },
  {
   "cell_type": "code",
   "execution_count": 80,
   "metadata": {
    "ExecuteTime": {
     "end_time": "2018-01-22T09:55:20.205736Z",
     "start_time": "2018-01-22T09:55:20.197318Z"
    },
    "collapsed": false,
    "deletable": true,
    "editable": true
   },
   "outputs": [
    {
     "data": {
      "text/plain": [
       "array([ nan])"
      ]
     },
     "execution_count": 80,
     "metadata": {},
     "output_type": "execute_result"
    }
   ],
   "source": [
    "log[\"User Country\"].unique()"
   ]
  },
  {
   "cell_type": "code",
   "execution_count": 60,
   "metadata": {
    "ExecuteTime": {
     "end_time": "2018-01-22T09:27:25.710066Z",
     "start_time": "2018-01-22T09:27:25.701966Z"
    },
    "collapsed": false,
    "deletable": true,
    "editable": true
   },
   "outputs": [
    {
     "data": {
      "text/plain": [
       "array([ nan])"
      ]
     },
     "execution_count": 60,
     "metadata": {},
     "output_type": "execute_result"
    }
   ],
   "source": [
    "log[\"User Type\"].unique()"
   ]
  },
  {
   "cell_type": "code",
   "execution_count": 62,
   "metadata": {
    "ExecuteTime": {
     "end_time": "2018-01-22T09:31:10.332962Z",
     "start_time": "2018-01-22T09:31:10.325834Z"
    },
    "collapsed": false,
    "deletable": true,
    "editable": true
   },
   "outputs": [
    {
     "data": {
      "text/plain": [
       "array([ nan])"
      ]
     },
     "execution_count": 62,
     "metadata": {},
     "output_type": "execute_result"
    }
   ],
   "source": [
    "log[\"User Name\"].unique()"
   ]
  },
  {
   "cell_type": "code",
   "execution_count": 65,
   "metadata": {
    "ExecuteTime": {
     "end_time": "2018-01-25T09:45:55.754676Z",
     "start_time": "2018-01-25T09:45:55.746483Z"
    },
    "collapsed": false,
    "deletable": true,
    "editable": true
   },
   "outputs": [
    {
     "data": {
      "text/plain": [
       "True"
      ]
     },
     "execution_count": 65,
     "metadata": {},
     "output_type": "execute_result"
    }
   ],
   "source": [
    "pd.isnull(log[\"User Name\"].unique()).any()"
   ]
  },
  {
   "cell_type": "code",
   "execution_count": 64,
   "metadata": {
    "ExecuteTime": {
     "end_time": "2018-01-22T09:32:19.162178Z",
     "start_time": "2018-01-22T09:32:19.154144Z"
    },
    "collapsed": false,
    "deletable": true,
    "editable": true
   },
   "outputs": [
    {
     "data": {
      "text/plain": [
       "215"
      ]
     },
     "execution_count": 64,
     "metadata": {},
     "output_type": "execute_result"
    }
   ],
   "source": [
    "log[\"Vendor\"].unique().size"
   ]
  },
  {
   "cell_type": "code",
   "execution_count": 65,
   "metadata": {
    "ExecuteTime": {
     "end_time": "2018-01-22T09:34:48.226199Z",
     "start_time": "2018-01-22T09:34:48.215291Z"
    },
    "collapsed": false,
    "deletable": true,
    "editable": true
   },
   "outputs": [
    {
     "data": {
      "text/plain": [
       "array(['Unknown', 'Not set'], dtype=object)"
      ]
     },
     "execution_count": 65,
     "metadata": {},
     "output_type": "execute_result"
    }
   ],
   "source": [
    "log[\"Vendor Name\"].unique()"
   ]
  },
  {
   "cell_type": "code",
   "execution_count": 66,
   "metadata": {
    "ExecuteTime": {
     "end_time": "2018-01-22T09:34:57.639535Z",
     "start_time": "2018-01-22T09:34:57.631871Z"
    },
    "collapsed": false,
    "deletable": true,
    "editable": true
   },
   "outputs": [
    {
     "data": {
      "text/plain": [
       "array([ nan])"
      ]
     },
     "execution_count": 66,
     "metadata": {},
     "output_type": "execute_result"
    }
   ],
   "source": [
    "log[\"Vendor Industry\"].unique()"
   ]
  },
  {
   "cell_type": "code",
   "execution_count": 119,
   "metadata": {
    "ExecuteTime": {
     "end_time": "2018-01-25T10:20:35.635575Z",
     "start_time": "2018-01-25T10:20:35.621834Z"
    },
    "collapsed": false,
    "deletable": true,
    "editable": true
   },
   "outputs": [
    {
     "data": {
      "text/plain": [
       "0                   Not set\n",
       "1                   Not set\n",
       "2                   Not set\n",
       "3                   Not set\n",
       "4                   Not set\n",
       "5                   Not set\n",
       "6                   Not set\n",
       "7                   Not set\n",
       "8                   Not set\n",
       "9                   Not set\n",
       "10                  Not set\n",
       "11       000000000100002700\n",
       "12       000000000100002696\n",
       "13       000000000100002696\n",
       "14                  Not set\n",
       "15                  Not set\n",
       "16                  Not set\n",
       "17                  Not set\n",
       "18                  Not set\n",
       "19                  Not set\n",
       "20                  Not set\n",
       "21                  Not set\n",
       "22                  Not set\n",
       "23                  Not set\n",
       "24                  Not set\n",
       "25                  Not set\n",
       "26                  Not set\n",
       "27                  Not set\n",
       "28                  Not set\n",
       "29                  Not set\n",
       "                ...        \n",
       "83632    000000000100002700\n",
       "83633    000000000100002700\n",
       "83634    000000000100002700\n",
       "83635    000000000100002700\n",
       "83636    000000000100002700\n",
       "83637    000000000100002700\n",
       "83638    000000000100002700\n",
       "83639    000000000100002700\n",
       "83640    000000000100002700\n",
       "83641    000000000100002700\n",
       "83642    000000000100002700\n",
       "83643    000000000100002700\n",
       "83644    000000000100002700\n",
       "83645    000000000100002700\n",
       "83646    000000000100002700\n",
       "83647    000000000100002700\n",
       "83648    000000000100002700\n",
       "83649    000000000100002700\n",
       "83650    000000000100002700\n",
       "83651    000000000100002700\n",
       "83652    000000000100002700\n",
       "83653    000000000100002700\n",
       "83654    000000000100002700\n",
       "83655    000000000100002700\n",
       "83656    000000000100002700\n",
       "83657    000000000100002700\n",
       "83658    000000000100002700\n",
       "83659    000000000100002700\n",
       "83660    000000000100002700\n",
       "83661    000000000100002700\n",
       "Name: Material, Length: 83662, dtype: object"
      ]
     },
     "execution_count": 119,
     "metadata": {},
     "output_type": "execute_result"
    }
   ],
   "source": [
    "log[\"Material\"]"
   ]
  },
  {
   "cell_type": "code",
   "execution_count": 95,
   "metadata": {
    "ExecuteTime": {
     "end_time": "2018-01-25T10:02:40.149681Z",
     "start_time": "2018-01-25T10:02:40.139123Z"
    },
    "collapsed": false,
    "deletable": true,
    "editable": true
   },
   "outputs": [
    {
     "data": {
      "text/plain": [
       "1304"
      ]
     },
     "execution_count": 95,
     "metadata": {},
     "output_type": "execute_result"
    }
   ],
   "source": [
    "log[\"Material Text\"].unique().shape[0]"
   ]
  },
  {
   "cell_type": "code",
   "execution_count": 71,
   "metadata": {
    "ExecuteTime": {
     "end_time": "2018-01-22T09:39:36.603887Z",
     "start_time": "2018-01-22T09:39:36.594179Z"
    },
    "collapsed": false,
    "deletable": true,
    "editable": true
   },
   "outputs": [
    {
     "data": {
      "text/plain": [
       "1063"
      ]
     },
     "execution_count": 71,
     "metadata": {},
     "output_type": "execute_result"
    }
   ],
   "source": [
    "log[\"Material Description\"].unique()"
   ]
  },
  {
   "cell_type": "code",
   "execution_count": 72,
   "metadata": {
    "ExecuteTime": {
     "end_time": "2018-01-22T09:41:06.103779Z",
     "start_time": "2018-01-22T09:41:06.091066Z"
    },
    "collapsed": false,
    "deletable": true,
    "editable": true
   },
   "outputs": [
    {
     "data": {
      "text/plain": [
       "array(['Purchase organisation from 3000', '1000', '0100', '3000', 'Not set'], dtype=object)"
      ]
     },
     "execution_count": 72,
     "metadata": {},
     "output_type": "execute_result"
    }
   ],
   "source": [
    "log[\"Purchase Organisation\"].unique()"
   ]
  },
  {
   "cell_type": "code",
   "execution_count": 75,
   "metadata": {
    "ExecuteTime": {
     "end_time": "2018-01-22T09:50:17.800808Z",
     "start_time": "2018-01-22T09:50:17.790485Z"
    },
    "collapsed": false,
    "deletable": true,
    "editable": true
   },
   "outputs": [
    {
     "data": {
      "text/plain": [
       "array(['Purchase organisation from 3000', 'Unknown', 'Not set'], dtype=object)"
      ]
     },
     "execution_count": 75,
     "metadata": {},
     "output_type": "execute_result"
    }
   ],
   "source": [
    "log[\"Purchase Organisation Description\"].unique()"
   ]
  },
  {
   "cell_type": "code",
   "execution_count": 78,
   "metadata": {
    "ExecuteTime": {
     "end_time": "2018-01-22T09:52:23.635790Z",
     "start_time": "2018-01-22T09:52:23.614437Z"
    },
    "collapsed": false,
    "deletable": true,
    "editable": true
   },
   "outputs": [
    {
     "data": {
      "text/plain": [
       "array([nan, 'Material type: Raw Materials (Intern nr)',\n",
       "       'Material type: Finished Product', ...,\n",
       "       'ME23N:EKKO - ZTERM; Z008 ->', 'ME23N:EKKO - ZBD1P; 2.000 -> 0.000',\n",
       "       'ME23N:EKKO - ZBD1T; 0 -> 8'], dtype=object)"
      ]
     },
     "execution_count": 78,
     "metadata": {},
     "output_type": "execute_result"
    }
   ],
   "source": [
    "log[\"Context\"].unique()"
   ]
  },
  {
   "cell_type": "code",
   "execution_count": 92,
   "metadata": {
    "ExecuteTime": {
     "end_time": "2018-01-23T16:05:03.758138Z",
     "start_time": "2018-01-23T16:05:03.690676Z"
    },
    "collapsed": false,
    "deletable": true,
    "editable": true
   },
   "outputs": [],
   "source": [
    "select = log[\"SELECT\"].unique()"
   ]
  },
  {
   "cell_type": "code",
   "execution_count": 93,
   "metadata": {
    "ExecuteTime": {
     "end_time": "2018-01-23T16:05:21.772714Z",
     "start_time": "2018-01-23T16:05:21.748412Z"
    },
    "collapsed": false,
    "deletable": true,
    "editable": true
   },
   "outputs": [
    {
     "name": "stdout",
     "output_type": "stream",
     "text": [
      "4a - Billing (in scope)\n",
      "4b - Billing (not in scope)\n",
      "1 - Purchase requisition\n",
      "2 - Purchase Order\n",
      "3a - Delivery (in scope)\n",
      "3b - Delivery (not in scope)\n",
      "5 - Document flow\n",
      "6a ZP - Clearings (in scope)\n",
      "6b ZP - Clearings  (not in scope)\n",
      "8a - PO approval\n",
      "8b - PO approval\n",
      "9a - Invoice item changes (in scope)\n",
      "9b - Invoice item changes (not in scope)\n",
      "17b - Invoice header changes (not in scope)\n",
      "17a - Invoice header changes (in scope)\n",
      "10b - Invoice blocking (not in scope)\n",
      "10a - Invoice blocking (in scope)\n",
      "11 - PR changes\n",
      "12 - PO changes\n",
      "13 - Po changes (header)\n"
     ]
    }
   ],
   "source": [
    "for item in select:\n",
    "    print(item)"
   ]
  },
  {
   "cell_type": "code",
   "execution_count": null,
   "metadata": {
    "collapsed": true,
    "deletable": true,
    "editable": true
   },
   "outputs": [],
   "source": []
  },
  {
   "cell_type": "code",
   "execution_count": 81,
   "metadata": {
    "ExecuteTime": {
     "end_time": "2018-01-22T10:01:00.873185Z",
     "start_time": "2018-01-22T10:01:00.861568Z"
    },
    "collapsed": false,
    "deletable": true,
    "editable": true
   },
   "outputs": [
    {
     "data": {
      "text/plain": [
       "Index(['CASE', 'EVENT', 'SIMPLIFIED EVENT', 'EVENT TYPE', 'SYS DATE',\n",
       "       'CREATION DATE', 'POSTING DATE', 'DOCUMENT DATE', 'Company Code',\n",
       "       'Company Code Description', 'Document Type',\n",
       "       'Document Type Description', 'Document Category',\n",
       "       'Document Category Description', 'User ID', 'User Name', 'User Type',\n",
       "       'Vendor', 'Vendor Name', 'Material', 'Material Text',\n",
       "       'Material Description', 'Purchase Organisation',\n",
       "       'Purchase Organisation Description', 'Purchase Group', 'Quantity',\n",
       "       'Amount in Reporting Currency', 'Purchase Document',\n",
       "       'Purchase Document Line Item', 'Reference Document',\n",
       "       'Reference Document Line Item', 'Context', 'SELECT', 'START DATE',\n",
       "       'END DATE', 'CASE_EVENTATT', 'User Group', 'User Country',\n",
       "       'Vendor Industry', 'Company Code Country', 'EVENT AND USER',\n",
       "       'EVENT AND DOCTYPE', 'INVOICES_Q', 'INVOICES_A', 'GOODS RECIEVED_Q',\n",
       "       'GOODS RECIEVED_A', 'POS_Q', 'POS_A'],\n",
       "      dtype='object')"
      ]
     },
     "execution_count": 81,
     "metadata": {},
     "output_type": "execute_result"
    }
   ],
   "source": [
    "log.columns"
   ]
  },
  {
   "cell_type": "code",
   "execution_count": 82,
   "metadata": {
    "ExecuteTime": {
     "end_time": "2018-01-22T10:01:31.758428Z",
     "start_time": "2018-01-22T10:01:31.749360Z"
    },
    "collapsed": false,
    "deletable": true,
    "editable": true
   },
   "outputs": [
    {
     "data": {
      "text/plain": [
       "'EVENT AND USER, EVENT AND DOCTYPE, INVOICES_Q, INVOICES_A, GOODS RECIEVED_Q, GOODS RECIEVED_A, POS_Q, POS_A'"
      ]
     },
     "execution_count": 82,
     "metadata": {},
     "output_type": "execute_result"
    }
   ],
   "source": [
    "a = ['EVENT AND USER',\n",
    "       'EVENT AND DOCTYPE', 'INVOICES_Q', 'INVOICES_A', 'GOODS RECIEVED_Q',\n",
    "       'GOODS RECIEVED_A', 'POS_Q', 'POS_A']\n",
    "\", \".join(a)"
   ]
  },
  {
   "cell_type": "code",
   "execution_count": 91,
   "metadata": {
    "ExecuteTime": {
     "end_time": "2018-01-22T10:07:14.436220Z",
     "start_time": "2018-01-22T10:07:14.428822Z"
    },
    "collapsed": false,
    "deletable": true,
    "editable": true
   },
   "outputs": [
    {
     "data": {
      "text/plain": [
       "array([      nan,   2710.68,  19900.  , ...,     99.59,     26.75,\n",
       "          406.31])"
      ]
     },
     "execution_count": 91,
     "metadata": {},
     "output_type": "execute_result"
    }
   ],
   "source": [
    "log[\"POS_A\"].unique()"
   ]
  },
  {
   "cell_type": "code",
   "execution_count": 134,
   "metadata": {
    "ExecuteTime": {
     "end_time": "2018-01-25T10:29:30.312442Z",
     "start_time": "2018-01-25T10:29:30.307389Z"
    },
    "collapsed": true,
    "deletable": true,
    "editable": true
   },
   "outputs": [],
   "source": [
    "datadesc = open(\"DataDescription/DataDescription.txt\", \"r\", encoding=\"utf-8\")"
   ]
  },
  {
   "cell_type": "code",
   "execution_count": 135,
   "metadata": {
    "ExecuteTime": {
     "end_time": "2018-01-25T10:29:30.758976Z",
     "start_time": "2018-01-25T10:29:30.744694Z"
    },
    "collapsed": false,
    "deletable": true,
    "editable": true
   },
   "outputs": [],
   "source": [
    "features = []\n",
    "descriptions = []\n",
    "while True:\n",
    "    line = datadesc.readline()\n",
    "    if not line:\n",
    "        break\n",
    "    if \"–\" in line:\n",
    "        feature, description = line.split(\"–\")\n",
    "        feature = feature.strip()\n",
    "        description = description.strip()\n",
    "        features.append(feature)\n",
    "        descriptions.append(description)"
   ]
  },
  {
   "cell_type": "code",
   "execution_count": 136,
   "metadata": {
    "ExecuteTime": {
     "end_time": "2018-01-25T10:29:32.182649Z",
     "start_time": "2018-01-25T10:29:32.169725Z"
    },
    "collapsed": false,
    "deletable": true,
    "editable": true
   },
   "outputs": [],
   "source": [
    "d = {\n",
    "    \"Атрибуты\": features,\n",
    "    \"Описание\": descriptions\n",
    "}\n",
    "df = pd.DataFrame(d)\n",
    "df.set_index(\"Атрибуты\", inplace=True)"
   ]
  },
  {
   "cell_type": "code",
   "execution_count": 137,
   "metadata": {
    "ExecuteTime": {
     "end_time": "2018-01-25T10:29:32.756554Z",
     "start_time": "2018-01-25T10:29:32.603286Z"
    },
    "collapsed": false,
    "deletable": true,
    "editable": true
   },
   "outputs": [
    {
     "name": "stderr",
     "output_type": "stream",
     "text": [
      "/Library/Frameworks/Python.framework/Versions/3.5/lib/python3.5/site-packages/ipykernel_launcher.py:6: FutureWarning: elementwise comparison failed; returning scalar instead, but in the future will perform elementwise comparison\n",
      "  \n",
      "/Library/Frameworks/Python.framework/Versions/3.5/lib/python3.5/site-packages/ipykernel_launcher.py:11: FutureWarning: elementwise comparison failed; returning scalar instead, but in the future will perform elementwise comparison\n",
      "  # This is added back by InteractiveShellApp.init_path()\n"
     ]
    }
   ],
   "source": [
    "notset = []\n",
    "unknown = []\n",
    "nan = []\n",
    "for feature in df.index:\n",
    "        values = np.array(log[feature].unique())\n",
    "        if \"Not set\" in values:\n",
    "            notset.append(1)\n",
    "        else:\n",
    "            notset.append(0)\n",
    "            \n",
    "        if \"Unknown\" in values:\n",
    "            unknown.append(1)\n",
    "        else:\n",
    "            unknown.append(0)\n",
    "            \n",
    "        if pd.isnull(values).any():\n",
    "            nan.append(1)\n",
    "        else:\n",
    "            nan.append(0)"
   ]
  },
  {
   "cell_type": "code",
   "execution_count": 138,
   "metadata": {
    "ExecuteTime": {
     "end_time": "2018-01-25T10:29:34.203283Z",
     "start_time": "2018-01-25T10:29:34.195178Z"
    },
    "collapsed": true,
    "deletable": true,
    "editable": true
   },
   "outputs": [],
   "source": [
    "df[\"Not set\"] = notset\n",
    "df[\"Unknown\"] = unknown\n",
    "df[\"nan\"] = nan"
   ]
  },
  {
   "cell_type": "code",
   "execution_count": 139,
   "metadata": {
    "ExecuteTime": {
     "end_time": "2018-01-25T10:29:34.930324Z",
     "start_time": "2018-01-25T10:29:34.905254Z"
    },
    "collapsed": false,
    "deletable": true,
    "editable": true
   },
   "outputs": [
    {
     "data": {
      "text/html": [
       "<div>\n",
       "<style>\n",
       "    .dataframe thead tr:only-child th {\n",
       "        text-align: right;\n",
       "    }\n",
       "\n",
       "    .dataframe thead th {\n",
       "        text-align: left;\n",
       "    }\n",
       "\n",
       "    .dataframe tbody tr th {\n",
       "        vertical-align: top;\n",
       "    }\n",
       "</style>\n",
       "<table border=\"1\" class=\"dataframe\">\n",
       "  <thead>\n",
       "    <tr style=\"text-align: right;\">\n",
       "      <th></th>\n",
       "      <th>Описание</th>\n",
       "      <th>Not set</th>\n",
       "      <th>Unknown</th>\n",
       "      <th>nan</th>\n",
       "    </tr>\n",
       "    <tr>\n",
       "      <th>Атрибуты</th>\n",
       "      <th></th>\n",
       "      <th></th>\n",
       "      <th></th>\n",
       "      <th></th>\n",
       "    </tr>\n",
       "  </thead>\n",
       "  <tbody>\n",
       "    <tr>\n",
       "      <th>CASE</th>\n",
       "      <td>Идентификатор кейса в формате НОМЕР ДОКУМЕНТА ...</td>\n",
       "      <td>0</td>\n",
       "      <td>0</td>\n",
       "      <td>0</td>\n",
       "    </tr>\n",
       "    <tr>\n",
       "      <th>EVENT</th>\n",
       "      <td>Наименование события</td>\n",
       "      <td>0</td>\n",
       "      <td>0</td>\n",
       "      <td>0</td>\n",
       "    </tr>\n",
       "    <tr>\n",
       "      <th>EVENT TYPE</th>\n",
       "      <td>Тип события (Выставление счета, оплата,  доста...</td>\n",
       "      <td>0</td>\n",
       "      <td>0</td>\n",
       "      <td>0</td>\n",
       "    </tr>\n",
       "    <tr>\n",
       "      <th>SIMPLIFIED EVENT</th>\n",
       "      <td>Агрегация некоторых схожих типов событий в оди...</td>\n",
       "      <td>0</td>\n",
       "      <td>0</td>\n",
       "      <td>0</td>\n",
       "    </tr>\n",
       "    <tr>\n",
       "      <th>SYS DATE</th>\n",
       "      <td>дата внесения в систему (timestamp)</td>\n",
       "      <td>0</td>\n",
       "      <td>0</td>\n",
       "      <td>1</td>\n",
       "    </tr>\n",
       "    <tr>\n",
       "      <th>CREATION DATE</th>\n",
       "      <td>дата, которую видит клиент</td>\n",
       "      <td>0</td>\n",
       "      <td>0</td>\n",
       "      <td>1</td>\n",
       "    </tr>\n",
       "    <tr>\n",
       "      <th>POSTING DATE</th>\n",
       "      <td>дата, публикации события</td>\n",
       "      <td>0</td>\n",
       "      <td>0</td>\n",
       "      <td>1</td>\n",
       "    </tr>\n",
       "    <tr>\n",
       "      <th>DOCUMENT DATE</th>\n",
       "      <td>дата в бумажном документе</td>\n",
       "      <td>0</td>\n",
       "      <td>0</td>\n",
       "      <td>1</td>\n",
       "    </tr>\n",
       "    <tr>\n",
       "      <th>Company Code</th>\n",
       "      <td>Код компании, либо 3000 либо не предоставляет</td>\n",
       "      <td>0</td>\n",
       "      <td>0</td>\n",
       "      <td>0</td>\n",
       "    </tr>\n",
       "    <tr>\n",
       "      <th>Company Code Country</th>\n",
       "      <td>везде nan</td>\n",
       "      <td>0</td>\n",
       "      <td>0</td>\n",
       "      <td>1</td>\n",
       "    </tr>\n",
       "    <tr>\n",
       "      <th>Company Code Description</th>\n",
       "      <td>либо unknown, либо не предоставляет</td>\n",
       "      <td>0</td>\n",
       "      <td>1</td>\n",
       "      <td>0</td>\n",
       "    </tr>\n",
       "    <tr>\n",
       "      <th>User Type</th>\n",
       "      <td>везде nan</td>\n",
       "      <td>0</td>\n",
       "      <td>0</td>\n",
       "      <td>1</td>\n",
       "    </tr>\n",
       "    <tr>\n",
       "      <th>User Country</th>\n",
       "      <td>везде nan</td>\n",
       "      <td>0</td>\n",
       "      <td>0</td>\n",
       "      <td>1</td>\n",
       "    </tr>\n",
       "    <tr>\n",
       "      <th>User Name</th>\n",
       "      <td>везде nan</td>\n",
       "      <td>0</td>\n",
       "      <td>0</td>\n",
       "      <td>1</td>\n",
       "    </tr>\n",
       "    <tr>\n",
       "      <th>Vendor</th>\n",
       "      <td>Код поставщика (215 уникальных значений)</td>\n",
       "      <td>1</td>\n",
       "      <td>0</td>\n",
       "      <td>0</td>\n",
       "    </tr>\n",
       "    <tr>\n",
       "      <th>Vendor Name</th>\n",
       "      <td>неизвестно или не проставлено</td>\n",
       "      <td>1</td>\n",
       "      <td>1</td>\n",
       "      <td>0</td>\n",
       "    </tr>\n",
       "    <tr>\n",
       "      <th>Vendor Industry</th>\n",
       "      <td>везде nan</td>\n",
       "      <td>0</td>\n",
       "      <td>0</td>\n",
       "      <td>1</td>\n",
       "    </tr>\n",
       "    <tr>\n",
       "      <th>Material</th>\n",
       "      <td>Код Материала, который закупается/доставляется...</td>\n",
       "      <td>1</td>\n",
       "      <td>0</td>\n",
       "      <td>0</td>\n",
       "    </tr>\n",
       "    <tr>\n",
       "      <th>Material Description</th>\n",
       "      <td>Описание материала, есть для каждого уникально...</td>\n",
       "      <td>1</td>\n",
       "      <td>0</td>\n",
       "      <td>0</td>\n",
       "    </tr>\n",
       "    <tr>\n",
       "      <th>Purchase Organisation</th>\n",
       "      <td>отдел закупок</td>\n",
       "      <td>1</td>\n",
       "      <td>0</td>\n",
       "      <td>0</td>\n",
       "    </tr>\n",
       "    <tr>\n",
       "      <th>Purchase Organisation Description</th>\n",
       "      <td>Описание отдела закупок. (Либо 3000, либо не п...</td>\n",
       "      <td>1</td>\n",
       "      <td>1</td>\n",
       "      <td>0</td>\n",
       "    </tr>\n",
       "    <tr>\n",
       "      <th>Quantity</th>\n",
       "      <td>количество материала</td>\n",
       "      <td>0</td>\n",
       "      <td>0</td>\n",
       "      <td>1</td>\n",
       "    </tr>\n",
       "    <tr>\n",
       "      <th>Amount in Reporting Currency</th>\n",
       "      <td>цена в валюте отчетности</td>\n",
       "      <td>0</td>\n",
       "      <td>0</td>\n",
       "      <td>1</td>\n",
       "    </tr>\n",
       "    <tr>\n",
       "      <th>Purchase Document</th>\n",
       "      <td>документ покупки</td>\n",
       "      <td>0</td>\n",
       "      <td>0</td>\n",
       "      <td>1</td>\n",
       "    </tr>\n",
       "    <tr>\n",
       "      <th>Purchase Document Line Item</th>\n",
       "      <td>номер строки товара в документе покупки</td>\n",
       "      <td>0</td>\n",
       "      <td>0</td>\n",
       "      <td>0</td>\n",
       "    </tr>\n",
       "    <tr>\n",
       "      <th>Reference Document</th>\n",
       "      <td>документ на которые ссылается документ покупок</td>\n",
       "      <td>0</td>\n",
       "      <td>0</td>\n",
       "      <td>0</td>\n",
       "    </tr>\n",
       "    <tr>\n",
       "      <th>Reference Document Line Item</th>\n",
       "      <td>номер строки товара в Reference Document</td>\n",
       "      <td>0</td>\n",
       "      <td>0</td>\n",
       "      <td>0</td>\n",
       "    </tr>\n",
       "    <tr>\n",
       "      <th>Reference Document</th>\n",
       "      <td>Это ссылочный документ. Через него мы связывае...</td>\n",
       "      <td>0</td>\n",
       "      <td>0</td>\n",
       "      <td>0</td>\n",
       "    </tr>\n",
       "    <tr>\n",
       "      <th>SELECT</th>\n",
       "      <td>Блок процесса, к которому относится событие (П...</td>\n",
       "      <td>0</td>\n",
       "      <td>0</td>\n",
       "      <td>0</td>\n",
       "    </tr>\n",
       "    <tr>\n",
       "      <th>CASE_EVENTATT</th>\n",
       "      <td>Тоже самое, что и CASE</td>\n",
       "      <td>0</td>\n",
       "      <td>0</td>\n",
       "      <td>0</td>\n",
       "    </tr>\n",
       "    <tr>\n",
       "      <th>Context</th>\n",
       "      <td>Какие изменения происходят в данных при внесен...</td>\n",
       "      <td>0</td>\n",
       "      <td>0</td>\n",
       "      <td>1</td>\n",
       "    </tr>\n",
       "    <tr>\n",
       "      <th>START DATE</th>\n",
       "      <td>Начало события</td>\n",
       "      <td>0</td>\n",
       "      <td>0</td>\n",
       "      <td>0</td>\n",
       "    </tr>\n",
       "    <tr>\n",
       "      <th>END DATE</th>\n",
       "      <td>Конец события</td>\n",
       "      <td>0</td>\n",
       "      <td>0</td>\n",
       "      <td>0</td>\n",
       "    </tr>\n",
       "    <tr>\n",
       "      <th>EVENT AND USER</th>\n",
       "      <td>пары (EVENT, USER ID)</td>\n",
       "      <td>0</td>\n",
       "      <td>0</td>\n",
       "      <td>1</td>\n",
       "    </tr>\n",
       "    <tr>\n",
       "      <th>EVENT AND DOCTYPE</th>\n",
       "      <td>пары (EVENT, Document Type Description)</td>\n",
       "      <td>0</td>\n",
       "      <td>0</td>\n",
       "      <td>1</td>\n",
       "    </tr>\n",
       "    <tr>\n",
       "      <th>INVOICES_Q</th>\n",
       "      <td>количество товаров выставленного счета</td>\n",
       "      <td>0</td>\n",
       "      <td>0</td>\n",
       "      <td>1</td>\n",
       "    </tr>\n",
       "    <tr>\n",
       "      <th>INVOICES_A</th>\n",
       "      <td>сумма товаров выставленного счета</td>\n",
       "      <td>0</td>\n",
       "      <td>0</td>\n",
       "      <td>1</td>\n",
       "    </tr>\n",
       "    <tr>\n",
       "      <th>GOODS RECIEVED_Q</th>\n",
       "      <td>количество полученных товаров</td>\n",
       "      <td>0</td>\n",
       "      <td>0</td>\n",
       "      <td>1</td>\n",
       "    </tr>\n",
       "    <tr>\n",
       "      <th>GOODS RECIEVED_A</th>\n",
       "      <td>сумма полученных товаров</td>\n",
       "      <td>0</td>\n",
       "      <td>0</td>\n",
       "      <td>1</td>\n",
       "    </tr>\n",
       "    <tr>\n",
       "      <th>POS_Q</th>\n",
       "      <td>количество товаров в запросе к поставщику</td>\n",
       "      <td>0</td>\n",
       "      <td>0</td>\n",
       "      <td>1</td>\n",
       "    </tr>\n",
       "    <tr>\n",
       "      <th>POS_A</th>\n",
       "      <td>сумма товаров в запросе к поставщику</td>\n",
       "      <td>0</td>\n",
       "      <td>0</td>\n",
       "      <td>1</td>\n",
       "    </tr>\n",
       "  </tbody>\n",
       "</table>\n",
       "</div>"
      ],
      "text/plain": [
       "                                                                            Описание  \\\n",
       "Атрибуты                                                                               \n",
       "CASE                               Идентификатор кейса в формате НОМЕР ДОКУМЕНТА ...   \n",
       "EVENT                                                           Наименование события   \n",
       "EVENT TYPE                         Тип события (Выставление счета, оплата,  доста...   \n",
       "SIMPLIFIED EVENT                   Агрегация некоторых схожих типов событий в оди...   \n",
       "SYS DATE                                         дата внесения в систему (timestamp)   \n",
       "CREATION DATE                                             дата, которую видит клиент   \n",
       "POSTING DATE                                                дата, публикации события   \n",
       "DOCUMENT DATE                                              дата в бумажном документе   \n",
       "Company Code                           Код компании, либо 3000 либо не предоставляет   \n",
       "Company Code Country                                                       везде nan   \n",
       "Company Code Description                         либо unknown, либо не предоставляет   \n",
       "User Type                                                                  везде nan   \n",
       "User Country                                                               везде nan   \n",
       "User Name                                                                  везде nan   \n",
       "Vendor                                      Код поставщика (215 уникальных значений)   \n",
       "Vendor Name                                            неизвестно или не проставлено   \n",
       "Vendor Industry                                                            везде nan   \n",
       "Material                           Код Материала, который закупается/доставляется...   \n",
       "Material Description               Описание материала, есть для каждого уникально...   \n",
       "Purchase Organisation                                                  отдел закупок   \n",
       "Purchase Organisation Description  Описание отдела закупок. (Либо 3000, либо не п...   \n",
       "Quantity                                                        количество материала   \n",
       "Amount in Reporting Currency                                цена в валюте отчетности   \n",
       "Purchase Document                                                   документ покупки   \n",
       "Purchase Document Line Item                  номер строки товара в документе покупки   \n",
       "Reference Document                    документ на которые ссылается документ покупок   \n",
       "Reference Document Line Item                номер строки товара в Reference Document   \n",
       "Reference Document                 Это ссылочный документ. Через него мы связывае...   \n",
       "SELECT                             Блок процесса, к которому относится событие (П...   \n",
       "CASE_EVENTATT                                                 Тоже самое, что и CASE   \n",
       "Context                            Какие изменения происходят в данных при внесен...   \n",
       "START DATE                                                            Начало события   \n",
       "END DATE                                                               Конец события   \n",
       "EVENT AND USER                                                 пары (EVENT, USER ID)   \n",
       "EVENT AND DOCTYPE                            пары (EVENT, Document Type Description)   \n",
       "INVOICES_Q                                    количество товаров выставленного счета   \n",
       "INVOICES_A                                         сумма товаров выставленного счета   \n",
       "GOODS RECIEVED_Q                                       количество полученных товаров   \n",
       "GOODS RECIEVED_A                                            сумма полученных товаров   \n",
       "POS_Q                                      количество товаров в запросе к поставщику   \n",
       "POS_A                                           сумма товаров в запросе к поставщику   \n",
       "\n",
       "                                   Not set  Unknown  nan  \n",
       "Атрибуты                                                  \n",
       "CASE                                     0        0    0  \n",
       "EVENT                                    0        0    0  \n",
       "EVENT TYPE                               0        0    0  \n",
       "SIMPLIFIED EVENT                         0        0    0  \n",
       "SYS DATE                                 0        0    1  \n",
       "CREATION DATE                            0        0    1  \n",
       "POSTING DATE                             0        0    1  \n",
       "DOCUMENT DATE                            0        0    1  \n",
       "Company Code                             0        0    0  \n",
       "Company Code Country                     0        0    1  \n",
       "Company Code Description                 0        1    0  \n",
       "User Type                                0        0    1  \n",
       "User Country                             0        0    1  \n",
       "User Name                                0        0    1  \n",
       "Vendor                                   1        0    0  \n",
       "Vendor Name                              1        1    0  \n",
       "Vendor Industry                          0        0    1  \n",
       "Material                                 1        0    0  \n",
       "Material Description                     1        0    0  \n",
       "Purchase Organisation                    1        0    0  \n",
       "Purchase Organisation Description        1        1    0  \n",
       "Quantity                                 0        0    1  \n",
       "Amount in Reporting Currency             0        0    1  \n",
       "Purchase Document                        0        0    1  \n",
       "Purchase Document Line Item              0        0    0  \n",
       "Reference Document                       0        0    0  \n",
       "Reference Document Line Item             0        0    0  \n",
       "Reference Document                       0        0    0  \n",
       "SELECT                                   0        0    0  \n",
       "CASE_EVENTATT                            0        0    0  \n",
       "Context                                  0        0    1  \n",
       "START DATE                               0        0    0  \n",
       "END DATE                                 0        0    0  \n",
       "EVENT AND USER                           0        0    1  \n",
       "EVENT AND DOCTYPE                        0        0    1  \n",
       "INVOICES_Q                               0        0    1  \n",
       "INVOICES_A                               0        0    1  \n",
       "GOODS RECIEVED_Q                         0        0    1  \n",
       "GOODS RECIEVED_A                         0        0    1  \n",
       "POS_Q                                    0        0    1  \n",
       "POS_A                                    0        0    1  "
      ]
     },
     "execution_count": 139,
     "metadata": {},
     "output_type": "execute_result"
    }
   ],
   "source": [
    "df"
   ]
  },
  {
   "cell_type": "code",
   "execution_count": 140,
   "metadata": {
    "ExecuteTime": {
     "end_time": "2018-01-25T10:29:40.300925Z",
     "start_time": "2018-01-25T10:29:40.294335Z"
    },
    "collapsed": true,
    "deletable": true,
    "editable": true
   },
   "outputs": [],
   "source": [
    "df.to_csv(\"DataDescription/DataDescription.csv\")"
   ]
  },
  {
   "cell_type": "code",
   "execution_count": 6,
   "metadata": {
    "ExecuteTime": {
     "end_time": "2018-01-26T08:23:40.599913Z",
     "start_time": "2018-01-26T08:23:40.445417Z"
    },
    "collapsed": false,
    "deletable": true,
    "editable": true
   },
   "outputs": [
    {
     "data": {
      "text/html": [
       "<div>\n",
       "<style>\n",
       "    .dataframe thead tr:only-child th {\n",
       "        text-align: right;\n",
       "    }\n",
       "\n",
       "    .dataframe thead th {\n",
       "        text-align: left;\n",
       "    }\n",
       "\n",
       "    .dataframe tbody tr th {\n",
       "        vertical-align: top;\n",
       "    }\n",
       "</style>\n",
       "<table border=\"1\" class=\"dataframe\">\n",
       "  <thead>\n",
       "    <tr style=\"text-align: right;\">\n",
       "      <th></th>\n",
       "      <th>Document Type</th>\n",
       "      <th>Document Type Description</th>\n",
       "    </tr>\n",
       "  </thead>\n",
       "  <tbody>\n",
       "    <tr>\n",
       "      <th>0</th>\n",
       "      <td>RE</td>\n",
       "      <td>Vendor invoice</td>\n",
       "    </tr>\n",
       "    <tr>\n",
       "      <th>1</th>\n",
       "      <td>RE</td>\n",
       "      <td>Vendor invoice</td>\n",
       "    </tr>\n",
       "    <tr>\n",
       "      <th>2</th>\n",
       "      <td>RE</td>\n",
       "      <td>Vendor invoice</td>\n",
       "    </tr>\n",
       "    <tr>\n",
       "      <th>3</th>\n",
       "      <td>RE</td>\n",
       "      <td>Vendor invoice</td>\n",
       "    </tr>\n",
       "    <tr>\n",
       "      <th>4</th>\n",
       "      <td>RE</td>\n",
       "      <td>Vendor invoice</td>\n",
       "    </tr>\n",
       "    <tr>\n",
       "      <th>5</th>\n",
       "      <td>RE</td>\n",
       "      <td>Vendor invoice</td>\n",
       "    </tr>\n",
       "    <tr>\n",
       "      <th>6</th>\n",
       "      <td>RE</td>\n",
       "      <td>Vendor invoice</td>\n",
       "    </tr>\n",
       "    <tr>\n",
       "      <th>7</th>\n",
       "      <td>RE</td>\n",
       "      <td>Vendor invoice</td>\n",
       "    </tr>\n",
       "    <tr>\n",
       "      <th>8</th>\n",
       "      <td>RE</td>\n",
       "      <td>Vendor invoice</td>\n",
       "    </tr>\n",
       "    <tr>\n",
       "      <th>9</th>\n",
       "      <td>RE</td>\n",
       "      <td>Vendor invoice</td>\n",
       "    </tr>\n",
       "    <tr>\n",
       "      <th>10</th>\n",
       "      <td>RE</td>\n",
       "      <td>Vendor invoice</td>\n",
       "    </tr>\n",
       "    <tr>\n",
       "      <th>11</th>\n",
       "      <td>RE</td>\n",
       "      <td>Vendor invoice</td>\n",
       "    </tr>\n",
       "    <tr>\n",
       "      <th>12</th>\n",
       "      <td>RE</td>\n",
       "      <td>Vendor invoice</td>\n",
       "    </tr>\n",
       "    <tr>\n",
       "      <th>13</th>\n",
       "      <td>RE</td>\n",
       "      <td>Vendor invoice</td>\n",
       "    </tr>\n",
       "    <tr>\n",
       "      <th>14</th>\n",
       "      <td>RE</td>\n",
       "      <td>Vendor invoice</td>\n",
       "    </tr>\n",
       "    <tr>\n",
       "      <th>15</th>\n",
       "      <td>RE</td>\n",
       "      <td>Vendor invoice</td>\n",
       "    </tr>\n",
       "    <tr>\n",
       "      <th>16</th>\n",
       "      <td>RE</td>\n",
       "      <td>Vendor invoice</td>\n",
       "    </tr>\n",
       "    <tr>\n",
       "      <th>17</th>\n",
       "      <td>RE</td>\n",
       "      <td>Vendor invoice</td>\n",
       "    </tr>\n",
       "    <tr>\n",
       "      <th>18</th>\n",
       "      <td>RE</td>\n",
       "      <td>Vendor invoice</td>\n",
       "    </tr>\n",
       "    <tr>\n",
       "      <th>19</th>\n",
       "      <td>RE</td>\n",
       "      <td>Vendor invoice</td>\n",
       "    </tr>\n",
       "    <tr>\n",
       "      <th>20</th>\n",
       "      <td>RE</td>\n",
       "      <td>Vendor invoice</td>\n",
       "    </tr>\n",
       "    <tr>\n",
       "      <th>21</th>\n",
       "      <td>RE</td>\n",
       "      <td>Vendor invoice</td>\n",
       "    </tr>\n",
       "    <tr>\n",
       "      <th>22</th>\n",
       "      <td>RE</td>\n",
       "      <td>Vendor invoice</td>\n",
       "    </tr>\n",
       "    <tr>\n",
       "      <th>23</th>\n",
       "      <td>RE</td>\n",
       "      <td>Vendor invoice</td>\n",
       "    </tr>\n",
       "    <tr>\n",
       "      <th>24</th>\n",
       "      <td>RE</td>\n",
       "      <td>Vendor invoice</td>\n",
       "    </tr>\n",
       "    <tr>\n",
       "      <th>25</th>\n",
       "      <td>RE</td>\n",
       "      <td>Vendor invoice</td>\n",
       "    </tr>\n",
       "    <tr>\n",
       "      <th>26</th>\n",
       "      <td>RE</td>\n",
       "      <td>Vendor invoice</td>\n",
       "    </tr>\n",
       "    <tr>\n",
       "      <th>27</th>\n",
       "      <td>RE</td>\n",
       "      <td>Vendor invoice</td>\n",
       "    </tr>\n",
       "    <tr>\n",
       "      <th>28</th>\n",
       "      <td>RE</td>\n",
       "      <td>Vendor invoice</td>\n",
       "    </tr>\n",
       "    <tr>\n",
       "      <th>29</th>\n",
       "      <td>RE</td>\n",
       "      <td>Vendor invoice</td>\n",
       "    </tr>\n",
       "    <tr>\n",
       "      <th>...</th>\n",
       "      <td>...</td>\n",
       "      <td>...</td>\n",
       "    </tr>\n",
       "    <tr>\n",
       "      <th>83632</th>\n",
       "      <td>Not set</td>\n",
       "      <td>Not set</td>\n",
       "    </tr>\n",
       "    <tr>\n",
       "      <th>83633</th>\n",
       "      <td>Not set</td>\n",
       "      <td>Not set</td>\n",
       "    </tr>\n",
       "    <tr>\n",
       "      <th>83634</th>\n",
       "      <td>Not set</td>\n",
       "      <td>Not set</td>\n",
       "    </tr>\n",
       "    <tr>\n",
       "      <th>83635</th>\n",
       "      <td>Not set</td>\n",
       "      <td>Not set</td>\n",
       "    </tr>\n",
       "    <tr>\n",
       "      <th>83636</th>\n",
       "      <td>Not set</td>\n",
       "      <td>Not set</td>\n",
       "    </tr>\n",
       "    <tr>\n",
       "      <th>83637</th>\n",
       "      <td>Not set</td>\n",
       "      <td>Not set</td>\n",
       "    </tr>\n",
       "    <tr>\n",
       "      <th>83638</th>\n",
       "      <td>Not set</td>\n",
       "      <td>Not set</td>\n",
       "    </tr>\n",
       "    <tr>\n",
       "      <th>83639</th>\n",
       "      <td>Not set</td>\n",
       "      <td>Not set</td>\n",
       "    </tr>\n",
       "    <tr>\n",
       "      <th>83640</th>\n",
       "      <td>Not set</td>\n",
       "      <td>Not set</td>\n",
       "    </tr>\n",
       "    <tr>\n",
       "      <th>83641</th>\n",
       "      <td>Not set</td>\n",
       "      <td>Not set</td>\n",
       "    </tr>\n",
       "    <tr>\n",
       "      <th>83642</th>\n",
       "      <td>Not set</td>\n",
       "      <td>Not set</td>\n",
       "    </tr>\n",
       "    <tr>\n",
       "      <th>83643</th>\n",
       "      <td>Not set</td>\n",
       "      <td>Not set</td>\n",
       "    </tr>\n",
       "    <tr>\n",
       "      <th>83644</th>\n",
       "      <td>Not set</td>\n",
       "      <td>Not set</td>\n",
       "    </tr>\n",
       "    <tr>\n",
       "      <th>83645</th>\n",
       "      <td>Not set</td>\n",
       "      <td>Not set</td>\n",
       "    </tr>\n",
       "    <tr>\n",
       "      <th>83646</th>\n",
       "      <td>Not set</td>\n",
       "      <td>Not set</td>\n",
       "    </tr>\n",
       "    <tr>\n",
       "      <th>83647</th>\n",
       "      <td>Not set</td>\n",
       "      <td>Not set</td>\n",
       "    </tr>\n",
       "    <tr>\n",
       "      <th>83648</th>\n",
       "      <td>Not set</td>\n",
       "      <td>Not set</td>\n",
       "    </tr>\n",
       "    <tr>\n",
       "      <th>83649</th>\n",
       "      <td>Not set</td>\n",
       "      <td>Not set</td>\n",
       "    </tr>\n",
       "    <tr>\n",
       "      <th>83650</th>\n",
       "      <td>Not set</td>\n",
       "      <td>Not set</td>\n",
       "    </tr>\n",
       "    <tr>\n",
       "      <th>83651</th>\n",
       "      <td>Not set</td>\n",
       "      <td>Not set</td>\n",
       "    </tr>\n",
       "    <tr>\n",
       "      <th>83652</th>\n",
       "      <td>Not set</td>\n",
       "      <td>Not set</td>\n",
       "    </tr>\n",
       "    <tr>\n",
       "      <th>83653</th>\n",
       "      <td>Not set</td>\n",
       "      <td>Not set</td>\n",
       "    </tr>\n",
       "    <tr>\n",
       "      <th>83654</th>\n",
       "      <td>Not set</td>\n",
       "      <td>Not set</td>\n",
       "    </tr>\n",
       "    <tr>\n",
       "      <th>83655</th>\n",
       "      <td>Not set</td>\n",
       "      <td>Not set</td>\n",
       "    </tr>\n",
       "    <tr>\n",
       "      <th>83656</th>\n",
       "      <td>Not set</td>\n",
       "      <td>Not set</td>\n",
       "    </tr>\n",
       "    <tr>\n",
       "      <th>83657</th>\n",
       "      <td>Not set</td>\n",
       "      <td>Not set</td>\n",
       "    </tr>\n",
       "    <tr>\n",
       "      <th>83658</th>\n",
       "      <td>Not set</td>\n",
       "      <td>Not set</td>\n",
       "    </tr>\n",
       "    <tr>\n",
       "      <th>83659</th>\n",
       "      <td>Not set</td>\n",
       "      <td>Not set</td>\n",
       "    </tr>\n",
       "    <tr>\n",
       "      <th>83660</th>\n",
       "      <td>Not set</td>\n",
       "      <td>Not set</td>\n",
       "    </tr>\n",
       "    <tr>\n",
       "      <th>83661</th>\n",
       "      <td>Not set</td>\n",
       "      <td>Not set</td>\n",
       "    </tr>\n",
       "  </tbody>\n",
       "</table>\n",
       "<p>83662 rows × 2 columns</p>\n",
       "</div>"
      ],
      "text/plain": [
       "      Document Type Document Type Description\n",
       "0                RE            Vendor invoice\n",
       "1                RE            Vendor invoice\n",
       "2                RE            Vendor invoice\n",
       "3                RE            Vendor invoice\n",
       "4                RE            Vendor invoice\n",
       "5                RE            Vendor invoice\n",
       "6                RE            Vendor invoice\n",
       "7                RE            Vendor invoice\n",
       "8                RE            Vendor invoice\n",
       "9                RE            Vendor invoice\n",
       "10               RE            Vendor invoice\n",
       "11               RE            Vendor invoice\n",
       "12               RE            Vendor invoice\n",
       "13               RE            Vendor invoice\n",
       "14               RE            Vendor invoice\n",
       "15               RE            Vendor invoice\n",
       "16               RE            Vendor invoice\n",
       "17               RE            Vendor invoice\n",
       "18               RE            Vendor invoice\n",
       "19               RE            Vendor invoice\n",
       "20               RE            Vendor invoice\n",
       "21               RE            Vendor invoice\n",
       "22               RE            Vendor invoice\n",
       "23               RE            Vendor invoice\n",
       "24               RE            Vendor invoice\n",
       "25               RE            Vendor invoice\n",
       "26               RE            Vendor invoice\n",
       "27               RE            Vendor invoice\n",
       "28               RE            Vendor invoice\n",
       "29               RE            Vendor invoice\n",
       "...             ...                       ...\n",
       "83632       Not set                   Not set\n",
       "83633       Not set                   Not set\n",
       "83634       Not set                   Not set\n",
       "83635       Not set                   Not set\n",
       "83636       Not set                   Not set\n",
       "83637       Not set                   Not set\n",
       "83638       Not set                   Not set\n",
       "83639       Not set                   Not set\n",
       "83640       Not set                   Not set\n",
       "83641       Not set                   Not set\n",
       "83642       Not set                   Not set\n",
       "83643       Not set                   Not set\n",
       "83644       Not set                   Not set\n",
       "83645       Not set                   Not set\n",
       "83646       Not set                   Not set\n",
       "83647       Not set                   Not set\n",
       "83648       Not set                   Not set\n",
       "83649       Not set                   Not set\n",
       "83650       Not set                   Not set\n",
       "83651       Not set                   Not set\n",
       "83652       Not set                   Not set\n",
       "83653       Not set                   Not set\n",
       "83654       Not set                   Not set\n",
       "83655       Not set                   Not set\n",
       "83656       Not set                   Not set\n",
       "83657       Not set                   Not set\n",
       "83658       Not set                   Not set\n",
       "83659       Not set                   Not set\n",
       "83660       Not set                   Not set\n",
       "83661       Not set                   Not set\n",
       "\n",
       "[83662 rows x 2 columns]"
      ]
     },
     "execution_count": 6,
     "metadata": {},
     "output_type": "execute_result"
    }
   ],
   "source": [
    "log[[\"Document Type\", \"Document Type Description\"]]"
   ]
  },
  {
   "cell_type": "code",
   "execution_count": 15,
   "metadata": {
    "ExecuteTime": {
     "end_time": "2018-01-26T09:16:41.467052Z",
     "start_time": "2018-01-26T09:16:41.463373Z"
    },
    "collapsed": true,
    "deletable": true,
    "editable": true
   },
   "outputs": [],
   "source": [
    "docdesc = open(\"DataDescription/DocumentDescriptionDicts.txt\", \"r\", encoding=\"utf-8\")"
   ]
  },
  {
   "cell_type": "code",
   "execution_count": 16,
   "metadata": {
    "ExecuteTime": {
     "end_time": "2018-01-26T09:16:42.124734Z",
     "start_time": "2018-01-26T09:16:42.113335Z"
    },
    "collapsed": false,
    "deletable": true,
    "editable": true
   },
   "outputs": [],
   "source": [
    "desc2rus = {}\n",
    "while True:\n",
    "    line = docdesc.readline()\n",
    "    if \"Код типа к его описанию:\" in line:\n",
    "        break\n",
    "    if \"–\" in line:\n",
    "        desc, rus = line.split(\"–\")\n",
    "        desc = desc.strip()\n",
    "        rus = rus.strip()\n",
    "        desc2rus[desc] = rus"
   ]
  },
  {
   "cell_type": "code",
   "execution_count": 17,
   "metadata": {
    "ExecuteTime": {
     "end_time": "2018-01-26T09:16:45.245664Z",
     "start_time": "2018-01-26T09:16:45.239433Z"
    },
    "collapsed": false,
    "deletable": true,
    "editable": true
   },
   "outputs": [
    {
     "data": {
      "text/plain": [
       "{'Account maintenance': 'обслуживание счета',\n",
       " 'Clearing': 'удаление запроса',\n",
       " 'Customer payment': 'платеж заказчика',\n",
       " 'Goods receipt': 'чек товаров',\n",
       " 'IntraBU AP doc cost': 'внутригрупповые операции: когда компания закупает у своих дочерних предприятий',\n",
       " 'Vendor credit note': 'запрос поставщика на изменение цены',\n",
       " 'Vendor invoice': 'запрос поставщику',\n",
       " 'Vendor payment': 'платеж поставщика'}"
      ]
     },
     "execution_count": 17,
     "metadata": {},
     "output_type": "execute_result"
    }
   ],
   "source": [
    "desc2rus"
   ]
  },
  {
   "cell_type": "code",
   "execution_count": 19,
   "metadata": {
    "ExecuteTime": {
     "end_time": "2018-01-26T09:20:19.965788Z",
     "start_time": "2018-01-26T09:20:19.912427Z"
    },
    "collapsed": true,
    "deletable": true,
    "editable": true
   },
   "outputs": [],
   "source": [
    "type2desc = one2two(log, \"Document Type\", \"Document Type Description\")"
   ]
  },
  {
   "cell_type": "code",
   "execution_count": 26,
   "metadata": {
    "ExecuteTime": {
     "end_time": "2018-01-26T09:25:34.992901Z",
     "start_time": "2018-01-26T09:25:34.983923Z"
    },
    "collapsed": false,
    "deletable": true,
    "editable": true
   },
   "outputs": [],
   "source": [
    "types = []\n",
    "for key in type2desc.keys():\n",
    "    desc = type2desc[key][0]\n",
    "    rus = desc2rus.get(desc, \"\")\n",
    "    doctype = (key, desc, rus)\n",
    "    types.append(doctype)"
   ]
  },
  {
   "cell_type": "code",
   "execution_count": 27,
   "metadata": {
    "ExecuteTime": {
     "end_time": "2018-01-26T09:25:35.657125Z",
     "start_time": "2018-01-26T09:25:35.642166Z"
    },
    "collapsed": false,
    "deletable": true,
    "editable": true
   },
   "outputs": [
    {
     "data": {
      "text/plain": [
       "[(nan, 'Vendor credit note', 'запрос поставщика на изменение цены'),\n",
       " ('ZUBD', nan, ''),\n",
       " ('Not set', 'Not set', ''),\n",
       " ('ZUBI', nan, ''),\n",
       " ('RE', 'Vendor invoice', 'запрос поставщику'),\n",
       " ('SB', 'Clearing', 'удаление запроса'),\n",
       " ('KZ', 'Vendor payment', 'платеж поставщика'),\n",
       " ('ZUB', nan, ''),\n",
       " ('ZUDI', nan, ''),\n",
       " ('WE', 'Goods receipt', 'чек товаров'),\n",
       " ('BE',\n",
       "  'IntraBU AP doc cost',\n",
       "  'внутригрупповые операции: когда компания закупает у своих дочерних предприятий'),\n",
       " ('ZSC', nan, ''),\n",
       " ('ZNB', nan, ''),\n",
       " ('NB', nan, ''),\n",
       " ('DZ', 'Customer payment', 'платеж заказчика'),\n",
       " ('BA', 'IntraBU AP doc -cost', ''),\n",
       " ('KP', 'Account maintenance', 'обслуживание счета')]"
      ]
     },
     "execution_count": 27,
     "metadata": {},
     "output_type": "execute_result"
    }
   ],
   "source": [
    "types"
   ]
  },
  {
   "cell_type": "code",
   "execution_count": 30,
   "metadata": {
    "ExecuteTime": {
     "end_time": "2018-01-26T09:26:54.478892Z",
     "start_time": "2018-01-26T09:26:54.466845Z"
    },
    "collapsed": false,
    "deletable": true,
    "editable": true
   },
   "outputs": [],
   "source": [
    "doctypes = pd.DataFrame(types, columns=[\"Код документа\", \"Описание\", \"Перевод\"])\n",
    "doctypes.set_index(\"Код документа\", inplace=True)"
   ]
  },
  {
   "cell_type": "code",
   "execution_count": 32,
   "metadata": {
    "ExecuteTime": {
     "end_time": "2018-01-26T09:27:44.789928Z",
     "start_time": "2018-01-26T09:27:44.781993Z"
    },
    "collapsed": false,
    "deletable": true,
    "editable": true
   },
   "outputs": [],
   "source": [
    "doctypes.to_csv(\"DataDescription/DocumentTypesDescription.csv\")"
   ]
  },
  {
   "cell_type": "code",
   "execution_count": null,
   "metadata": {
    "collapsed": true,
    "deletable": true,
    "editable": true
   },
   "outputs": [],
   "source": []
  }
 ],
 "metadata": {
  "kernelspec": {
   "display_name": "Python 3",
   "language": "python",
   "name": "python3"
  },
  "language_info": {
   "codemirror_mode": {
    "name": "ipython",
    "version": 3
   },
   "file_extension": ".py",
   "mimetype": "text/x-python",
   "name": "python",
   "nbconvert_exporter": "python",
   "pygments_lexer": "ipython3",
   "version": "3.5.1"
  },
  "toc": {
   "colors": {
    "hover_highlight": "#DAA520",
    "navigate_num": "#000000",
    "navigate_text": "#333333",
    "running_highlight": "#FF0000",
    "selected_highlight": "#FFD700",
    "sidebar_border": "#EEEEEE",
    "wrapper_background": "#FFFFFF"
   },
   "moveMenuLeft": true,
   "nav_menu": {
    "height": "12px",
    "width": "252px"
   },
   "navigate_menu": true,
   "number_sections": true,
   "sideBar": true,
   "threshold": 4,
   "toc_cell": false,
   "toc_section_display": "block",
   "toc_window_display": false,
   "widenNotebook": false
  },
  "widgets": {
   "state": {},
   "version": "1.1.1"
  }
 },
 "nbformat": 4,
 "nbformat_minor": 2
}
